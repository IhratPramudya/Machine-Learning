{
 "cells": [
  {
   "cell_type": "code",
   "execution_count": 44,
   "id": "a48e42b3-6ee9-481a-be4b-273cdcb6d136",
   "metadata": {},
   "outputs": [],
   "source": [
    "import os\n",
    "os.environ[\"OMP_NUM_THREADS\"] = \"1\""
   ]
  },
  {
   "cell_type": "code",
   "execution_count": 45,
   "id": "b4fa1b91",
   "metadata": {},
   "outputs": [],
   "source": [
    "import pandas as pd\n",
    "import seaborn as sns\n",
    "import plotly.express as px\n",
    "import matplotlib.pyplot as plt\n",
    "\n",
    "from sklearn.cluster import KMeans\n",
    "from sklearn.metrics import silhouette_score\n",
    "from yellowbrick.cluster import SilhouetteVisualizer\n",
    "from sklearn.preprocessing import StandardScaler"
   ]
  },
  {
   "cell_type": "code",
   "execution_count": 46,
   "id": "1b6bbe8d",
   "metadata": {},
   "outputs": [
    {
     "data": {
      "text/html": [
       "<div>\n",
       "<style scoped>\n",
       "    .dataframe tbody tr th:only-of-type {\n",
       "        vertical-align: middle;\n",
       "    }\n",
       "\n",
       "    .dataframe tbody tr th {\n",
       "        vertical-align: top;\n",
       "    }\n",
       "\n",
       "    .dataframe thead th {\n",
       "        text-align: right;\n",
       "    }\n",
       "</style>\n",
       "<table border=\"1\" class=\"dataframe\">\n",
       "  <thead>\n",
       "    <tr style=\"text-align: right;\">\n",
       "      <th></th>\n",
       "      <th>PUSKESMAS</th>\n",
       "      <th>Desa/Kelurahan</th>\n",
       "      <th>JUMLAH BALITA</th>\n",
       "      <th>STUNTING</th>\n",
       "      <th>persent</th>\n",
       "    </tr>\n",
       "  </thead>\n",
       "  <tbody>\n",
       "    <tr>\n",
       "      <th>0</th>\n",
       "      <td>WONOTUNGGAL</td>\n",
       "      <td>SILURAH</td>\n",
       "      <td>113</td>\n",
       "      <td>11</td>\n",
       "      <td>9.734513</td>\n",
       "    </tr>\n",
       "    <tr>\n",
       "      <th>1</th>\n",
       "      <td>WONOTUNGGAL</td>\n",
       "      <td>SODONG</td>\n",
       "      <td>100</td>\n",
       "      <td>7</td>\n",
       "      <td>7.000000</td>\n",
       "    </tr>\n",
       "    <tr>\n",
       "      <th>2</th>\n",
       "      <td>WONOTUNGGAL</td>\n",
       "      <td>GRINGGINGSARI</td>\n",
       "      <td>122</td>\n",
       "      <td>22</td>\n",
       "      <td>18.032787</td>\n",
       "    </tr>\n",
       "    <tr>\n",
       "      <th>3</th>\n",
       "      <td>WONOTUNGGAL</td>\n",
       "      <td>KEDUNGMALANG</td>\n",
       "      <td>152</td>\n",
       "      <td>9</td>\n",
       "      <td>5.921053</td>\n",
       "    </tr>\n",
       "    <tr>\n",
       "      <th>4</th>\n",
       "      <td>WONOTUNGGAL</td>\n",
       "      <td>SENDANG</td>\n",
       "      <td>156</td>\n",
       "      <td>11</td>\n",
       "      <td>7.051282</td>\n",
       "    </tr>\n",
       "    <tr>\n",
       "      <th>...</th>\n",
       "      <td>...</td>\n",
       "      <td>...</td>\n",
       "      <td>...</td>\n",
       "      <td>...</td>\n",
       "      <td>...</td>\n",
       "    </tr>\n",
       "    <tr>\n",
       "      <th>243</th>\n",
       "      <td>WARUNGASEM</td>\n",
       "      <td>CANDIARENG</td>\n",
       "      <td>184</td>\n",
       "      <td>17</td>\n",
       "      <td>9.239130</td>\n",
       "    </tr>\n",
       "    <tr>\n",
       "      <th>244</th>\n",
       "      <td>WARUNGASEM</td>\n",
       "      <td>LEBO</td>\n",
       "      <td>159</td>\n",
       "      <td>5</td>\n",
       "      <td>3.144654</td>\n",
       "    </tr>\n",
       "    <tr>\n",
       "      <th>245</th>\n",
       "      <td>WARUNGASEM</td>\n",
       "      <td>MENGUNENG</td>\n",
       "      <td>119</td>\n",
       "      <td>4</td>\n",
       "      <td>3.361345</td>\n",
       "    </tr>\n",
       "    <tr>\n",
       "      <th>246</th>\n",
       "      <td>WARUNGASEM</td>\n",
       "      <td>TERBAN</td>\n",
       "      <td>154</td>\n",
       "      <td>4</td>\n",
       "      <td>2.597403</td>\n",
       "    </tr>\n",
       "    <tr>\n",
       "      <th>247</th>\n",
       "      <td>WARUNGASEM</td>\n",
       "      <td>SIJONO</td>\n",
       "      <td>122</td>\n",
       "      <td>1</td>\n",
       "      <td>0.819672</td>\n",
       "    </tr>\n",
       "  </tbody>\n",
       "</table>\n",
       "<p>248 rows × 5 columns</p>\n",
       "</div>"
      ],
      "text/plain": [
       "       PUSKESMAS Desa/Kelurahan  JUMLAH BALITA  STUNTING    persent\n",
       "0    WONOTUNGGAL        SILURAH            113        11   9.734513\n",
       "1    WONOTUNGGAL         SODONG            100         7   7.000000\n",
       "2    WONOTUNGGAL  GRINGGINGSARI            122        22  18.032787\n",
       "3    WONOTUNGGAL   KEDUNGMALANG            152         9   5.921053\n",
       "4    WONOTUNGGAL        SENDANG            156        11   7.051282\n",
       "..           ...            ...            ...       ...        ...\n",
       "243   WARUNGASEM     CANDIARENG            184        17   9.239130\n",
       "244   WARUNGASEM           LEBO            159         5   3.144654\n",
       "245   WARUNGASEM      MENGUNENG            119         4   3.361345\n",
       "246   WARUNGASEM         TERBAN            154         4   2.597403\n",
       "247   WARUNGASEM         SIJONO            122         1   0.819672\n",
       "\n",
       "[248 rows x 5 columns]"
      ]
     },
     "execution_count": 46,
     "metadata": {},
     "output_type": "execute_result"
    }
   ],
   "source": [
    "stunting_data = pd.read_excel(\"./stunting-data.xlsx\")\n",
    "\n",
    "stunting_data "
   ]
  },
  {
   "cell_type": "code",
   "execution_count": 47,
   "id": "592c325a",
   "metadata": {},
   "outputs": [],
   "source": [
    "stunting_data.columns = stunting_data.columns.str.lower().str.replace('/', '_')"
   ]
  },
  {
   "cell_type": "code",
   "execution_count": 48,
   "id": "64995803",
   "metadata": {},
   "outputs": [],
   "source": [
    "stunting_data.columns = stunting_data.columns.str.lower().str.replace(' ', '_')"
   ]
  },
  {
   "cell_type": "code",
   "execution_count": 49,
   "id": "7a031442",
   "metadata": {},
   "outputs": [],
   "source": [
    "stunting_data_fix = stunting_data.drop(columns=[\"desa_kelurahan\", \"persent\"])"
   ]
  },
  {
   "cell_type": "code",
   "execution_count": 50,
   "id": "ed076330",
   "metadata": {},
   "outputs": [
    {
     "data": {
      "text/html": [
       "<div>\n",
       "<style scoped>\n",
       "    .dataframe tbody tr th:only-of-type {\n",
       "        vertical-align: middle;\n",
       "    }\n",
       "\n",
       "    .dataframe tbody tr th {\n",
       "        vertical-align: top;\n",
       "    }\n",
       "\n",
       "    .dataframe thead th {\n",
       "        text-align: right;\n",
       "    }\n",
       "</style>\n",
       "<table border=\"1\" class=\"dataframe\">\n",
       "  <thead>\n",
       "    <tr style=\"text-align: right;\">\n",
       "      <th></th>\n",
       "      <th>puskesmas</th>\n",
       "      <th>jumlah_balita</th>\n",
       "      <th>stunting</th>\n",
       "    </tr>\n",
       "  </thead>\n",
       "  <tbody>\n",
       "    <tr>\n",
       "      <th>0</th>\n",
       "      <td>WONOTUNGGAL</td>\n",
       "      <td>113</td>\n",
       "      <td>11</td>\n",
       "    </tr>\n",
       "    <tr>\n",
       "      <th>1</th>\n",
       "      <td>WONOTUNGGAL</td>\n",
       "      <td>100</td>\n",
       "      <td>7</td>\n",
       "    </tr>\n",
       "    <tr>\n",
       "      <th>2</th>\n",
       "      <td>WONOTUNGGAL</td>\n",
       "      <td>122</td>\n",
       "      <td>22</td>\n",
       "    </tr>\n",
       "    <tr>\n",
       "      <th>3</th>\n",
       "      <td>WONOTUNGGAL</td>\n",
       "      <td>152</td>\n",
       "      <td>9</td>\n",
       "    </tr>\n",
       "    <tr>\n",
       "      <th>4</th>\n",
       "      <td>WONOTUNGGAL</td>\n",
       "      <td>156</td>\n",
       "      <td>11</td>\n",
       "    </tr>\n",
       "    <tr>\n",
       "      <th>...</th>\n",
       "      <td>...</td>\n",
       "      <td>...</td>\n",
       "      <td>...</td>\n",
       "    </tr>\n",
       "    <tr>\n",
       "      <th>243</th>\n",
       "      <td>WARUNGASEM</td>\n",
       "      <td>184</td>\n",
       "      <td>17</td>\n",
       "    </tr>\n",
       "    <tr>\n",
       "      <th>244</th>\n",
       "      <td>WARUNGASEM</td>\n",
       "      <td>159</td>\n",
       "      <td>5</td>\n",
       "    </tr>\n",
       "    <tr>\n",
       "      <th>245</th>\n",
       "      <td>WARUNGASEM</td>\n",
       "      <td>119</td>\n",
       "      <td>4</td>\n",
       "    </tr>\n",
       "    <tr>\n",
       "      <th>246</th>\n",
       "      <td>WARUNGASEM</td>\n",
       "      <td>154</td>\n",
       "      <td>4</td>\n",
       "    </tr>\n",
       "    <tr>\n",
       "      <th>247</th>\n",
       "      <td>WARUNGASEM</td>\n",
       "      <td>122</td>\n",
       "      <td>1</td>\n",
       "    </tr>\n",
       "  </tbody>\n",
       "</table>\n",
       "<p>248 rows × 3 columns</p>\n",
       "</div>"
      ],
      "text/plain": [
       "       puskesmas  jumlah_balita  stunting\n",
       "0    WONOTUNGGAL            113        11\n",
       "1    WONOTUNGGAL            100         7\n",
       "2    WONOTUNGGAL            122        22\n",
       "3    WONOTUNGGAL            152         9\n",
       "4    WONOTUNGGAL            156        11\n",
       "..           ...            ...       ...\n",
       "243   WARUNGASEM            184        17\n",
       "244   WARUNGASEM            159         5\n",
       "245   WARUNGASEM            119         4\n",
       "246   WARUNGASEM            154         4\n",
       "247   WARUNGASEM            122         1\n",
       "\n",
       "[248 rows x 3 columns]"
      ]
     },
     "execution_count": 50,
     "metadata": {},
     "output_type": "execute_result"
    }
   ],
   "source": [
    "stunting_data_fix"
   ]
  },
  {
   "cell_type": "code",
   "execution_count": 51,
   "id": "48cfee38",
   "metadata": {},
   "outputs": [
    {
     "data": {
      "text/plain": [
       "Index(['jumlah_balita', 'stunting'], dtype='object')"
      ]
     },
     "execution_count": 51,
     "metadata": {},
     "output_type": "execute_result"
    }
   ],
   "source": [
    "stunting_data_fix.columns[1:4]"
   ]
  },
  {
   "cell_type": "code",
   "execution_count": 52,
   "id": "bd4922cc",
   "metadata": {},
   "outputs": [
    {
     "data": {
      "image/png": "[encoded data removed]",
      "text/plain": [
       "<Figure size 1900x700 with 1 Axes>"
      ]
     },
     "metadata": {},
     "output_type": "display_data"
    },
    {
     "data": {
      "image/png": "[encoded data removed]",
      "text/plain": [
       "<Figure size 1900x700 with 1 Axes>"
      ]
     },
     "metadata": {},
     "output_type": "display_data"
    }
   ],
   "source": [
    "for column in stunting_data_fix.columns[1:4]:\n",
    "    \n",
    "    plt.figure(figsize=[19, 7])\n",
    "    sns.barplot(x=stunting_data_fix.iloc[:, 0], y=column, data = stunting_data_fix)\n",
    "    \n",
    "    plt.xticks(rotation=90)\n",
    "    plt.title(f\"{column} vs Crop Type\")\n",
    "    plt.show()"
   ]
  },
  {
   "cell_type": "code",
   "execution_count": 53,
   "id": "85c710bc",
   "metadata": {},
   "outputs": [],
   "source": [
    "stunting_data_corr = stunting_data_fix.copy()"
   ]
  },
  {
   "cell_type": "code",
   "execution_count": 54,
   "id": "3b635656",
   "metadata": {},
   "outputs": [
    {
     "data": {
      "text/html": [
       "<div>\n",
       "<style scoped>\n",
       "    .dataframe tbody tr th:only-of-type {\n",
       "        vertical-align: middle;\n",
       "    }\n",
       "\n",
       "    .dataframe tbody tr th {\n",
       "        vertical-align: top;\n",
       "    }\n",
       "\n",
       "    .dataframe thead th {\n",
       "        text-align: right;\n",
       "    }\n",
       "</style>\n",
       "<table border=\"1\" class=\"dataframe\">\n",
       "  <thead>\n",
       "    <tr style=\"text-align: right;\">\n",
       "      <th></th>\n",
       "      <th>puskesmas</th>\n",
       "      <th>jumlah_balita</th>\n",
       "      <th>stunting</th>\n",
       "    </tr>\n",
       "  </thead>\n",
       "  <tbody>\n",
       "    <tr>\n",
       "      <th>0</th>\n",
       "      <td>WONOTUNGGAL</td>\n",
       "      <td>113</td>\n",
       "      <td>11</td>\n",
       "    </tr>\n",
       "    <tr>\n",
       "      <th>1</th>\n",
       "      <td>WONOTUNGGAL</td>\n",
       "      <td>100</td>\n",
       "      <td>7</td>\n",
       "    </tr>\n",
       "    <tr>\n",
       "      <th>2</th>\n",
       "      <td>WONOTUNGGAL</td>\n",
       "      <td>122</td>\n",
       "      <td>22</td>\n",
       "    </tr>\n",
       "    <tr>\n",
       "      <th>3</th>\n",
       "      <td>WONOTUNGGAL</td>\n",
       "      <td>152</td>\n",
       "      <td>9</td>\n",
       "    </tr>\n",
       "    <tr>\n",
       "      <th>4</th>\n",
       "      <td>WONOTUNGGAL</td>\n",
       "      <td>156</td>\n",
       "      <td>11</td>\n",
       "    </tr>\n",
       "    <tr>\n",
       "      <th>...</th>\n",
       "      <td>...</td>\n",
       "      <td>...</td>\n",
       "      <td>...</td>\n",
       "    </tr>\n",
       "    <tr>\n",
       "      <th>243</th>\n",
       "      <td>WARUNGASEM</td>\n",
       "      <td>184</td>\n",
       "      <td>17</td>\n",
       "    </tr>\n",
       "    <tr>\n",
       "      <th>244</th>\n",
       "      <td>WARUNGASEM</td>\n",
       "      <td>159</td>\n",
       "      <td>5</td>\n",
       "    </tr>\n",
       "    <tr>\n",
       "      <th>245</th>\n",
       "      <td>WARUNGASEM</td>\n",
       "      <td>119</td>\n",
       "      <td>4</td>\n",
       "    </tr>\n",
       "    <tr>\n",
       "      <th>246</th>\n",
       "      <td>WARUNGASEM</td>\n",
       "      <td>154</td>\n",
       "      <td>4</td>\n",
       "    </tr>\n",
       "    <tr>\n",
       "      <th>247</th>\n",
       "      <td>WARUNGASEM</td>\n",
       "      <td>122</td>\n",
       "      <td>1</td>\n",
       "    </tr>\n",
       "  </tbody>\n",
       "</table>\n",
       "<p>248 rows × 3 columns</p>\n",
       "</div>"
      ],
      "text/plain": [
       "       puskesmas  jumlah_balita  stunting\n",
       "0    WONOTUNGGAL            113        11\n",
       "1    WONOTUNGGAL            100         7\n",
       "2    WONOTUNGGAL            122        22\n",
       "3    WONOTUNGGAL            152         9\n",
       "4    WONOTUNGGAL            156        11\n",
       "..           ...            ...       ...\n",
       "243   WARUNGASEM            184        17\n",
       "244   WARUNGASEM            159         5\n",
       "245   WARUNGASEM            119         4\n",
       "246   WARUNGASEM            154         4\n",
       "247   WARUNGASEM            122         1\n",
       "\n",
       "[248 rows x 3 columns]"
      ]
     },
     "execution_count": 54,
     "metadata": {},
     "output_type": "execute_result"
    }
   ],
   "source": [
    "stunting_data_corr"
   ]
  },
  {
   "cell_type": "code",
   "execution_count": 55,
   "id": "a5846b42",
   "metadata": {},
   "outputs": [
    {
     "data": {
      "text/html": [
       "<div>\n",
       "<style scoped>\n",
       "    .dataframe tbody tr th:only-of-type {\n",
       "        vertical-align: middle;\n",
       "    }\n",
       "\n",
       "    .dataframe tbody tr th {\n",
       "        vertical-align: top;\n",
       "    }\n",
       "\n",
       "    .dataframe thead th {\n",
       "        text-align: right;\n",
       "    }\n",
       "</style>\n",
       "<table border=\"1\" class=\"dataframe\">\n",
       "  <thead>\n",
       "    <tr style=\"text-align: right;\">\n",
       "      <th></th>\n",
       "      <th>jumlah_balita</th>\n",
       "      <th>stunting</th>\n",
       "    </tr>\n",
       "  </thead>\n",
       "  <tbody>\n",
       "    <tr>\n",
       "      <th>0</th>\n",
       "      <td>113</td>\n",
       "      <td>11</td>\n",
       "    </tr>\n",
       "    <tr>\n",
       "      <th>1</th>\n",
       "      <td>100</td>\n",
       "      <td>7</td>\n",
       "    </tr>\n",
       "    <tr>\n",
       "      <th>2</th>\n",
       "      <td>122</td>\n",
       "      <td>22</td>\n",
       "    </tr>\n",
       "    <tr>\n",
       "      <th>3</th>\n",
       "      <td>152</td>\n",
       "      <td>9</td>\n",
       "    </tr>\n",
       "    <tr>\n",
       "      <th>4</th>\n",
       "      <td>156</td>\n",
       "      <td>11</td>\n",
       "    </tr>\n",
       "    <tr>\n",
       "      <th>...</th>\n",
       "      <td>...</td>\n",
       "      <td>...</td>\n",
       "    </tr>\n",
       "    <tr>\n",
       "      <th>243</th>\n",
       "      <td>184</td>\n",
       "      <td>17</td>\n",
       "    </tr>\n",
       "    <tr>\n",
       "      <th>244</th>\n",
       "      <td>159</td>\n",
       "      <td>5</td>\n",
       "    </tr>\n",
       "    <tr>\n",
       "      <th>245</th>\n",
       "      <td>119</td>\n",
       "      <td>4</td>\n",
       "    </tr>\n",
       "    <tr>\n",
       "      <th>246</th>\n",
       "      <td>154</td>\n",
       "      <td>4</td>\n",
       "    </tr>\n",
       "    <tr>\n",
       "      <th>247</th>\n",
       "      <td>122</td>\n",
       "      <td>1</td>\n",
       "    </tr>\n",
       "  </tbody>\n",
       "</table>\n",
       "<p>248 rows × 2 columns</p>\n",
       "</div>"
      ],
      "text/plain": [
       "     jumlah_balita  stunting\n",
       "0              113        11\n",
       "1              100         7\n",
       "2              122        22\n",
       "3              152         9\n",
       "4              156        11\n",
       "..             ...       ...\n",
       "243            184        17\n",
       "244            159         5\n",
       "245            119         4\n",
       "246            154         4\n",
       "247            122         1\n",
       "\n",
       "[248 rows x 2 columns]"
      ]
     },
     "execution_count": 55,
     "metadata": {},
     "output_type": "execute_result"
    }
   ],
   "source": [
    "stunting_new_data = stunting_data_corr.drop(columns=[\"puskesmas\"])\n",
    "\n",
    "stunting_new_data"
   ]
  },
  {
   "cell_type": "code",
   "execution_count": 56,
   "id": "44c3bc89",
   "metadata": {},
   "outputs": [
    {
     "data": {
      "text/html": [
       "<div>\n",
       "<style scoped>\n",
       "    .dataframe tbody tr th:only-of-type {\n",
       "        vertical-align: middle;\n",
       "    }\n",
       "\n",
       "    .dataframe tbody tr th {\n",
       "        vertical-align: top;\n",
       "    }\n",
       "\n",
       "    .dataframe thead th {\n",
       "        text-align: right;\n",
       "    }\n",
       "</style>\n",
       "<table border=\"1\" class=\"dataframe\">\n",
       "  <thead>\n",
       "    <tr style=\"text-align: right;\">\n",
       "      <th></th>\n",
       "      <th>jumlah_balita</th>\n",
       "      <th>stunting</th>\n",
       "    </tr>\n",
       "  </thead>\n",
       "  <tbody>\n",
       "    <tr>\n",
       "      <th>jumlah_balita</th>\n",
       "      <td>1.000000</td>\n",
       "      <td>0.465708</td>\n",
       "    </tr>\n",
       "    <tr>\n",
       "      <th>stunting</th>\n",
       "      <td>0.465708</td>\n",
       "      <td>1.000000</td>\n",
       "    </tr>\n",
       "  </tbody>\n",
       "</table>\n",
       "</div>"
      ],
      "text/plain": [
       "               jumlah_balita  stunting\n",
       "jumlah_balita       1.000000  0.465708\n",
       "stunting            0.465708  1.000000"
      ]
     },
     "execution_count": 56,
     "metadata": {},
     "output_type": "execute_result"
    }
   ],
   "source": [
    "stunting_corr = stunting_new_data.corr()\n",
    "\n",
    "stunting_corr"
   ]
  },
  {
   "cell_type": "code",
   "execution_count": 57,
   "id": "627c17c8",
   "metadata": {},
   "outputs": [
    {
     "data": {
      "image/png": "[encoded data removed]",
      "text/plain": [
       "<Figure size 1200x800 with 2 Axes>"
      ]
     },
     "metadata": {},
     "output_type": "display_data"
    }
   ],
   "source": [
    "plt.figure(figsize=[12, 8])\n",
    "\n",
    "sns.heatmap(stunting_corr, xticklabels=stunting_corr, \n",
    "            yticklabels=stunting_corr.columns, annot=True)\n",
    "\n",
    "plt.show()"
   ]
  },
  {
   "cell_type": "code",
   "execution_count": 58,
   "id": "a8344a35",
   "metadata": {},
   "outputs": [
    {
     "data": {
      "application/vnd.plotly.v1+json": {
       "config": {
        "plotlyServerURL": "https://plot.ly"
       },
       "data": [
        {
         "hovertemplate": "puskesmas=WONOTUNGGAL<br>jumlah_balita=%{x}<br>stunting=%{y}<extra></extra>",
         "legendgroup": "WONOTUNGGAL",
         "marker": {
          "color": "#636efa",
          "symbol": "circle"
         },
         "mode": "markers",
         "name": "WONOTUNGGAL",
         "orientation": "v",
         "showlegend": true,
         "type": "scatter",
         "x": [
          113,
          100,
          122,
          152,
          156,
          347,
          225,
          226,
          89,
          89,
          112,
          72,
          270,
          126,
          83
         ],
         "xaxis": "x",
         "y": [
          11,
          7,
          22,
          9,
          11,
          22,
          6,
          14,
          9,
          15,
          9,
          8,
          7,
          11,
          11
         ],
         "yaxis": "y"
        },
        {
         "hovertemplate": "puskesmas=BANDAR I<br>jumlah_balita=%{x}<br>stunting=%{y}<extra></extra>",
         "legendgroup": "BANDAR I",
         "marker": {
          "color": "#EF553B",
          "symbol": "circle"
         },
         "mode": "markers",
         "name": "BANDAR I",
         "orientation": "v",
         "showlegend": true,
         "type": "scatter",
         "x": [
          116,
          240,
          316,
          381,
          172,
          132,
          167,
          237,
          119,
          302,
          454
         ],
         "xaxis": "x",
         "y": [
          14,
          44,
          42,
          17,
          16,
          16,
          16,
          22,
          15,
          20,
          54
         ],
         "yaxis": "y"
        },
        {
         "hovertemplate": "puskesmas=BANDAR II<br>jumlah_balita=%{x}<br>stunting=%{y}<extra></extra>",
         "legendgroup": "BANDAR II",
         "marker": {
          "color": "#00cc96",
          "symbol": "circle"
         },
         "mode": "markers",
         "name": "BANDAR II",
         "orientation": "v",
         "showlegend": true,
         "type": "scatter",
         "x": [
          347,
          262,
          206,
          262,
          151,
          175
         ],
         "xaxis": "x",
         "y": [
          18,
          13,
          9,
          15,
          10,
          1
         ],
         "yaxis": "y"
        },
        {
         "hovertemplate": "puskesmas=BLADO I<br>jumlah_balita=%{x}<br>stunting=%{y}<extra></extra>",
         "legendgroup": "BLADO I",
         "marker": {
          "color": "#ab63fa",
          "symbol": "circle"
         },
         "mode": "markers",
         "name": "BLADO I",
         "orientation": "v",
         "showlegend": true,
         "type": "scatter",
         "x": [
          72,
          56,
          115,
          71,
          201,
          217,
          119,
          232,
          139,
          100,
          187,
          120
         ],
         "xaxis": "x",
         "y": [
          7,
          12,
          11,
          8,
          28,
          32,
          10,
          18,
          4,
          10,
          20,
          10
         ],
         "yaxis": "y"
        },
        {
         "hovertemplate": "puskesmas=BLADO II<br>jumlah_balita=%{x}<br>stunting=%{y}<extra></extra>",
         "legendgroup": "BLADO II",
         "marker": {
          "color": "#FFA15A",
          "symbol": "circle"
         },
         "mode": "markers",
         "name": "BLADO II",
         "orientation": "v",
         "showlegend": true,
         "type": "scatter",
         "x": [
          196,
          21,
          57,
          93,
          222,
          194
         ],
         "xaxis": "x",
         "y": [
          30,
          5,
          0,
          16,
          31,
          19
         ],
         "yaxis": "y"
        },
        {
         "hovertemplate": "puskesmas=REBAN<br>jumlah_balita=%{x}<br>stunting=%{y}<extra></extra>",
         "legendgroup": "REBAN",
         "marker": {
          "color": "#19d3f3",
          "symbol": "circle"
         },
         "mode": "markers",
         "name": "REBAN",
         "orientation": "v",
         "showlegend": true,
         "type": "scatter",
         "x": [
          101,
          158,
          61,
          102,
          149,
          169,
          100,
          196,
          158,
          101,
          121,
          112,
          94,
          151,
          94,
          83,
          64,
          145,
          97
         ],
         "xaxis": "x",
         "y": [
          24,
          61,
          18,
          31,
          39,
          27,
          16,
          45,
          46,
          28,
          23,
          17,
          27,
          36,
          17,
          17,
          11,
          24,
          18
         ],
         "yaxis": "y"
        },
        {
         "hovertemplate": "puskesmas=BAWANG<br>jumlah_balita=%{x}<br>stunting=%{y}<extra></extra>",
         "legendgroup": "BAWANG",
         "marker": {
          "color": "#FF6692",
          "symbol": "circle"
         },
         "mode": "markers",
         "name": "BAWANG",
         "orientation": "v",
         "showlegend": true,
         "type": "scatter",
         "x": [
          97,
          230,
          85,
          126,
          64,
          160,
          251,
          230,
          117,
          202,
          97,
          78,
          230,
          240,
          118,
          114,
          156,
          75,
          70,
          169
         ],
         "xaxis": "x",
         "y": [
          43,
          64,
          27,
          43,
          15,
          53,
          27,
          69,
          25,
          40,
          30,
          21,
          29,
          65,
          9,
          42,
          42,
          23,
          24,
          44
         ],
         "yaxis": "y"
        },
        {
         "hovertemplate": "puskesmas=TERSONO<br>jumlah_balita=%{x}<br>stunting=%{y}<extra></extra>",
         "legendgroup": "TERSONO",
         "marker": {
          "color": "#B6E880",
          "symbol": "circle"
         },
         "mode": "markers",
         "name": "TERSONO",
         "orientation": "v",
         "showlegend": true,
         "type": "scatter",
         "x": [
          65,
          118,
          101,
          100,
          168,
          129,
          76,
          113,
          117,
          163,
          146,
          124,
          225,
          233,
          140,
          135,
          168,
          94,
          64,
          71
         ],
         "xaxis": "x",
         "y": [
          3,
          7,
          5,
          3,
          6,
          3,
          4,
          7,
          7,
          0,
          6,
          5,
          13,
          7,
          3,
          6,
          10,
          0,
          1,
          7
         ],
         "yaxis": "y"
        },
        {
         "hovertemplate": "puskesmas=GRINGSING I<br>jumlah_balita=%{x}<br>stunting=%{y}<extra></extra>",
         "legendgroup": "GRINGSING I",
         "marker": {
          "color": "#FF97FF",
          "symbol": "circle"
         },
         "mode": "markers",
         "name": "GRINGSING I",
         "orientation": "v",
         "showlegend": true,
         "type": "scatter",
         "x": [
          347,
          281,
          132,
          206,
          261,
          223,
          172,
          163,
          174,
          213
         ],
         "xaxis": "x",
         "y": [
          9,
          21,
          2,
          13,
          35,
          13,
          13,
          11,
          13,
          9
         ],
         "yaxis": "y"
        },
        {
         "hovertemplate": "puskesmas=GRINGSING II<br>jumlah_balita=%{x}<br>stunting=%{y}<extra></extra>",
         "legendgroup": "GRINGSING II",
         "marker": {
          "color": "#FECB52",
          "symbol": "circle"
         },
         "mode": "markers",
         "name": "GRINGSING II",
         "orientation": "v",
         "showlegend": true,
         "type": "scatter",
         "x": [
          151,
          148,
          175,
          120,
          123
         ],
         "xaxis": "x",
         "y": [
          5,
          7,
          13,
          7,
          14
         ],
         "yaxis": "y"
        },
        {
         "hovertemplate": "puskesmas=LIMPUNG<br>jumlah_balita=%{x}<br>stunting=%{y}<extra></extra>",
         "legendgroup": "LIMPUNG",
         "marker": {
          "color": "#636efa",
          "symbol": "circle"
         },
         "mode": "markers",
         "name": "LIMPUNG",
         "orientation": "v",
         "showlegend": true,
         "type": "scatter",
         "x": [
          235,
          94,
          123,
          165,
          86,
          118,
          118,
          151,
          138,
          197,
          60,
          147,
          141,
          136,
          111,
          148,
          96
         ],
         "xaxis": "x",
         "y": [
          13,
          5,
          32,
          18,
          12,
          13,
          25,
          6,
          11,
          25,
          2,
          35,
          8,
          7,
          13,
          26,
          22
         ],
         "yaxis": "y"
        },
        {
         "hovertemplate": "puskesmas=BANYUPUTIH<br>jumlah_balita=%{x}<br>stunting=%{y}<extra></extra>",
         "legendgroup": "BANYUPUTIH",
         "marker": {
          "color": "#EF553B",
          "symbol": "circle"
         },
         "mode": "markers",
         "name": "BANYUPUTIH",
         "orientation": "v",
         "showlegend": true,
         "type": "scatter",
         "x": [
          135,
          142,
          361,
          260,
          188,
          102,
          146,
          100,
          152,
          211,
          287
         ],
         "xaxis": "x",
         "y": [
          1,
          5,
          1,
          11,
          2,
          0,
          3,
          1,
          4,
          3,
          27
         ],
         "yaxis": "y"
        },
        {
         "hovertemplate": "puskesmas=SUBAH<br>jumlah_balita=%{x}<br>stunting=%{y}<extra></extra>",
         "legendgroup": "SUBAH",
         "marker": {
          "color": "#00cc96",
          "symbol": "circle"
         },
         "mode": "markers",
         "name": "SUBAH",
         "orientation": "v",
         "showlegend": true,
         "type": "scatter",
         "x": [
          104,
          151,
          128,
          170,
          120,
          84,
          177,
          236,
          53,
          182,
          136,
          402,
          268,
          231,
          103,
          128,
          210
         ],
         "xaxis": "x",
         "y": [
          13,
          17,
          12,
          13,
          21,
          7,
          15,
          15,
          4,
          24,
          14,
          14,
          19,
          19,
          11,
          18,
          31
         ],
         "yaxis": "y"
        },
        {
         "hovertemplate": "puskesmas=PECALUNGAN<br>jumlah_balita=%{x}<br>stunting=%{y}<extra></extra>",
         "legendgroup": "PECALUNGAN",
         "marker": {
          "color": "#ab63fa",
          "symbol": "circle"
         },
         "mode": "markers",
         "name": "PECALUNGAN",
         "orientation": "v",
         "showlegend": true,
         "type": "scatter",
         "x": [
          297,
          97,
          265,
          203,
          249,
          69,
          250,
          92,
          101,
          128
         ],
         "xaxis": "x",
         "y": [
          44,
          8,
          55,
          48,
          44,
          6,
          13,
          6,
          19,
          10
         ],
         "yaxis": "y"
        },
        {
         "hovertemplate": "puskesmas=TULIS<br>jumlah_balita=%{x}<br>stunting=%{y}<extra></extra>",
         "legendgroup": "TULIS",
         "marker": {
          "color": "#FFA15A",
          "symbol": "circle"
         },
         "mode": "markers",
         "name": "TULIS",
         "orientation": "v",
         "showlegend": true,
         "type": "scatter",
         "x": [
          263,
          191,
          101,
          98,
          151,
          83,
          113,
          84,
          180,
          167,
          133,
          41,
          60,
          62,
          174,
          22,
          136
         ],
         "xaxis": "x",
         "y": [
          25,
          19,
          16,
          4,
          14,
          1,
          8,
          1,
          23,
          19,
          13,
          8,
          7,
          7,
          29,
          4,
          13
         ],
         "yaxis": "y"
        },
        {
         "hovertemplate": "puskesmas=KANDEMAN<br>jumlah_balita=%{x}<br>stunting=%{y}<extra></extra>",
         "legendgroup": "KANDEMAN",
         "marker": {
          "color": "#19d3f3",
          "symbol": "circle"
         },
         "mode": "markers",
         "name": "KANDEMAN",
         "orientation": "v",
         "showlegend": true,
         "type": "scatter",
         "x": [
          105,
          117,
          167,
          72,
          119,
          221,
          143,
          140,
          98,
          211,
          90,
          269,
          264
         ],
         "xaxis": "x",
         "y": [
          13,
          22,
          28,
          14,
          18,
          27,
          32,
          25,
          22,
          38,
          12,
          34,
          59
         ],
         "yaxis": "y"
        },
        {
         "hovertemplate": "puskesmas=BATANG I<br>jumlah_balita=%{x}<br>stunting=%{y}<extra></extra>",
         "legendgroup": "BATANG I",
         "marker": {
          "color": "#FF6692",
          "symbol": "circle"
         },
         "mode": "markers",
         "name": "BATANG I",
         "orientation": "v",
         "showlegend": true,
         "type": "scatter",
         "x": [
          112,
          380,
          328,
          307,
          307
         ],
         "xaxis": "x",
         "y": [
          5,
          15,
          29,
          28,
          21
         ],
         "yaxis": "y"
        },
        {
         "hovertemplate": "puskesmas=BATANG II<br>jumlah_balita=%{x}<br>stunting=%{y}<extra></extra>",
         "legendgroup": "BATANG II",
         "marker": {
          "color": "#B6E880",
          "symbol": "circle"
         },
         "mode": "markers",
         "name": "BATANG II",
         "orientation": "v",
         "showlegend": true,
         "type": "scatter",
         "x": [
          306,
          364,
          827,
          600
         ],
         "xaxis": "x",
         "y": [
          6,
          10,
          36,
          39
         ],
         "yaxis": "y"
        },
        {
         "hovertemplate": "puskesmas=BATANG III<br>jumlah_balita=%{x}<br>stunting=%{y}<extra></extra>",
         "legendgroup": "BATANG III",
         "marker": {
          "color": "#FF97FF",
          "symbol": "circle"
         },
         "mode": "markers",
         "name": "BATANG III",
         "orientation": "v",
         "showlegend": true,
         "type": "scatter",
         "x": [
          310,
          241,
          340,
          295,
          533,
          138
         ],
         "xaxis": "x",
         "y": [
          63,
          31,
          54,
          66,
          79,
          16
         ],
         "yaxis": "y"
        },
        {
         "hovertemplate": "puskesmas=BATANG IV<br>jumlah_balita=%{x}<br>stunting=%{y}<extra></extra>",
         "legendgroup": "BATANG IV",
         "marker": {
          "color": "#FECB52",
          "symbol": "circle"
         },
         "mode": "markers",
         "name": "BATANG IV",
         "orientation": "v",
         "showlegend": true,
         "type": "scatter",
         "x": [
          731,
          73,
          111,
          64,
          332,
          293
         ],
         "xaxis": "x",
         "y": [
          59,
          7,
          12,
          0,
          29,
          34
         ],
         "yaxis": "y"
        },
        {
         "hovertemplate": "puskesmas=WARUNGASEM<br>jumlah_balita=%{x}<br>stunting=%{y}<extra></extra>",
         "legendgroup": "WARUNGASEM",
         "marker": {
          "color": "#636efa",
          "symbol": "circle"
         },
         "mode": "markers",
         "name": "WARUNGASEM",
         "orientation": "v",
         "showlegend": true,
         "type": "scatter",
         "x": [
          242,
          88,
          94,
          91,
          187,
          163,
          168,
          174,
          168,
          136,
          120,
          279,
          126,
          184,
          159,
          119,
          154,
          122
         ],
         "xaxis": "x",
         "y": [
          14,
          1,
          1,
          2,
          10,
          12,
          5,
          18,
          10,
          3,
          8,
          2,
          6,
          17,
          5,
          4,
          4,
          1
         ],
         "yaxis": "y"
        }
       ],
       "layout": {
        "legend": {
         "title": {
          "text": "puskesmas"
         },
         "tracegroupgap": 0
        },
        "margin": {
         "t": 60
        },
        "template": {
         "data": {
          "bar": [
           {
            "error_x": {
             "color": "#2a3f5f"
            },
            "error_y": {
             "color": "#2a3f5f"
            },
            "marker": {
             "line": {
              "color": "#E5ECF6",
              "width": 0.5
             },
             "pattern": {
              "fillmode": "overlay",
              "size": 10,
              "solidity": 0.2
             }
            },
            "type": "bar"
           }
          ],
          "barpolar": [
           {
            "marker": {
             "line": {
              "color": "#E5ECF6",
              "width": 0.5
             },
             "pattern": {
              "fillmode": "overlay",
              "size": 10,
              "solidity": 0.2
             }
            },
            "type": "barpolar"
           }
          ],
          "carpet": [
           {
            "aaxis": {
             "endlinecolor": "#2a3f5f",
             "gridcolor": "white",
             "linecolor": "white",
             "minorgridcolor": "white",
             "startlinecolor": "#2a3f5f"
            },
            "baxis": {
             "endlinecolor": "#2a3f5f",
             "gridcolor": "white",
             "linecolor": "white",
             "minorgridcolor": "white",
             "startlinecolor": "#2a3f5f"
            },
            "type": "carpet"
           }
          ],
          "choropleth": [
           {
            "colorbar": {
             "outlinewidth": 0,
             "ticks": ""
            },
            "type": "choropleth"
           }
          ],
          "contour": [
           {
            "colorbar": {
             "outlinewidth": 0,
             "ticks": ""
            },
            "colorscale": [
             [
              0,
              "#0d0887"
             ],
             [
              0.1111111111111111,
              "#46039f"
             ],
             [
              0.2222222222222222,
              "#7201a8"
             ],
             [
              0.3333333333333333,
              "#9c179e"
             ],
             [
              0.4444444444444444,
              "#bd3786"
             ],
             [
              0.5555555555555556,
              "#d8576b"
             ],
             [
              0.6666666666666666,
              "#ed7953"
             ],
             [
              0.7777777777777778,
              "#fb9f3a"
             ],
             [
              0.8888888888888888,
              "#fdca26"
             ],
             [
              1,
              "#f0f921"
             ]
            ],
            "type": "contour"
           }
          ],
          "contourcarpet": [
           {
            "colorbar": {
             "outlinewidth": 0,
             "ticks": ""
            },
            "type": "contourcarpet"
           }
          ],
          "heatmap": [
           {
            "colorbar": {
             "outlinewidth": 0,
             "ticks": ""
            },
            "colorscale": [
             [
              0,
              "#0d0887"
             ],
             [
              0.1111111111111111,
              "#46039f"
             ],
             [
              0.2222222222222222,
              "#7201a8"
             ],
             [
              0.3333333333333333,
              "#9c179e"
             ],
             [
              0.4444444444444444,
              "#bd3786"
             ],
             [
              0.5555555555555556,
              "#d8576b"
             ],
             [
              0.6666666666666666,
              "#ed7953"
             ],
             [
              0.7777777777777778,
              "#fb9f3a"
             ],
             [
              0.8888888888888888,
              "#fdca26"
             ],
             [
              1,
              "#f0f921"
             ]
            ],
            "type": "heatmap"
           }
          ],
          "heatmapgl": [
           {
            "colorbar": {
             "outlinewidth": 0,
             "ticks": ""
            },
            "colorscale": [
             [
              0,
              "#0d0887"
             ],
             [
              0.1111111111111111,
              "#46039f"
             ],
             [
              0.2222222222222222,
              "#7201a8"
             ],
             [
              0.3333333333333333,
              "#9c179e"
             ],
             [
              0.4444444444444444,
              "#bd3786"
             ],
             [
              0.5555555555555556,
              "#d8576b"
             ],
             [
              0.6666666666666666,
              "#ed7953"
             ],
             [
              0.7777777777777778,
              "#fb9f3a"
             ],
             [
              0.8888888888888888,
              "#fdca26"
             ],
             [
              1,
              "#f0f921"
             ]
            ],
            "type": "heatmapgl"
           }
          ],
          "histogram": [
           {
            "marker": {
             "pattern": {
              "fillmode": "overlay",
              "size": 10,
              "solidity": 0.2
             }
            },
            "type": "histogram"
           }
          ],
          "histogram2d": [
           {
            "colorbar": {
             "outlinewidth": 0,
             "ticks": ""
            },
            "colorscale": [
             [
              0,
              "#0d0887"
             ],
             [
              0.1111111111111111,
              "#46039f"
             ],
             [
              0.2222222222222222,
              "#7201a8"
             ],
             [
              0.3333333333333333,
              "#9c179e"
             ],
             [
              0.4444444444444444,
              "#bd3786"
             ],
             [
              0.5555555555555556,
              "#d8576b"
             ],
             [
              0.6666666666666666,
              "#ed7953"
             ],
             [
              0.7777777777777778,
              "#fb9f3a"
             ],
             [
              0.8888888888888888,
              "#fdca26"
             ],
             [
              1,
              "#f0f921"
             ]
            ],
            "type": "histogram2d"
           }
          ],
          "histogram2dcontour": [
           {
            "colorbar": {
             "outlinewidth": 0,
             "ticks": ""
            },
            "colorscale": [
             [
              0,
              "#0d0887"
             ],
             [
              0.1111111111111111,
              "#46039f"
             ],
             [
              0.2222222222222222,
              "#7201a8"
             ],
             [
              0.3333333333333333,
              "#9c179e"
             ],
             [
              0.4444444444444444,
              "#bd3786"
             ],
             [
              0.5555555555555556,
              "#d8576b"
             ],
             [
              0.6666666666666666,
              "#ed7953"
             ],
             [
              0.7777777777777778,
              "#fb9f3a"
             ],
             [
              0.8888888888888888,
              "#fdca26"
             ],
             [
              1,
              "#f0f921"
             ]
            ],
            "type": "histogram2dcontour"
           }
          ],
          "mesh3d": [
           {
            "colorbar": {
             "outlinewidth": 0,
             "ticks": ""
            },
            "type": "mesh3d"
           }
          ],
          "parcoords": [
           {
            "line": {
             "colorbar": {
              "outlinewidth": 0,
              "ticks": ""
             }
            },
            "type": "parcoords"
           }
          ],
          "pie": [
           {
            "automargin": true,
            "type": "pie"
           }
          ],
          "scatter": [
           {
            "fillpattern": {
             "fillmode": "overlay",
             "size": 10,
             "solidity": 0.2
            },
            "type": "scatter"
           }
          ],
          "scatter3d": [
           {
            "line": {
             "colorbar": {
              "outlinewidth": 0,
              "ticks": ""
             }
            },
            "marker": {
             "colorbar": {
              "outlinewidth": 0,
              "ticks": ""
             }
            },
            "type": "scatter3d"
           }
          ],
          "scattercarpet": [
           {
            "marker": {
             "colorbar": {
              "outlinewidth": 0,
              "ticks": ""
             }
            },
            "type": "scattercarpet"
           }
          ],
          "scattergeo": [
           {
            "marker": {
             "colorbar": {
              "outlinewidth": 0,
              "ticks": ""
             }
            },
            "type": "scattergeo"
           }
          ],
          "scattergl": [
           {
            "marker": {
             "colorbar": {
              "outlinewidth": 0,
              "ticks": ""
             }
            },
            "type": "scattergl"
           }
          ],
          "scattermapbox": [
           {
            "marker": {
             "colorbar": {
              "outlinewidth": 0,
              "ticks": ""
             }
            },
            "type": "scattermapbox"
           }
          ],
          "scatterpolar": [
           {
            "marker": {
             "colorbar": {
              "outlinewidth": 0,
              "ticks": ""
             }
            },
            "type": "scatterpolar"
           }
          ],
          "scatterpolargl": [
           {
            "marker": {
             "colorbar": {
              "outlinewidth": 0,
              "ticks": ""
             }
            },
            "type": "scatterpolargl"
           }
          ],
          "scatterternary": [
           {
            "marker": {
             "colorbar": {
              "outlinewidth": 0,
              "ticks": ""
             }
            },
            "type": "scatterternary"
           }
          ],
          "surface": [
           {
            "colorbar": {
             "outlinewidth": 0,
             "ticks": ""
            },
            "colorscale": [
             [
              0,
              "#0d0887"
             ],
             [
              0.1111111111111111,
              "#46039f"
             ],
             [
              0.2222222222222222,
              "#7201a8"
             ],
             [
              0.3333333333333333,
              "#9c179e"
             ],
             [
              0.4444444444444444,
              "#bd3786"
             ],
             [
              0.5555555555555556,
              "#d8576b"
             ],
             [
              0.6666666666666666,
              "#ed7953"
             ],
             [
              0.7777777777777778,
              "#fb9f3a"
             ],
             [
              0.8888888888888888,
              "#fdca26"
             ],
             [
              1,
              "#f0f921"
             ]
            ],
            "type": "surface"
           }
          ],
          "table": [
           {
            "cells": {
             "fill": {
              "color": "#EBF0F8"
             },
             "line": {
              "color": "white"
             }
            },
            "header": {
             "fill": {
              "color": "#C8D4E3"
             },
             "line": {
              "color": "white"
             }
            },
            "type": "table"
           }
          ]
         },
         "layout": {
          "annotationdefaults": {
           "arrowcolor": "#2a3f5f",
           "arrowhead": 0,
           "arrowwidth": 1
          },
          "autotypenumbers": "strict",
          "coloraxis": {
           "colorbar": {
            "outlinewidth": 0,
            "ticks": ""
           }
          },
          "colorscale": {
           "diverging": [
            [
             0,
             "#8e0152"
            ],
            [
             0.1,
             "#c51b7d"
            ],
            [
             0.2,
             "#de77ae"
            ],
            [
             0.3,
             "#f1b6da"
            ],
            [
             0.4,
             "#fde0ef"
            ],
            [
             0.5,
             "#f7f7f7"
            ],
            [
             0.6,
             "#e6f5d0"
            ],
            [
             0.7,
             "#b8e186"
            ],
            [
             0.8,
             "#7fbc41"
            ],
            [
             0.9,
             "#4d9221"
            ],
            [
             1,
             "#276419"
            ]
           ],
           "sequential": [
            [
             0,
             "#0d0887"
            ],
            [
             0.1111111111111111,
             "#46039f"
            ],
            [
             0.2222222222222222,
             "#7201a8"
            ],
            [
             0.3333333333333333,
             "#9c179e"
            ],
            [
             0.4444444444444444,
             "#bd3786"
            ],
            [
             0.5555555555555556,
             "#d8576b"
            ],
            [
             0.6666666666666666,
             "#ed7953"
            ],
            [
             0.7777777777777778,
             "#fb9f3a"
            ],
            [
             0.8888888888888888,
             "#fdca26"
            ],
            [
             1,
             "#f0f921"
            ]
           ],
           "sequentialminus": [
            [
             0,
             "#0d0887"
            ],
            [
             0.1111111111111111,
             "#46039f"
            ],
            [
             0.2222222222222222,
             "#7201a8"
            ],
            [
             0.3333333333333333,
             "#9c179e"
            ],
            [
             0.4444444444444444,
             "#bd3786"
            ],
            [
             0.5555555555555556,
             "#d8576b"
            ],
            [
             0.6666666666666666,
             "#ed7953"
            ],
            [
             0.7777777777777778,
             "#fb9f3a"
            ],
            [
             0.8888888888888888,
             "#fdca26"
            ],
            [
             1,
             "#f0f921"
            ]
           ]
          },
          "colorway": [
           "#636efa",
           "#EF553B",
           "#00cc96",
           "#ab63fa",
           "#FFA15A",
           "#19d3f3",
           "#FF6692",
           "#B6E880",
           "#FF97FF",
           "#FECB52"
          ],
          "font": {
           "color": "#2a3f5f"
          },
          "geo": {
           "bgcolor": "white",
           "lakecolor": "white",
           "landcolor": "#E5ECF6",
           "showlakes": true,
           "showland": true,
           "subunitcolor": "white"
          },
          "hoverlabel": {
           "align": "left"
          },
          "hovermode": "closest",
          "mapbox": {
           "style": "light"
          },
          "paper_bgcolor": "white",
          "plot_bgcolor": "#E5ECF6",
          "polar": {
           "angularaxis": {
            "gridcolor": "white",
            "linecolor": "white",
            "ticks": ""
           },
           "bgcolor": "#E5ECF6",
           "radialaxis": {
            "gridcolor": "white",
            "linecolor": "white",
            "ticks": ""
           }
          },
          "scene": {
           "xaxis": {
            "backgroundcolor": "#E5ECF6",
            "gridcolor": "white",
            "gridwidth": 2,
            "linecolor": "white",
            "showbackground": true,
            "ticks": "",
            "zerolinecolor": "white"
           },
           "yaxis": {
            "backgroundcolor": "#E5ECF6",
            "gridcolor": "white",
            "gridwidth": 2,
            "linecolor": "white",
            "showbackground": true,
            "ticks": "",
            "zerolinecolor": "white"
           },
           "zaxis": {
            "backgroundcolor": "#E5ECF6",
            "gridcolor": "white",
            "gridwidth": 2,
            "linecolor": "white",
            "showbackground": true,
            "ticks": "",
            "zerolinecolor": "white"
           }
          },
          "shapedefaults": {
           "line": {
            "color": "#2a3f5f"
           }
          },
          "ternary": {
           "aaxis": {
            "gridcolor": "white",
            "linecolor": "white",
            "ticks": ""
           },
           "baxis": {
            "gridcolor": "white",
            "linecolor": "white",
            "ticks": ""
           },
           "bgcolor": "#E5ECF6",
           "caxis": {
            "gridcolor": "white",
            "linecolor": "white",
            "ticks": ""
           }
          },
          "title": {
           "x": 0.05
          },
          "xaxis": {
           "automargin": true,
           "gridcolor": "white",
           "linecolor": "white",
           "ticks": "",
           "title": {
            "standoff": 15
           },
           "zerolinecolor": "white",
           "zerolinewidth": 2
          },
          "yaxis": {
           "automargin": true,
           "gridcolor": "white",
           "linecolor": "white",
           "ticks": "",
           "title": {
            "standoff": 15
           },
           "zerolinecolor": "white",
           "zerolinewidth": 2
          }
         }
        },
        "xaxis": {
         "anchor": "y",
         "domain": [
          0,
          1
         ],
         "title": {
          "text": "jumlah_balita"
         }
        },
        "yaxis": {
         "anchor": "x",
         "domain": [
          0,
          1
         ],
         "title": {
          "text": "stunting"
         }
        }
       }
      },
      "text/html": [
       "<div>                            <div id=\"3e8c8ece-8d01-477e-933d-a38c08a41414\" class=\"plotly-graph-div\" style=\"height:525px; width:100%;\"></div>            <script type=\"text/javascript\">                require([\"plotly\"], function(Plotly) {                    window.PLOTLYENV=window.PLOTLYENV || {};                                    if (document.getElementById(\"3e8c8ece-8d01-477e-933d-a38c08a41414\")) {                    Plotly.newPlot(                        \"3e8c8ece-8d01-477e-933d-a38c08a41414\",                        [{\"hovertemplate\":\"puskesmas=WONOTUNGGAL<br>jumlah_balita=%{x}<br>stunting=%{y}<extra></extra>\",\"legendgroup\":\"WONOTUNGGAL\",\"marker\":{\"color\":\"#636efa\",\"symbol\":\"circle\"},\"mode\":\"markers\",\"name\":\"WONOTUNGGAL\",\"orientation\":\"v\",\"showlegend\":true,\"x\":[113,100,122,152,156,347,225,226,89,89,112,72,270,126,83],\"xaxis\":\"x\",\"y\":[11,7,22,9,11,22,6,14,9,15,9,8,7,11,11],\"yaxis\":\"y\",\"type\":\"scatter\"},{\"hovertemplate\":\"puskesmas=BANDAR I<br>jumlah_balita=%{x}<br>stunting=%{y}<extra></extra>\",\"legendgroup\":\"BANDAR I\",\"marker\":{\"color\":\"#EF553B\",\"symbol\":\"circle\"},\"mode\":\"markers\",\"name\":\"BANDAR I\",\"orientation\":\"v\",\"showlegend\":true,\"x\":[116,240,316,381,172,132,167,237,119,302,454],\"xaxis\":\"x\",\"y\":[14,44,42,17,16,16,16,22,15,20,54],\"yaxis\":\"y\",\"type\":\"scatter\"},{\"hovertemplate\":\"puskesmas=BANDAR II<br>jumlah_balita=%{x}<br>stunting=%{y}<extra></extra>\",\"legendgroup\":\"BANDAR II\",\"marker\":{\"color\":\"#00cc96\",\"symbol\":\"circle\"},\"mode\":\"markers\",\"name\":\"BANDAR II\",\"orientation\":\"v\",\"showlegend\":true,\"x\":[347,262,206,262,151,175],\"xaxis\":\"x\",\"y\":[18,13,9,15,10,1],\"yaxis\":\"y\",\"type\":\"scatter\"},{\"hovertemplate\":\"puskesmas=BLADO I<br>jumlah_balita=%{x}<br>stunting=%{y}<extra></extra>\",\"legendgroup\":\"BLADO I\",\"marker\":{\"color\":\"#ab63fa\",\"symbol\":\"circle\"},\"mode\":\"markers\",\"name\":\"BLADO I\",\"orientation\":\"v\",\"showlegend\":true,\"x\":[72,56,115,71,201,217,119,232,139,100,187,120],\"xaxis\":\"x\",\"y\":[7,12,11,8,28,32,10,18,4,10,20,10],\"yaxis\":\"y\",\"type\":\"scatter\"},{\"hovertemplate\":\"puskesmas=BLADO II<br>jumlah_balita=%{x}<br>stunting=%{y}<extra></extra>\",\"legendgroup\":\"BLADO II\",\"marker\":{\"color\":\"#FFA15A\",\"symbol\":\"circle\"},\"mode\":\"markers\",\"name\":\"BLADO II\",\"orientation\":\"v\",\"showlegend\":true,\"x\":[196,21,57,93,222,194],\"xaxis\":\"x\",\"y\":[30,5,0,16,31,19],\"yaxis\":\"y\",\"type\":\"scatter\"},{\"hovertemplate\":\"puskesmas=REBAN<br>jumlah_balita=%{x}<br>stunting=%{y}<extra></extra>\",\"legendgroup\":\"REBAN\",\"marker\":{\"color\":\"#19d3f3\",\"symbol\":\"circle\"},\"mode\":\"markers\",\"name\":\"REBAN\",\"orientation\":\"v\",\"showlegend\":true,\"x\":[101,158,61,102,149,169,100,196,158,101,121,112,94,151,94,83,64,145,97],\"xaxis\":\"x\",\"y\":[24,61,18,31,39,27,16,45,46,28,23,17,27,36,17,17,11,24,18],\"yaxis\":\"y\",\"type\":\"scatter\"},{\"hovertemplate\":\"puskesmas=BAWANG<br>jumlah_balita=%{x}<br>stunting=%{y}<extra></extra>\",\"legendgroup\":\"BAWANG\",\"marker\":{\"color\":\"#FF6692\",\"symbol\":\"circle\"},\"mode\":\"markers\",\"name\":\"BAWANG\",\"orientation\":\"v\",\"showlegend\":true,\"x\":[97,230,85,126,64,160,251,230,117,202,97,78,230,240,118,114,156,75,70,169],\"xaxis\":\"x\",\"y\":[43,64,27,43,15,53,27,69,25,40,30,21,29,65,9,42,42,23,24,44],\"yaxis\":\"y\",\"type\":\"scatter\"},{\"hovertemplate\":\"puskesmas=TERSONO<br>jumlah_balita=%{x}<br>stunting=%{y}<extra></extra>\",\"legendgroup\":\"TERSONO\",\"marker\":{\"color\":\"#B6E880\",\"symbol\":\"circle\"},\"mode\":\"markers\",\"name\":\"TERSONO\",\"orientation\":\"v\",\"showlegend\":true,\"x\":[65,118,101,100,168,129,76,113,117,163,146,124,225,233,140,135,168,94,64,71],\"xaxis\":\"x\",\"y\":[3,7,5,3,6,3,4,7,7,0,6,5,13,7,3,6,10,0,1,7],\"yaxis\":\"y\",\"type\":\"scatter\"},{\"hovertemplate\":\"puskesmas=GRINGSING I<br>jumlah_balita=%{x}<br>stunting=%{y}<extra></extra>\",\"legendgroup\":\"GRINGSING I\",\"marker\":{\"color\":\"#FF97FF\",\"symbol\":\"circle\"},\"mode\":\"markers\",\"name\":\"GRINGSING I\",\"orientation\":\"v\",\"showlegend\":true,\"x\":[347,281,132,206,261,223,172,163,174,213],\"xaxis\":\"x\",\"y\":[9,21,2,13,35,13,13,11,13,9],\"yaxis\":\"y\",\"type\":\"scatter\"},{\"hovertemplate\":\"puskesmas=GRINGSING II<br>jumlah_balita=%{x}<br>stunting=%{y}<extra></extra>\",\"legendgroup\":\"GRINGSING II\",\"marker\":{\"color\":\"#FECB52\",\"symbol\":\"circle\"},\"mode\":\"markers\",\"name\":\"GRINGSING II\",\"orientation\":\"v\",\"showlegend\":true,\"x\":[151,148,175,120,123],\"xaxis\":\"x\",\"y\":[5,7,13,7,14],\"yaxis\":\"y\",\"type\":\"scatter\"},{\"hovertemplate\":\"puskesmas=LIMPUNG<br>jumlah_balita=%{x}<br>stunting=%{y}<extra></extra>\",\"legendgroup\":\"LIMPUNG\",\"marker\":{\"color\":\"#636efa\",\"symbol\":\"circle\"},\"mode\":\"markers\",\"name\":\"LIMPUNG\",\"orientation\":\"v\",\"showlegend\":true,\"x\":[235,94,123,165,86,118,118,151,138,197,60,147,141,136,111,148,96],\"xaxis\":\"x\",\"y\":[13,5,32,18,12,13,25,6,11,25,2,35,8,7,13,26,22],\"yaxis\":\"y\",\"type\":\"scatter\"},{\"hovertemplate\":\"puskesmas=BANYUPUTIH<br>jumlah_balita=%{x}<br>stunting=%{y}<extra></extra>\",\"legendgroup\":\"BANYUPUTIH\",\"marker\":{\"color\":\"#EF553B\",\"symbol\":\"circle\"},\"mode\":\"markers\",\"name\":\"BANYUPUTIH\",\"orientation\":\"v\",\"showlegend\":true,\"x\":[135,142,361,260,188,102,146,100,152,211,287],\"xaxis\":\"x\",\"y\":[1,5,1,11,2,0,3,1,4,3,27],\"yaxis\":\"y\",\"type\":\"scatter\"},{\"hovertemplate\":\"puskesmas=SUBAH<br>jumlah_balita=%{x}<br>stunting=%{y}<extra></extra>\",\"legendgroup\":\"SUBAH\",\"marker\":{\"color\":\"#00cc96\",\"symbol\":\"circle\"},\"mode\":\"markers\",\"name\":\"SUBAH\",\"orientation\":\"v\",\"showlegend\":true,\"x\":[104,151,128,170,120,84,177,236,53,182,136,402,268,231,103,128,210],\"xaxis\":\"x\",\"y\":[13,17,12,13,21,7,15,15,4,24,14,14,19,19,11,18,31],\"yaxis\":\"y\",\"type\":\"scatter\"},{\"hovertemplate\":\"puskesmas=PECALUNGAN<br>jumlah_balita=%{x}<br>stunting=%{y}<extra></extra>\",\"legendgroup\":\"PECALUNGAN\",\"marker\":{\"color\":\"#ab63fa\",\"symbol\":\"circle\"},\"mode\":\"markers\",\"name\":\"PECALUNGAN\",\"orientation\":\"v\",\"showlegend\":true,\"x\":[297,97,265,203,249,69,250,92,101,128],\"xaxis\":\"x\",\"y\":[44,8,55,48,44,6,13,6,19,10],\"yaxis\":\"y\",\"type\":\"scatter\"},{\"hovertemplate\":\"puskesmas=TULIS<br>jumlah_balita=%{x}<br>stunting=%{y}<extra></extra>\",\"legendgroup\":\"TULIS\",\"marker\":{\"color\":\"#FFA15A\",\"symbol\":\"circle\"},\"mode\":\"markers\",\"name\":\"TULIS\",\"orientation\":\"v\",\"showlegend\":true,\"x\":[263,191,101,98,151,83,113,84,180,167,133,41,60,62,174,22,136],\"xaxis\":\"x\",\"y\":[25,19,16,4,14,1,8,1,23,19,13,8,7,7,29,4,13],\"yaxis\":\"y\",\"type\":\"scatter\"},{\"hovertemplate\":\"puskesmas=KANDEMAN<br>jumlah_balita=%{x}<br>stunting=%{y}<extra></extra>\",\"legendgroup\":\"KANDEMAN\",\"marker\":{\"color\":\"#19d3f3\",\"symbol\":\"circle\"},\"mode\":\"markers\",\"name\":\"KANDEMAN\",\"orientation\":\"v\",\"showlegend\":true,\"x\":[105,117,167,72,119,221,143,140,98,211,90,269,264],\"xaxis\":\"x\",\"y\":[13,22,28,14,18,27,32,25,22,38,12,34,59],\"yaxis\":\"y\",\"type\":\"scatter\"},{\"hovertemplate\":\"puskesmas=BATANG I<br>jumlah_balita=%{x}<br>stunting=%{y}<extra></extra>\",\"legendgroup\":\"BATANG I\",\"marker\":{\"color\":\"#FF6692\",\"symbol\":\"circle\"},\"mode\":\"markers\",\"name\":\"BATANG I\",\"orientation\":\"v\",\"showlegend\":true,\"x\":[112,380,328,307,307],\"xaxis\":\"x\",\"y\":[5,15,29,28,21],\"yaxis\":\"y\",\"type\":\"scatter\"},{\"hovertemplate\":\"puskesmas=BATANG II<br>jumlah_balita=%{x}<br>stunting=%{y}<extra></extra>\",\"legendgroup\":\"BATANG II\",\"marker\":{\"color\":\"#B6E880\",\"symbol\":\"circle\"},\"mode\":\"markers\",\"name\":\"BATANG II\",\"orientation\":\"v\",\"showlegend\":true,\"x\":[306,364,827,600],\"xaxis\":\"x\",\"y\":[6,10,36,39],\"yaxis\":\"y\",\"type\":\"scatter\"},{\"hovertemplate\":\"puskesmas=BATANG III<br>jumlah_balita=%{x}<br>stunting=%{y}<extra></extra>\",\"legendgroup\":\"BATANG III\",\"marker\":{\"color\":\"#FF97FF\",\"symbol\":\"circle\"},\"mode\":\"markers\",\"name\":\"BATANG III\",\"orientation\":\"v\",\"showlegend\":true,\"x\":[310,241,340,295,533,138],\"xaxis\":\"x\",\"y\":[63,31,54,66,79,16],\"yaxis\":\"y\",\"type\":\"scatter\"},{\"hovertemplate\":\"puskesmas=BATANG IV<br>jumlah_balita=%{x}<br>stunting=%{y}<extra></extra>\",\"legendgroup\":\"BATANG IV\",\"marker\":{\"color\":\"#FECB52\",\"symbol\":\"circle\"},\"mode\":\"markers\",\"name\":\"BATANG IV\",\"orientation\":\"v\",\"showlegend\":true,\"x\":[731,73,111,64,332,293],\"xaxis\":\"x\",\"y\":[59,7,12,0,29,34],\"yaxis\":\"y\",\"type\":\"scatter\"},{\"hovertemplate\":\"puskesmas=WARUNGASEM<br>jumlah_balita=%{x}<br>stunting=%{y}<extra></extra>\",\"legendgroup\":\"WARUNGASEM\",\"marker\":{\"color\":\"#636efa\",\"symbol\":\"circle\"},\"mode\":\"markers\",\"name\":\"WARUNGASEM\",\"orientation\":\"v\",\"showlegend\":true,\"x\":[242,88,94,91,187,163,168,174,168,136,120,279,126,184,159,119,154,122],\"xaxis\":\"x\",\"y\":[14,1,1,2,10,12,5,18,10,3,8,2,6,17,5,4,4,1],\"yaxis\":\"y\",\"type\":\"scatter\"}],                        {\"template\":{\"data\":{\"histogram2dcontour\":[{\"type\":\"histogram2dcontour\",\"colorbar\":{\"outlinewidth\":0,\"ticks\":\"\"},\"colorscale\":[[0.0,\"#0d0887\"],[0.1111111111111111,\"#46039f\"],[0.2222222222222222,\"#7201a8\"],[0.3333333333333333,\"#9c179e\"],[0.4444444444444444,\"#bd3786\"],[0.5555555555555556,\"#d8576b\"],[0.6666666666666666,\"#ed7953\"],[0.7777777777777778,\"#fb9f3a\"],[0.8888888888888888,\"#fdca26\"],[1.0,\"#f0f921\"]]}],\"choropleth\":[{\"type\":\"choropleth\",\"colorbar\":{\"outlinewidth\":0,\"ticks\":\"\"}}],\"histogram2d\":[{\"type\":\"histogram2d\",\"colorbar\":{\"outlinewidth\":0,\"ticks\":\"\"},\"colorscale\":[[0.0,\"#0d0887\"],[0.1111111111111111,\"#46039f\"],[0.2222222222222222,\"#7201a8\"],[0.3333333333333333,\"#9c179e\"],[0.4444444444444444,\"#bd3786\"],[0.5555555555555556,\"#d8576b\"],[0.6666666666666666,\"#ed7953\"],[0.7777777777777778,\"#fb9f3a\"],[0.8888888888888888,\"#fdca26\"],[1.0,\"#f0f921\"]]}],\"heatmap\":[{\"type\":\"heatmap\",\"colorbar\":{\"outlinewidth\":0,\"ticks\":\"\"},\"colorscale\":[[0.0,\"#0d0887\"],[0.1111111111111111,\"#46039f\"],[0.2222222222222222,\"#7201a8\"],[0.3333333333333333,\"#9c179e\"],[0.4444444444444444,\"#bd3786\"],[0.5555555555555556,\"#d8576b\"],[0.6666666666666666,\"#ed7953\"],[0.7777777777777778,\"#fb9f3a\"],[0.8888888888888888,\"#fdca26\"],[1.0,\"#f0f921\"]]}],\"heatmapgl\":[{\"type\":\"heatmapgl\",\"colorbar\":{\"outlinewidth\":0,\"ticks\":\"\"},\"colorscale\":[[0.0,\"#0d0887\"],[0.1111111111111111,\"#46039f\"],[0.2222222222222222,\"#7201a8\"],[0.3333333333333333,\"#9c179e\"],[0.4444444444444444,\"#bd3786\"],[0.5555555555555556,\"#d8576b\"],[0.6666666666666666,\"#ed7953\"],[0.7777777777777778,\"#fb9f3a\"],[0.8888888888888888,\"#fdca26\"],[1.0,\"#f0f921\"]]}],\"contourcarpet\":[{\"type\":\"contourcarpet\",\"colorbar\":{\"outlinewidth\":0,\"ticks\":\"\"}}],\"contour\":[{\"type\":\"contour\",\"colorbar\":{\"outlinewidth\":0,\"ticks\":\"\"},\"colorscale\":[[0.0,\"#0d0887\"],[0.1111111111111111,\"#46039f\"],[0.2222222222222222,\"#7201a8\"],[0.3333333333333333,\"#9c179e\"],[0.4444444444444444,\"#bd3786\"],[0.5555555555555556,\"#d8576b\"],[0.6666666666666666,\"#ed7953\"],[0.7777777777777778,\"#fb9f3a\"],[0.8888888888888888,\"#fdca26\"],[1.0,\"#f0f921\"]]}],\"surface\":[{\"type\":\"surface\",\"colorbar\":{\"outlinewidth\":0,\"ticks\":\"\"},\"colorscale\":[[0.0,\"#0d0887\"],[0.1111111111111111,\"#46039f\"],[0.2222222222222222,\"#7201a8\"],[0.3333333333333333,\"#9c179e\"],[0.4444444444444444,\"#bd3786\"],[0.5555555555555556,\"#d8576b\"],[0.6666666666666666,\"#ed7953\"],[0.7777777777777778,\"#fb9f3a\"],[0.8888888888888888,\"#fdca26\"],[1.0,\"#f0f921\"]]}],\"mesh3d\":[{\"type\":\"mesh3d\",\"colorbar\":{\"outlinewidth\":0,\"ticks\":\"\"}}],\"scatter\":[{\"fillpattern\":{\"fillmode\":\"overlay\",\"size\":10,\"solidity\":0.2},\"type\":\"scatter\"}],\"parcoords\":[{\"type\":\"parcoords\",\"line\":{\"colorbar\":{\"outlinewidth\":0,\"ticks\":\"\"}}}],\"scatterpolargl\":[{\"type\":\"scatterpolargl\",\"marker\":{\"colorbar\":{\"outlinewidth\":0,\"ticks\":\"\"}}}],\"bar\":[{\"error_x\":{\"color\":\"#2a3f5f\"},\"error_y\":{\"color\":\"#2a3f5f\"},\"marker\":{\"line\":{\"color\":\"#E5ECF6\",\"width\":0.5},\"pattern\":{\"fillmode\":\"overlay\",\"size\":10,\"solidity\":0.2}},\"type\":\"bar\"}],\"scattergeo\":[{\"type\":\"scattergeo\",\"marker\":{\"colorbar\":{\"outlinewidth\":0,\"ticks\":\"\"}}}],\"scatterpolar\":[{\"type\":\"scatterpolar\",\"marker\":{\"colorbar\":{\"outlinewidth\":0,\"ticks\":\"\"}}}],\"histogram\":[{\"marker\":{\"pattern\":{\"fillmode\":\"overlay\",\"size\":10,\"solidity\":0.2}},\"type\":\"histogram\"}],\"scattergl\":[{\"type\":\"scattergl\",\"marker\":{\"colorbar\":{\"outlinewidth\":0,\"ticks\":\"\"}}}],\"scatter3d\":[{\"type\":\"scatter3d\",\"line\":{\"colorbar\":{\"outlinewidth\":0,\"ticks\":\"\"}},\"marker\":{\"colorbar\":{\"outlinewidth\":0,\"ticks\":\"\"}}}],\"scattermapbox\":[{\"type\":\"scattermapbox\",\"marker\":{\"colorbar\":{\"outlinewidth\":0,\"ticks\":\"\"}}}],\"scatterternary\":[{\"type\":\"scatterternary\",\"marker\":{\"colorbar\":{\"outlinewidth\":0,\"ticks\":\"\"}}}],\"scattercarpet\":[{\"type\":\"scattercarpet\",\"marker\":{\"colorbar\":{\"outlinewidth\":0,\"ticks\":\"\"}}}],\"carpet\":[{\"aaxis\":{\"endlinecolor\":\"#2a3f5f\",\"gridcolor\":\"white\",\"linecolor\":\"white\",\"minorgridcolor\":\"white\",\"startlinecolor\":\"#2a3f5f\"},\"baxis\":{\"endlinecolor\":\"#2a3f5f\",\"gridcolor\":\"white\",\"linecolor\":\"white\",\"minorgridcolor\":\"white\",\"startlinecolor\":\"#2a3f5f\"},\"type\":\"carpet\"}],\"table\":[{\"cells\":{\"fill\":{\"color\":\"#EBF0F8\"},\"line\":{\"color\":\"white\"}},\"header\":{\"fill\":{\"color\":\"#C8D4E3\"},\"line\":{\"color\":\"white\"}},\"type\":\"table\"}],\"barpolar\":[{\"marker\":{\"line\":{\"color\":\"#E5ECF6\",\"width\":0.5},\"pattern\":{\"fillmode\":\"overlay\",\"size\":10,\"solidity\":0.2}},\"type\":\"barpolar\"}],\"pie\":[{\"automargin\":true,\"type\":\"pie\"}]},\"layout\":{\"autotypenumbers\":\"strict\",\"colorway\":[\"#636efa\",\"#EF553B\",\"#00cc96\",\"#ab63fa\",\"#FFA15A\",\"#19d3f3\",\"#FF6692\",\"#B6E880\",\"#FF97FF\",\"#FECB52\"],\"font\":{\"color\":\"#2a3f5f\"},\"hovermode\":\"closest\",\"hoverlabel\":{\"align\":\"left\"},\"paper_bgcolor\":\"white\",\"plot_bgcolor\":\"#E5ECF6\",\"polar\":{\"bgcolor\":\"#E5ECF6\",\"angularaxis\":{\"gridcolor\":\"white\",\"linecolor\":\"white\",\"ticks\":\"\"},\"radialaxis\":{\"gridcolor\":\"white\",\"linecolor\":\"white\",\"ticks\":\"\"}},\"ternary\":{\"bgcolor\":\"#E5ECF6\",\"aaxis\":{\"gridcolor\":\"white\",\"linecolor\":\"white\",\"ticks\":\"\"},\"baxis\":{\"gridcolor\":\"white\",\"linecolor\":\"white\",\"ticks\":\"\"},\"caxis\":{\"gridcolor\":\"white\",\"linecolor\":\"white\",\"ticks\":\"\"}},\"coloraxis\":{\"colorbar\":{\"outlinewidth\":0,\"ticks\":\"\"}},\"colorscale\":{\"sequential\":[[0.0,\"#0d0887\"],[0.1111111111111111,\"#46039f\"],[0.2222222222222222,\"#7201a8\"],[0.3333333333333333,\"#9c179e\"],[0.4444444444444444,\"#bd3786\"],[0.5555555555555556,\"#d8576b\"],[0.6666666666666666,\"#ed7953\"],[0.7777777777777778,\"#fb9f3a\"],[0.8888888888888888,\"#fdca26\"],[1.0,\"#f0f921\"]],\"sequentialminus\":[[0.0,\"#0d0887\"],[0.1111111111111111,\"#46039f\"],[0.2222222222222222,\"#7201a8\"],[0.3333333333333333,\"#9c179e\"],[0.4444444444444444,\"#bd3786\"],[0.5555555555555556,\"#d8576b\"],[0.6666666666666666,\"#ed7953\"],[0.7777777777777778,\"#fb9f3a\"],[0.8888888888888888,\"#fdca26\"],[1.0,\"#f0f921\"]],\"diverging\":[[0,\"#8e0152\"],[0.1,\"#c51b7d\"],[0.2,\"#de77ae\"],[0.3,\"#f1b6da\"],[0.4,\"#fde0ef\"],[0.5,\"#f7f7f7\"],[0.6,\"#e6f5d0\"],[0.7,\"#b8e186\"],[0.8,\"#7fbc41\"],[0.9,\"#4d9221\"],[1,\"#276419\"]]},\"xaxis\":{\"gridcolor\":\"white\",\"linecolor\":\"white\",\"ticks\":\"\",\"title\":{\"standoff\":15},\"zerolinecolor\":\"white\",\"automargin\":true,\"zerolinewidth\":2},\"yaxis\":{\"gridcolor\":\"white\",\"linecolor\":\"white\",\"ticks\":\"\",\"title\":{\"standoff\":15},\"zerolinecolor\":\"white\",\"automargin\":true,\"zerolinewidth\":2},\"scene\":{\"xaxis\":{\"backgroundcolor\":\"#E5ECF6\",\"gridcolor\":\"white\",\"linecolor\":\"white\",\"showbackground\":true,\"ticks\":\"\",\"zerolinecolor\":\"white\",\"gridwidth\":2},\"yaxis\":{\"backgroundcolor\":\"#E5ECF6\",\"gridcolor\":\"white\",\"linecolor\":\"white\",\"showbackground\":true,\"ticks\":\"\",\"zerolinecolor\":\"white\",\"gridwidth\":2},\"zaxis\":{\"backgroundcolor\":\"#E5ECF6\",\"gridcolor\":\"white\",\"linecolor\":\"white\",\"showbackground\":true,\"ticks\":\"\",\"zerolinecolor\":\"white\",\"gridwidth\":2}},\"shapedefaults\":{\"line\":{\"color\":\"#2a3f5f\"}},\"annotationdefaults\":{\"arrowcolor\":\"#2a3f5f\",\"arrowhead\":0,\"arrowwidth\":1},\"geo\":{\"bgcolor\":\"white\",\"landcolor\":\"#E5ECF6\",\"subunitcolor\":\"white\",\"showland\":true,\"showlakes\":true,\"lakecolor\":\"white\"},\"title\":{\"x\":0.05},\"mapbox\":{\"style\":\"light\"}}},\"xaxis\":{\"anchor\":\"y\",\"domain\":[0.0,1.0],\"title\":{\"text\":\"jumlah_balita\"}},\"yaxis\":{\"anchor\":\"x\",\"domain\":[0.0,1.0],\"title\":{\"text\":\"stunting\"}},\"legend\":{\"title\":{\"text\":\"puskesmas\"},\"tracegroupgap\":0},\"margin\":{\"t\":60}},                        {\"responsive\": true}                    ).then(function(){\n",
       "                            \n",
       "var gd = document.getElementById('3e8c8ece-8d01-477e-933d-a38c08a41414');\n",
       "var x = new MutationObserver(function (mutations, observer) {{\n",
       "        var display = window.getComputedStyle(gd).display;\n",
       "        if (!display || display === 'none') {{\n",
       "            console.log([gd, 'removed!']);\n",
       "            Plotly.purge(gd);\n",
       "            observer.disconnect();\n",
       "        }}\n",
       "}});\n",
       "\n",
       "// Listen for the removal of the full notebook cells\n",
       "var notebookContainer = gd.closest('#notebook-container');\n",
       "if (notebookContainer) {{\n",
       "    x.observe(notebookContainer, {childList: true});\n",
       "}}\n",
       "\n",
       "// Listen for the clearing of the current output cell\n",
       "var outputEl = gd.closest('.output');\n",
       "if (outputEl) {{\n",
       "    x.observe(outputEl, {childList: true});\n",
       "}}\n",
       "\n",
       "                        })                };                });            </script>        </div>"
      ]
     },
     "metadata": {},
     "output_type": "display_data"
    },
    {
     "data": {
      "text/plain": [
       "<Figure size 1200x800 with 0 Axes>"
      ]
     },
     "metadata": {},
     "output_type": "display_data"
    }
   ],
   "source": [
    "plt.figure(figsize=[12, 8])\n",
    "\n",
    "fig = px.scatter(stunting_data_corr, x=\"jumlah_balita\", y=\"stunting\", color=\"puskesmas\")\n",
    "\n",
    "fig.show()"
   ]
  },
  {
   "cell_type": "code",
   "execution_count": 59,
   "id": "24446afd",
   "metadata": {},
   "outputs": [
    {
     "data": {
      "text/html": [
       "<div>\n",
       "<style scoped>\n",
       "    .dataframe tbody tr th:only-of-type {\n",
       "        vertical-align: middle;\n",
       "    }\n",
       "\n",
       "    .dataframe tbody tr th {\n",
       "        vertical-align: top;\n",
       "    }\n",
       "\n",
       "    .dataframe thead th {\n",
       "        text-align: right;\n",
       "    }\n",
       "</style>\n",
       "<table border=\"1\" class=\"dataframe\">\n",
       "  <thead>\n",
       "    <tr style=\"text-align: right;\">\n",
       "      <th></th>\n",
       "      <th>jumlah_balita</th>\n",
       "      <th>stunting</th>\n",
       "    </tr>\n",
       "  </thead>\n",
       "  <tbody>\n",
       "    <tr>\n",
       "      <th>0</th>\n",
       "      <td>-0.556328</td>\n",
       "      <td>-0.470327</td>\n",
       "    </tr>\n",
       "    <tr>\n",
       "      <th>1</th>\n",
       "      <td>-0.683210</td>\n",
       "      <td>-0.733477</td>\n",
       "    </tr>\n",
       "    <tr>\n",
       "      <th>2</th>\n",
       "      <td>-0.468487</td>\n",
       "      <td>0.253335</td>\n",
       "    </tr>\n",
       "    <tr>\n",
       "      <th>3</th>\n",
       "      <td>-0.175683</td>\n",
       "      <td>-0.601902</td>\n",
       "    </tr>\n",
       "    <tr>\n",
       "      <th>4</th>\n",
       "      <td>-0.136642</td>\n",
       "      <td>-0.470327</td>\n",
       "    </tr>\n",
       "  </tbody>\n",
       "</table>\n",
       "</div>"
      ],
      "text/plain": [
       "   jumlah_balita  stunting\n",
       "0      -0.556328 -0.470327\n",
       "1      -0.683210 -0.733477\n",
       "2      -0.468487  0.253335\n",
       "3      -0.175683 -0.601902\n",
       "4      -0.136642 -0.470327"
      ]
     },
     "execution_count": 59,
     "metadata": {},
     "output_type": "execute_result"
    }
   ],
   "source": [
    "scaler = StandardScaler()\n",
    "\n",
    "X_stunting = pd.DataFrame(data=scaler.fit_transform(stunting_new_data), \n",
    "                     columns=stunting_new_data.columns)\n",
    "\n",
    "X_stunting.head()"
   ]
  },
  {
   "cell_type": "code",
   "execution_count": 60,
   "id": "63acd7cd",
   "metadata": {},
   "outputs": [
    {
     "data": {
      "text/html": [
       "<div>\n",
       "<style scoped>\n",
       "    .dataframe tbody tr th:only-of-type {\n",
       "        vertical-align: middle;\n",
       "    }\n",
       "\n",
       "    .dataframe tbody tr th {\n",
       "        vertical-align: top;\n",
       "    }\n",
       "\n",
       "    .dataframe thead th {\n",
       "        text-align: right;\n",
       "    }\n",
       "</style>\n",
       "<table border=\"1\" class=\"dataframe\">\n",
       "  <thead>\n",
       "    <tr style=\"text-align: right;\">\n",
       "      <th></th>\n",
       "      <th>jumlah_balita</th>\n",
       "      <th>stunting</th>\n",
       "    </tr>\n",
       "  </thead>\n",
       "  <tbody>\n",
       "    <tr>\n",
       "      <th>count</th>\n",
       "      <td>2.480000e+02</td>\n",
       "      <td>2.480000e+02</td>\n",
       "    </tr>\n",
       "    <tr>\n",
       "      <th>mean</th>\n",
       "      <td>7.162729e-18</td>\n",
       "      <td>3.939501e-17</td>\n",
       "    </tr>\n",
       "    <tr>\n",
       "      <th>std</th>\n",
       "      <td>1.002022e+00</td>\n",
       "      <td>1.002022e+00</td>\n",
       "    </tr>\n",
       "    <tr>\n",
       "      <th>min</th>\n",
       "      <td>-1.454262e+00</td>\n",
       "      <td>-1.193989e+00</td>\n",
       "    </tr>\n",
       "    <tr>\n",
       "      <th>25%</th>\n",
       "      <td>-6.661301e-01</td>\n",
       "      <td>-7.334768e-01</td>\n",
       "    </tr>\n",
       "    <tr>\n",
       "      <th>50%</th>\n",
       "      <td>-2.391236e-01</td>\n",
       "      <td>-2.729648e-01</td>\n",
       "    </tr>\n",
       "    <tr>\n",
       "      <th>75%</th>\n",
       "      <td>4.050461e-01</td>\n",
       "      <td>4.506970e-01</td>\n",
       "    </tr>\n",
       "    <tr>\n",
       "      <th>max</th>\n",
       "      <td>6.412417e+00</td>\n",
       "      <td>4.003218e+00</td>\n",
       "    </tr>\n",
       "  </tbody>\n",
       "</table>\n",
       "</div>"
      ],
      "text/plain": [
       "       jumlah_balita      stunting\n",
       "count   2.480000e+02  2.480000e+02\n",
       "mean    7.162729e-18  3.939501e-17\n",
       "std     1.002022e+00  1.002022e+00\n",
       "min    -1.454262e+00 -1.193989e+00\n",
       "25%    -6.661301e-01 -7.334768e-01\n",
       "50%    -2.391236e-01 -2.729648e-01\n",
       "75%     4.050461e-01  4.506970e-01\n",
       "max     6.412417e+00  4.003218e+00"
      ]
     },
     "execution_count": 60,
     "metadata": {},
     "output_type": "execute_result"
    }
   ],
   "source": [
    "X_stunting.describe()"
   ]
  },
  {
   "cell_type": "code",
   "execution_count": 61,
   "id": "1f351c1e",
   "metadata": {},
   "outputs": [
    {
     "data": {
      "application/vnd.plotly.v1+json": {
       "config": {
        "plotlyServerURL": "https://plot.ly"
       },
       "data": [
        {
         "hovertemplate": "jumlah_balita=%{x}<br>stunting=%{y}<extra></extra>",
         "legendgroup": "",
         "marker": {
          "color": "#636efa",
          "symbol": "circle"
         },
         "mode": "markers",
         "name": "",
         "orientation": "v",
         "showlegend": false,
         "type": "scatter",
         "x": [
          -0.5563284204209862,
          -0.6832103408678777,
          -0.46848709088083046,
          -0.17568265908031142,
          -0.13664206817357555,
          1.7275461476230622,
          0.5368081249676182,
          0.5465682726943022,
          -0.7905719658614013,
          -0.7905719658614013,
          -0.5660885681476702,
          -0.9564944772150288,
          0.9760147726683968,
          -0.42944649997409456,
          -0.8491328522215051,
          -0.5270479772409342,
          0.6832103408678777,
          1.4249815680958593,
          2.059391170330317,
          0.019520295453367933,
          -0.37088561361399075,
          -0.029280443180051904,
          0.6539298976878258,
          -0.49776753406088237,
          1.2883394999222837,
          2.7718819543782467,
          1.7275461476230622,
          0.897933590854925,
          0.35136531816062283,
          0.897933590854925,
          -0.18544280680699538,
          0.04880073863341984,
          -0.9564944772150288,
          -1.1126568408419724,
          -0.5368081249676182,
          -0.9662546249417128,
          0.302564579527203,
          0.45872694315414647,
          -0.49776753406088237,
          0.605129159054406,
          -0.302564579527203,
          -0.6832103408678777,
          0.16592251135362746,
          -0.4880073863341984,
          0.2537638408937832,
          -1.4542620112759113,
          -1.1028966931152884,
          -0.7515313749546655,
          0.5075276817875664,
          0.23424354544041523,
          -0.6734501931411938,
          -0.11712177272020761,
          -1.0638561022085524,
          -0.6636900454145098,
          -0.20496310226036332,
          -0.009760147726683967,
          -0.6832103408678777,
          0.2537638408937832,
          -0.11712177272020761,
          -0.6734501931411938,
          -0.4782472386075144,
          -0.5660885681476702,
          -0.7417712272279815,
          -0.18544280680699538,
          -0.7417712272279815,
          -0.8491328522215051,
          -1.0345756590285005,
          -0.2440036931670992,
          -0.7124907840479296,
          -0.7124907840479296,
          0.585608863601038,
          -0.8296125567681373,
          -0.42944649997409456,
          -1.0345756590285005,
          -0.09760147726683968,
          0.7905719658614013,
          0.585608863601038,
          -0.5172878295142502,
          0.31232472725388694,
          -0.7124907840479296,
          -0.897933590854925,
          0.585608863601038,
          0.6832103408678777,
          -0.5075276817875664,
          -0.5465682726943022,
          -0.13664206817357555,
          -0.9272140340349769,
          -0.9760147726683968,
          -0.009760147726683967,
          -1.0248155113018167,
          -0.5075276817875664,
          -0.6734501931411938,
          -0.6832103408678777,
          -0.019520295453367933,
          -0.40016605679404266,
          -0.9174538863082929,
          -0.5563284204209862,
          -0.5172878295142502,
          -0.06832103408678777,
          -0.23424354544041523,
          -0.4489667954274625,
          0.5368081249676182,
          0.61488930678109,
          -0.292804431800519,
          -0.34160517043393884,
          -0.019520295453367933,
          -0.7417712272279815,
          -1.0345756590285005,
          -0.9662546249417128,
          1.7275461476230622,
          1.0833763976619204,
          -0.37088561361399075,
          0.35136531816062283,
          0.8881734431282411,
          0.5172878295142502,
          0.019520295453367933,
          -0.06832103408678777,
          0.03904059090673587,
          0.41968635224741063,
          -0.18544280680699538,
          -0.21472324998704728,
          0.04880073863341984,
          -0.4880073863341984,
          -0.45872694315414647,
          0.6344096022344579,
          -0.7417712272279815,
          -0.45872694315414647,
          -0.04880073863341984,
          -0.8198524090414533,
          -0.5075276817875664,
          -0.5075276817875664,
          -0.18544280680699538,
          -0.31232472725388694,
          0.2635239886204671,
          -1.0736162499352364,
          -0.22448339771373124,
          -0.2830442840738351,
          -0.3318450227072549,
          -0.575848715874354,
          -0.21472324998704728,
          -0.7222509317746136,
          -0.34160517043393884,
          -0.2732841363471511,
          1.8641882157966378,
          0.8784132954015571,
          0.17568265908031142,
          -0.6636900454145098,
          -0.23424354544041523,
          -0.6832103408678777,
          -0.17568265908031142,
          0.40016605679404266,
          1.141937284022024,
          -0.6441697499611418,
          -0.18544280680699538,
          -0.40992620452072664,
          0,
          -0.4880073863341984,
          -0.8393727044948213,
          0.06832103408678777,
          0.6441697499611418,
          -1.141937284022024,
          0.11712177272020761,
          -0.3318450227072549,
          2.2643542725906807,
          0.9564944772150288,
          0.595369011327722,
          -0.6539298976878258,
          -0.40992620452072664,
          0.3904059090673587,
          1.239538761288864,
          -0.7124907840479296,
          0.9272140340349769,
          0.3220848749805709,
          0.7710516704080335,
          -0.9857749203950807,
          0.7808118181347175,
          -0.7612915226813495,
          -0.6734501931411938,
          -0.40992620452072664,
          0.907693738581609,
          0.20496310226036332,
          -0.6734501931411938,
          -0.7027306363212457,
          -0.18544280680699538,
          -0.8491328522215051,
          -0.5563284204209862,
          -0.8393727044948213,
          0.09760147726683968,
          -0.029280443180051904,
          -0.3611254658873068,
          -1.2590590567422317,
          -1.0736162499352364,
          -1.0540959544818684,
          0.03904059090673587,
          -1.4445018635492273,
          -0.3318450227072549,
          -0.6344096022344579,
          -0.5172878295142502,
          -0.029280443180051904,
          -0.9564944772150288,
          -0.49776753406088237,
          0.49776753406088237,
          -0.2635239886204671,
          -0.292804431800519,
          -0.7027306363212457,
          0.40016605679404266,
          -0.7808118181347175,
          0.9662546249417128,
          0.9174538863082929,
          -0.5660885681476702,
          2.0496310226036334,
          1.542103340816067,
          1.3371402385557036,
          1.3371402385557036,
          1.3273800908290196,
          1.8934686589766898,
          6.412417056431367,
          4.196863522474106,
          1.3664206817357554,
          0.6929704885945617,
          1.6592251135362746,
          1.220018465835496,
          3.54293362478628,
          -0.31232472725388694,
          5.475442874669706,
          -0.9467343294883449,
          -0.575848715874354,
          -1.0345756590285005,
          1.5811439317228027,
          1.200498170382128,
          0.7027306363212457,
          -0.8003321135880853,
          -0.7417712272279815,
          -0.7710516704080335,
          0.16592251135362746,
          -0.06832103408678777,
          -0.019520295453367933,
          0.03904059090673587,
          -0.019520295453367933,
          -0.3318450227072549,
          -0.4880073863341984,
          1.0638561022085524,
          -0.42944649997409456,
          0.13664206817357555,
          -0.10736162499352364,
          -0.49776753406088237,
          -0.15616236362694347,
          -0.46848709088083046
         ],
         "xaxis": "x",
         "y": [
          -0.47032707066410195,
          -0.7334767909679876,
          0.25333466017158346,
          -0.6019019308160447,
          -0.47032707066410195,
          0.25333466017158346,
          -0.7992642210439589,
          -0.2729647804361877,
          -0.6019019308160447,
          -0.20717735036021634,
          -0.6019019308160447,
          -0.6676893608920161,
          -0.7334767909679876,
          -0.47032707066410195,
          -0.47032707066410195,
          -0.2729647804361877,
          1.7006581218429542,
          1.5690832616910115,
          -0.07560249020827355,
          -0.14138992028424494,
          -0.14138992028424494,
          -0.14138992028424494,
          0.25333466017158346,
          -0.20717735036021634,
          0.12175980001964067,
          2.3585324226026683,
          -0.00981506013230214,
          -0.33875221051215915,
          -0.6019019308160447,
          -0.20717735036021634,
          -0.5361145007400734,
          -1.128201371423816,
          -0.7334767909679876,
          -0.4045396405881305,
          -0.47032707066410195,
          -0.6676893608920161,
          0.6480592406274118,
          0.9112089609312974,
          -0.5361145007400734,
          -0.00981506013230214,
          -0.9308390811959018,
          -0.5361145007400734,
          0.12175980001964067,
          -0.5361145007400734,
          0.7796341007793547,
          -0.8650516511199303,
          -1.1939888014997873,
          -0.14138992028424494,
          0.845421530855326,
          0.05597236994366926,
          0.38490952032352627,
          2.819044433134468,
          -0.00981506013230214,
          0.845421530855326,
          1.3717209714630973,
          0.5822718105514405,
          -0.14138992028424494,
          1.7664455519189257,
          1.832232981994897,
          0.6480592406274118,
          0.31912209024755483,
          -0.07560249020827355,
          0.5822718105514405,
          1.1743586812351832,
          -0.07560249020827355,
          -0.07560249020827355,
          -0.47032707066410195,
          0.38490952032352627,
          -0.00981506013230214,
          1.6348706917669829,
          3.0164067233623824,
          0.5822718105514405,
          1.6348706917669829,
          -0.20717735036021634,
          2.2927449925266967,
          0.5822718105514405,
          3.345343873742239,
          0.45069695039949764,
          1.4375084015390687,
          0.7796341007793547,
          0.18754723009561206,
          0.7138466707033833,
          3.0821941534383535,
          -0.6019019308160447,
          1.5690832616910115,
          1.5690832616910115,
          0.31912209024755483,
          0.38490952032352627,
          1.7006581218429542,
          -0.9966265112718732,
          -0.7334767909679876,
          -0.8650516511199303,
          -0.9966265112718732,
          -0.7992642210439589,
          -0.9966265112718732,
          -0.9308390811959018,
          -0.7334767909679876,
          -0.7334767909679876,
          -1.1939888014997873,
          -0.7992642210439589,
          -0.8650516511199303,
          -0.33875221051215915,
          -0.7334767909679876,
          -0.9966265112718732,
          -0.7992642210439589,
          -0.5361145007400734,
          -1.1939888014997873,
          -1.128201371423816,
          -0.7334767909679876,
          -0.6019019308160447,
          0.18754723009561206,
          -1.0624139413478446,
          -0.33875221051215915,
          1.1085712511592116,
          -0.33875221051215915,
          -0.33875221051215915,
          -0.47032707066410195,
          -0.33875221051215915,
          -0.6019019308160447,
          -0.8650516511199303,
          -0.7334767909679876,
          -0.33875221051215915,
          -0.7334767909679876,
          -0.2729647804361877,
          -0.33875221051215915,
          -0.8650516511199303,
          0.9112089609312974,
          -0.00981506013230214,
          -0.4045396405881305,
          -0.33875221051215915,
          0.45069695039949764,
          -0.7992642210439589,
          -0.47032707066410195,
          0.45069695039949764,
          -1.0624139413478446,
          1.1085712511592116,
          -0.6676893608920161,
          -0.7334767909679876,
          -0.33875221051215915,
          0.5164843804754691,
          0.25333466017158346,
          -1.128201371423816,
          -0.8650516511199303,
          -1.128201371423816,
          -0.47032707066410195,
          -1.0624139413478446,
          -1.1939888014997873,
          -0.9966265112718732,
          -1.128201371423816,
          -0.9308390811959018,
          -0.9966265112718732,
          0.5822718105514405,
          -0.33875221051215915,
          -0.07560249020827355,
          -0.4045396405881305,
          -0.33875221051215915,
          0.18754723009561206,
          -0.7334767909679876,
          -0.20717735036021634,
          -0.20717735036021634,
          -0.9308390811959018,
          0.38490952032352627,
          -0.2729647804361877,
          -0.2729647804361877,
          0.05597236994366926,
          0.05597236994366926,
          -0.47032707066410195,
          -0.00981506013230214,
          0.845421530855326,
          1.7006581218429542,
          -0.6676893608920161,
          2.42431985267864,
          1.96380784214684,
          1.7006581218429542,
          -0.7992642210439589,
          -0.33875221051215915,
          -0.7992642210439589,
          0.05597236994366926,
          -0.5361145007400734,
          0.45069695039949764,
          0.05597236994366926,
          -0.14138992028424494,
          -0.9308390811959018,
          -0.2729647804361877,
          -1.128201371423816,
          -0.6676893608920161,
          -1.128201371423816,
          0.31912209024755483,
          0.05597236994366926,
          -0.33875221051215915,
          -0.6676893608920161,
          -0.7334767909679876,
          -0.7334767909679876,
          0.7138466707033833,
          -0.9308390811959018,
          -0.33875221051215915,
          -0.33875221051215915,
          0.25333466017158346,
          0.6480592406274118,
          -0.2729647804361877,
          -0.00981506013230214,
          0.5822718105514405,
          0.9112089609312974,
          0.45069695039949764,
          0.25333466017158346,
          1.3059335413871258,
          -0.4045396405881305,
          1.0427838210832403,
          2.687469572982525,
          -0.8650516511199303,
          -0.20717735036021634,
          0.7138466707033833,
          0.6480592406274118,
          0.18754723009561206,
          -0.7992642210439589,
          -0.5361145007400734,
          1.1743586812351832,
          1.3717209714630973,
          2.950619293286411,
          0.845421530855326,
          2.3585324226026683,
          3.147981583514325,
          4.003218174501953,
          -0.14138992028424494,
          2.687469572982525,
          -0.7334767909679876,
          -0.4045396405881305,
          -1.1939888014997873,
          0.7138466707033833,
          1.0427838210832403,
          -0.2729647804361877,
          -1.128201371423816,
          -1.128201371423816,
          -1.0624139413478446,
          -0.5361145007400734,
          -0.4045396405881305,
          -0.8650516511199303,
          -0.00981506013230214,
          -0.5361145007400734,
          -0.9966265112718732,
          -0.6676893608920161,
          -1.0624139413478446,
          -0.7992642210439589,
          -0.07560249020827355,
          -0.8650516511199303,
          -0.9308390811959018,
          -0.9308390811959018,
          -1.128201371423816
         ],
         "yaxis": "y"
        }
       ],
       "layout": {
        "legend": {
         "tracegroupgap": 0
        },
        "margin": {
         "t": 60
        },
        "template": {
         "data": {
          "bar": [
           {
            "error_x": {
             "color": "#2a3f5f"
            },
            "error_y": {
             "color": "#2a3f5f"
            },
            "marker": {
             "line": {
              "color": "#E5ECF6",
              "width": 0.5
             },
             "pattern": {
              "fillmode": "overlay",
              "size": 10,
              "solidity": 0.2
             }
            },
            "type": "bar"
           }
          ],
          "barpolar": [
           {
            "marker": {
             "line": {
              "color": "#E5ECF6",
              "width": 0.5
             },
             "pattern": {
              "fillmode": "overlay",
              "size": 10,
              "solidity": 0.2
             }
            },
            "type": "barpolar"
           }
          ],
          "carpet": [
           {
            "aaxis": {
             "endlinecolor": "#2a3f5f",
             "gridcolor": "white",
             "linecolor": "white",
             "minorgridcolor": "white",
             "startlinecolor": "#2a3f5f"
            },
            "baxis": {
             "endlinecolor": "#2a3f5f",
             "gridcolor": "white",
             "linecolor": "white",
             "minorgridcolor": "white",
             "startlinecolor": "#2a3f5f"
            },
            "type": "carpet"
           }
          ],
          "choropleth": [
           {
            "colorbar": {
             "outlinewidth": 0,
             "ticks": ""
            },
            "type": "choropleth"
           }
          ],
          "contour": [
           {
            "colorbar": {
             "outlinewidth": 0,
             "ticks": ""
            },
            "colorscale": [
             [
              0,
              "#0d0887"
             ],
             [
              0.1111111111111111,
              "#46039f"
             ],
             [
              0.2222222222222222,
              "#7201a8"
             ],
             [
              0.3333333333333333,
              "#9c179e"
             ],
             [
              0.4444444444444444,
              "#bd3786"
             ],
             [
              0.5555555555555556,
              "#d8576b"
             ],
             [
              0.6666666666666666,
              "#ed7953"
             ],
             [
              0.7777777777777778,
              "#fb9f3a"
             ],
             [
              0.8888888888888888,
              "#fdca26"
             ],
             [
              1,
              "#f0f921"
             ]
            ],
            "type": "contour"
           }
          ],
          "contourcarpet": [
           {
            "colorbar": {
             "outlinewidth": 0,
             "ticks": ""
            },
            "type": "contourcarpet"
           }
          ],
          "heatmap": [
           {
            "colorbar": {
             "outlinewidth": 0,
             "ticks": ""
            },
            "colorscale": [
             [
              0,
              "#0d0887"
             ],
             [
              0.1111111111111111,
              "#46039f"
             ],
             [
              0.2222222222222222,
              "#7201a8"
             ],
             [
              0.3333333333333333,
              "#9c179e"
             ],
             [
              0.4444444444444444,
              "#bd3786"
             ],
             [
              0.5555555555555556,
              "#d8576b"
             ],
             [
              0.6666666666666666,
              "#ed7953"
             ],
             [
              0.7777777777777778,
              "#fb9f3a"
             ],
             [
              0.8888888888888888,
              "#fdca26"
             ],
             [
              1,
              "#f0f921"
             ]
            ],
            "type": "heatmap"
           }
          ],
          "heatmapgl": [
           {
            "colorbar": {
             "outlinewidth": 0,
             "ticks": ""
            },
            "colorscale": [
             [
              0,
              "#0d0887"
             ],
             [
              0.1111111111111111,
              "#46039f"
             ],
             [
              0.2222222222222222,
              "#7201a8"
             ],
             [
              0.3333333333333333,
              "#9c179e"
             ],
             [
              0.4444444444444444,
              "#bd3786"
             ],
             [
              0.5555555555555556,
              "#d8576b"
             ],
             [
              0.6666666666666666,
              "#ed7953"
             ],
             [
              0.7777777777777778,
              "#fb9f3a"
             ],
             [
              0.8888888888888888,
              "#fdca26"
             ],
             [
              1,
              "#f0f921"
             ]
            ],
            "type": "heatmapgl"
           }
          ],
          "histogram": [
           {
            "marker": {
             "pattern": {
              "fillmode": "overlay",
              "size": 10,
              "solidity": 0.2
             }
            },
            "type": "histogram"
           }
          ],
          "histogram2d": [
           {
            "colorbar": {
             "outlinewidth": 0,
             "ticks": ""
            },
            "colorscale": [
             [
              0,
              "#0d0887"
             ],
             [
              0.1111111111111111,
              "#46039f"
             ],
             [
              0.2222222222222222,
              "#7201a8"
             ],
             [
              0.3333333333333333,
              "#9c179e"
             ],
             [
              0.4444444444444444,
              "#bd3786"
             ],
             [
              0.5555555555555556,
              "#d8576b"
             ],
             [
              0.6666666666666666,
              "#ed7953"
             ],
             [
              0.7777777777777778,
              "#fb9f3a"
             ],
             [
              0.8888888888888888,
              "#fdca26"
             ],
             [
              1,
              "#f0f921"
             ]
            ],
            "type": "histogram2d"
           }
          ],
          "histogram2dcontour": [
           {
            "colorbar": {
             "outlinewidth": 0,
             "ticks": ""
            },
            "colorscale": [
             [
              0,
              "#0d0887"
             ],
             [
              0.1111111111111111,
              "#46039f"
             ],
             [
              0.2222222222222222,
              "#7201a8"
             ],
             [
              0.3333333333333333,
              "#9c179e"
             ],
             [
              0.4444444444444444,
              "#bd3786"
             ],
             [
              0.5555555555555556,
              "#d8576b"
             ],
             [
              0.6666666666666666,
              "#ed7953"
             ],
             [
              0.7777777777777778,
              "#fb9f3a"
             ],
             [
              0.8888888888888888,
              "#fdca26"
             ],
             [
              1,
              "#f0f921"
             ]
            ],
            "type": "histogram2dcontour"
           }
          ],
          "mesh3d": [
           {
            "colorbar": {
             "outlinewidth": 0,
             "ticks": ""
            },
            "type": "mesh3d"
           }
          ],
          "parcoords": [
           {
            "line": {
             "colorbar": {
              "outlinewidth": 0,
              "ticks": ""
             }
            },
            "type": "parcoords"
           }
          ],
          "pie": [
           {
            "automargin": true,
            "type": "pie"
           }
          ],
          "scatter": [
           {
            "fillpattern": {
             "fillmode": "overlay",
             "size": 10,
             "solidity": 0.2
            },
            "type": "scatter"
           }
          ],
          "scatter3d": [
           {
            "line": {
             "colorbar": {
              "outlinewidth": 0,
              "ticks": ""
             }
            },
            "marker": {
             "colorbar": {
              "outlinewidth": 0,
              "ticks": ""
             }
            },
            "type": "scatter3d"
           }
          ],
          "scattercarpet": [
           {
            "marker": {
             "colorbar": {
              "outlinewidth": 0,
              "ticks": ""
             }
            },
            "type": "scattercarpet"
           }
          ],
          "scattergeo": [
           {
            "marker": {
             "colorbar": {
              "outlinewidth": 0,
              "ticks": ""
             }
            },
            "type": "scattergeo"
           }
          ],
          "scattergl": [
           {
            "marker": {
             "colorbar": {
              "outlinewidth": 0,
              "ticks": ""
             }
            },
            "type": "scattergl"
           }
          ],
          "scattermapbox": [
           {
            "marker": {
             "colorbar": {
              "outlinewidth": 0,
              "ticks": ""
             }
            },
            "type": "scattermapbox"
           }
          ],
          "scatterpolar": [
           {
            "marker": {
             "colorbar": {
              "outlinewidth": 0,
              "ticks": ""
             }
            },
            "type": "scatterpolar"
           }
          ],
          "scatterpolargl": [
           {
            "marker": {
             "colorbar": {
              "outlinewidth": 0,
              "ticks": ""
             }
            },
            "type": "scatterpolargl"
           }
          ],
          "scatterternary": [
           {
            "marker": {
             "colorbar": {
              "outlinewidth": 0,
              "ticks": ""
             }
            },
            "type": "scatterternary"
           }
          ],
          "surface": [
           {
            "colorbar": {
             "outlinewidth": 0,
             "ticks": ""
            },
            "colorscale": [
             [
              0,
              "#0d0887"
             ],
             [
              0.1111111111111111,
              "#46039f"
             ],
             [
              0.2222222222222222,
              "#7201a8"
             ],
             [
              0.3333333333333333,
              "#9c179e"
             ],
             [
              0.4444444444444444,
              "#bd3786"
             ],
             [
              0.5555555555555556,
              "#d8576b"
             ],
             [
              0.6666666666666666,
              "#ed7953"
             ],
             [
              0.7777777777777778,
              "#fb9f3a"
             ],
             [
              0.8888888888888888,
              "#fdca26"
             ],
             [
              1,
              "#f0f921"
             ]
            ],
            "type": "surface"
           }
          ],
          "table": [
           {
            "cells": {
             "fill": {
              "color": "#EBF0F8"
             },
             "line": {
              "color": "white"
             }
            },
            "header": {
             "fill": {
              "color": "#C8D4E3"
             },
             "line": {
              "color": "white"
             }
            },
            "type": "table"
           }
          ]
         },
         "layout": {
          "annotationdefaults": {
           "arrowcolor": "#2a3f5f",
           "arrowhead": 0,
           "arrowwidth": 1
          },
          "autotypenumbers": "strict",
          "coloraxis": {
           "colorbar": {
            "outlinewidth": 0,
            "ticks": ""
           }
          },
          "colorscale": {
           "diverging": [
            [
             0,
             "#8e0152"
            ],
            [
             0.1,
             "#c51b7d"
            ],
            [
             0.2,
             "#de77ae"
            ],
            [
             0.3,
             "#f1b6da"
            ],
            [
             0.4,
             "#fde0ef"
            ],
            [
             0.5,
             "#f7f7f7"
            ],
            [
             0.6,
             "#e6f5d0"
            ],
            [
             0.7,
             "#b8e186"
            ],
            [
             0.8,
             "#7fbc41"
            ],
            [
             0.9,
             "#4d9221"
            ],
            [
             1,
             "#276419"
            ]
           ],
           "sequential": [
            [
             0,
             "#0d0887"
            ],
            [
             0.1111111111111111,
             "#46039f"
            ],
            [
             0.2222222222222222,
             "#7201a8"
            ],
            [
             0.3333333333333333,
             "#9c179e"
            ],
            [
             0.4444444444444444,
             "#bd3786"
            ],
            [
             0.5555555555555556,
             "#d8576b"
            ],
            [
             0.6666666666666666,
             "#ed7953"
            ],
            [
             0.7777777777777778,
             "#fb9f3a"
            ],
            [
             0.8888888888888888,
             "#fdca26"
            ],
            [
             1,
             "#f0f921"
            ]
           ],
           "sequentialminus": [
            [
             0,
             "#0d0887"
            ],
            [
             0.1111111111111111,
             "#46039f"
            ],
            [
             0.2222222222222222,
             "#7201a8"
            ],
            [
             0.3333333333333333,
             "#9c179e"
            ],
            [
             0.4444444444444444,
             "#bd3786"
            ],
            [
             0.5555555555555556,
             "#d8576b"
            ],
            [
             0.6666666666666666,
             "#ed7953"
            ],
            [
             0.7777777777777778,
             "#fb9f3a"
            ],
            [
             0.8888888888888888,
             "#fdca26"
            ],
            [
             1,
             "#f0f921"
            ]
           ]
          },
          "colorway": [
           "#636efa",
           "#EF553B",
           "#00cc96",
           "#ab63fa",
           "#FFA15A",
           "#19d3f3",
           "#FF6692",
           "#B6E880",
           "#FF97FF",
           "#FECB52"
          ],
          "font": {
           "color": "#2a3f5f"
          },
          "geo": {
           "bgcolor": "white",
           "lakecolor": "white",
           "landcolor": "#E5ECF6",
           "showlakes": true,
           "showland": true,
           "subunitcolor": "white"
          },
          "hoverlabel": {
           "align": "left"
          },
          "hovermode": "closest",
          "mapbox": {
           "style": "light"
          },
          "paper_bgcolor": "white",
          "plot_bgcolor": "#E5ECF6",
          "polar": {
           "angularaxis": {
            "gridcolor": "white",
            "linecolor": "white",
            "ticks": ""
           },
           "bgcolor": "#E5ECF6",
           "radialaxis": {
            "gridcolor": "white",
            "linecolor": "white",
            "ticks": ""
           }
          },
          "scene": {
           "xaxis": {
            "backgroundcolor": "#E5ECF6",
            "gridcolor": "white",
            "gridwidth": 2,
            "linecolor": "white",
            "showbackground": true,
            "ticks": "",
            "zerolinecolor": "white"
           },
           "yaxis": {
            "backgroundcolor": "#E5ECF6",
            "gridcolor": "white",
            "gridwidth": 2,
            "linecolor": "white",
            "showbackground": true,
            "ticks": "",
            "zerolinecolor": "white"
           },
           "zaxis": {
            "backgroundcolor": "#E5ECF6",
            "gridcolor": "white",
            "gridwidth": 2,
            "linecolor": "white",
            "showbackground": true,
            "ticks": "",
            "zerolinecolor": "white"
           }
          },
          "shapedefaults": {
           "line": {
            "color": "#2a3f5f"
           }
          },
          "ternary": {
           "aaxis": {
            "gridcolor": "white",
            "linecolor": "white",
            "ticks": ""
           },
           "baxis": {
            "gridcolor": "white",
            "linecolor": "white",
            "ticks": ""
           },
           "bgcolor": "#E5ECF6",
           "caxis": {
            "gridcolor": "white",
            "linecolor": "white",
            "ticks": ""
           }
          },
          "title": {
           "x": 0.05
          },
          "xaxis": {
           "automargin": true,
           "gridcolor": "white",
           "linecolor": "white",
           "ticks": "",
           "title": {
            "standoff": 15
           },
           "zerolinecolor": "white",
           "zerolinewidth": 2
          },
          "yaxis": {
           "automargin": true,
           "gridcolor": "white",
           "linecolor": "white",
           "ticks": "",
           "title": {
            "standoff": 15
           },
           "zerolinecolor": "white",
           "zerolinewidth": 2
          }
         }
        },
        "xaxis": {
         "anchor": "y",
         "domain": [
          0,
          1
         ],
         "title": {
          "text": "jumlah_balita"
         }
        },
        "yaxis": {
         "anchor": "x",
         "domain": [
          0,
          1
         ],
         "title": {
          "text": "stunting"
         }
        }
       }
      },
      "text/html": [
       "<div>                            <div id=\"248374dc-522f-4b67-a076-7e89af6476a3\" class=\"plotly-graph-div\" style=\"height:525px; width:100%;\"></div>            <script type=\"text/javascript\">                require([\"plotly\"], function(Plotly) {                    window.PLOTLYENV=window.PLOTLYENV || {};                                    if (document.getElementById(\"248374dc-522f-4b67-a076-7e89af6476a3\")) {                    Plotly.newPlot(                        \"248374dc-522f-4b67-a076-7e89af6476a3\",                        [{\"hovertemplate\":\"jumlah_balita=%{x}<br>stunting=%{y}<extra></extra>\",\"legendgroup\":\"\",\"marker\":{\"color\":\"#636efa\",\"symbol\":\"circle\"},\"mode\":\"markers\",\"name\":\"\",\"orientation\":\"v\",\"showlegend\":false,\"x\":[-0.5563284204209862,-0.6832103408678777,-0.46848709088083046,-0.17568265908031142,-0.13664206817357555,1.7275461476230622,0.5368081249676182,0.5465682726943022,-0.7905719658614013,-0.7905719658614013,-0.5660885681476702,-0.9564944772150288,0.9760147726683968,-0.42944649997409456,-0.8491328522215051,-0.5270479772409342,0.6832103408678777,1.4249815680958593,2.059391170330317,0.019520295453367933,-0.37088561361399075,-0.029280443180051904,0.6539298976878258,-0.49776753406088237,1.2883394999222837,2.7718819543782467,1.7275461476230622,0.897933590854925,0.35136531816062283,0.897933590854925,-0.18544280680699538,0.04880073863341984,-0.9564944772150288,-1.1126568408419724,-0.5368081249676182,-0.9662546249417128,0.302564579527203,0.45872694315414647,-0.49776753406088237,0.605129159054406,-0.302564579527203,-0.6832103408678777,0.16592251135362746,-0.4880073863341984,0.2537638408937832,-1.4542620112759113,-1.1028966931152884,-0.7515313749546655,0.5075276817875664,0.23424354544041523,-0.6734501931411938,-0.11712177272020761,-1.0638561022085524,-0.6636900454145098,-0.20496310226036332,-0.009760147726683967,-0.6832103408678777,0.2537638408937832,-0.11712177272020761,-0.6734501931411938,-0.4782472386075144,-0.5660885681476702,-0.7417712272279815,-0.18544280680699538,-0.7417712272279815,-0.8491328522215051,-1.0345756590285005,-0.2440036931670992,-0.7124907840479296,-0.7124907840479296,0.585608863601038,-0.8296125567681373,-0.42944649997409456,-1.0345756590285005,-0.09760147726683968,0.7905719658614013,0.585608863601038,-0.5172878295142502,0.31232472725388694,-0.7124907840479296,-0.897933590854925,0.585608863601038,0.6832103408678777,-0.5075276817875664,-0.5465682726943022,-0.13664206817357555,-0.9272140340349769,-0.9760147726683968,-0.009760147726683967,-1.0248155113018167,-0.5075276817875664,-0.6734501931411938,-0.6832103408678777,-0.019520295453367933,-0.40016605679404266,-0.9174538863082929,-0.5563284204209862,-0.5172878295142502,-0.06832103408678777,-0.23424354544041523,-0.4489667954274625,0.5368081249676182,0.61488930678109,-0.292804431800519,-0.34160517043393884,-0.019520295453367933,-0.7417712272279815,-1.0345756590285005,-0.9662546249417128,1.7275461476230622,1.0833763976619204,-0.37088561361399075,0.35136531816062283,0.8881734431282411,0.5172878295142502,0.019520295453367933,-0.06832103408678777,0.03904059090673587,0.41968635224741063,-0.18544280680699538,-0.21472324998704728,0.04880073863341984,-0.4880073863341984,-0.45872694315414647,0.6344096022344579,-0.7417712272279815,-0.45872694315414647,-0.04880073863341984,-0.8198524090414533,-0.5075276817875664,-0.5075276817875664,-0.18544280680699538,-0.31232472725388694,0.2635239886204671,-1.0736162499352364,-0.22448339771373124,-0.2830442840738351,-0.3318450227072549,-0.575848715874354,-0.21472324998704728,-0.7222509317746136,-0.34160517043393884,-0.2732841363471511,1.8641882157966378,0.8784132954015571,0.17568265908031142,-0.6636900454145098,-0.23424354544041523,-0.6832103408678777,-0.17568265908031142,0.40016605679404266,1.141937284022024,-0.6441697499611418,-0.18544280680699538,-0.40992620452072664,0.0,-0.4880073863341984,-0.8393727044948213,0.06832103408678777,0.6441697499611418,-1.141937284022024,0.11712177272020761,-0.3318450227072549,2.2643542725906807,0.9564944772150288,0.595369011327722,-0.6539298976878258,-0.40992620452072664,0.3904059090673587,1.239538761288864,-0.7124907840479296,0.9272140340349769,0.3220848749805709,0.7710516704080335,-0.9857749203950807,0.7808118181347175,-0.7612915226813495,-0.6734501931411938,-0.40992620452072664,0.907693738581609,0.20496310226036332,-0.6734501931411938,-0.7027306363212457,-0.18544280680699538,-0.8491328522215051,-0.5563284204209862,-0.8393727044948213,0.09760147726683968,-0.029280443180051904,-0.3611254658873068,-1.2590590567422317,-1.0736162499352364,-1.0540959544818684,0.03904059090673587,-1.4445018635492273,-0.3318450227072549,-0.6344096022344579,-0.5172878295142502,-0.029280443180051904,-0.9564944772150288,-0.49776753406088237,0.49776753406088237,-0.2635239886204671,-0.292804431800519,-0.7027306363212457,0.40016605679404266,-0.7808118181347175,0.9662546249417128,0.9174538863082929,-0.5660885681476702,2.0496310226036334,1.542103340816067,1.3371402385557036,1.3371402385557036,1.3273800908290196,1.8934686589766898,6.412417056431367,4.196863522474106,1.3664206817357554,0.6929704885945617,1.6592251135362746,1.220018465835496,3.54293362478628,-0.31232472725388694,5.475442874669706,-0.9467343294883449,-0.575848715874354,-1.0345756590285005,1.5811439317228027,1.200498170382128,0.7027306363212457,-0.8003321135880853,-0.7417712272279815,-0.7710516704080335,0.16592251135362746,-0.06832103408678777,-0.019520295453367933,0.03904059090673587,-0.019520295453367933,-0.3318450227072549,-0.4880073863341984,1.0638561022085524,-0.42944649997409456,0.13664206817357555,-0.10736162499352364,-0.49776753406088237,-0.15616236362694347,-0.46848709088083046],\"xaxis\":\"x\",\"y\":[-0.47032707066410195,-0.7334767909679876,0.25333466017158346,-0.6019019308160447,-0.47032707066410195,0.25333466017158346,-0.7992642210439589,-0.2729647804361877,-0.6019019308160447,-0.20717735036021634,-0.6019019308160447,-0.6676893608920161,-0.7334767909679876,-0.47032707066410195,-0.47032707066410195,-0.2729647804361877,1.7006581218429542,1.5690832616910115,-0.07560249020827355,-0.14138992028424494,-0.14138992028424494,-0.14138992028424494,0.25333466017158346,-0.20717735036021634,0.12175980001964067,2.3585324226026683,-0.00981506013230214,-0.33875221051215915,-0.6019019308160447,-0.20717735036021634,-0.5361145007400734,-1.128201371423816,-0.7334767909679876,-0.4045396405881305,-0.47032707066410195,-0.6676893608920161,0.6480592406274118,0.9112089609312974,-0.5361145007400734,-0.00981506013230214,-0.9308390811959018,-0.5361145007400734,0.12175980001964067,-0.5361145007400734,0.7796341007793547,-0.8650516511199303,-1.1939888014997873,-0.14138992028424494,0.845421530855326,0.05597236994366926,0.38490952032352627,2.819044433134468,-0.00981506013230214,0.845421530855326,1.3717209714630973,0.5822718105514405,-0.14138992028424494,1.7664455519189257,1.832232981994897,0.6480592406274118,0.31912209024755483,-0.07560249020827355,0.5822718105514405,1.1743586812351832,-0.07560249020827355,-0.07560249020827355,-0.47032707066410195,0.38490952032352627,-0.00981506013230214,1.6348706917669829,3.0164067233623824,0.5822718105514405,1.6348706917669829,-0.20717735036021634,2.2927449925266967,0.5822718105514405,3.345343873742239,0.45069695039949764,1.4375084015390687,0.7796341007793547,0.18754723009561206,0.7138466707033833,3.0821941534383535,-0.6019019308160447,1.5690832616910115,1.5690832616910115,0.31912209024755483,0.38490952032352627,1.7006581218429542,-0.9966265112718732,-0.7334767909679876,-0.8650516511199303,-0.9966265112718732,-0.7992642210439589,-0.9966265112718732,-0.9308390811959018,-0.7334767909679876,-0.7334767909679876,-1.1939888014997873,-0.7992642210439589,-0.8650516511199303,-0.33875221051215915,-0.7334767909679876,-0.9966265112718732,-0.7992642210439589,-0.5361145007400734,-1.1939888014997873,-1.128201371423816,-0.7334767909679876,-0.6019019308160447,0.18754723009561206,-1.0624139413478446,-0.33875221051215915,1.1085712511592116,-0.33875221051215915,-0.33875221051215915,-0.47032707066410195,-0.33875221051215915,-0.6019019308160447,-0.8650516511199303,-0.7334767909679876,-0.33875221051215915,-0.7334767909679876,-0.2729647804361877,-0.33875221051215915,-0.8650516511199303,0.9112089609312974,-0.00981506013230214,-0.4045396405881305,-0.33875221051215915,0.45069695039949764,-0.7992642210439589,-0.47032707066410195,0.45069695039949764,-1.0624139413478446,1.1085712511592116,-0.6676893608920161,-0.7334767909679876,-0.33875221051215915,0.5164843804754691,0.25333466017158346,-1.128201371423816,-0.8650516511199303,-1.128201371423816,-0.47032707066410195,-1.0624139413478446,-1.1939888014997873,-0.9966265112718732,-1.128201371423816,-0.9308390811959018,-0.9966265112718732,0.5822718105514405,-0.33875221051215915,-0.07560249020827355,-0.4045396405881305,-0.33875221051215915,0.18754723009561206,-0.7334767909679876,-0.20717735036021634,-0.20717735036021634,-0.9308390811959018,0.38490952032352627,-0.2729647804361877,-0.2729647804361877,0.05597236994366926,0.05597236994366926,-0.47032707066410195,-0.00981506013230214,0.845421530855326,1.7006581218429542,-0.6676893608920161,2.42431985267864,1.96380784214684,1.7006581218429542,-0.7992642210439589,-0.33875221051215915,-0.7992642210439589,0.05597236994366926,-0.5361145007400734,0.45069695039949764,0.05597236994366926,-0.14138992028424494,-0.9308390811959018,-0.2729647804361877,-1.128201371423816,-0.6676893608920161,-1.128201371423816,0.31912209024755483,0.05597236994366926,-0.33875221051215915,-0.6676893608920161,-0.7334767909679876,-0.7334767909679876,0.7138466707033833,-0.9308390811959018,-0.33875221051215915,-0.33875221051215915,0.25333466017158346,0.6480592406274118,-0.2729647804361877,-0.00981506013230214,0.5822718105514405,0.9112089609312974,0.45069695039949764,0.25333466017158346,1.3059335413871258,-0.4045396405881305,1.0427838210832403,2.687469572982525,-0.8650516511199303,-0.20717735036021634,0.7138466707033833,0.6480592406274118,0.18754723009561206,-0.7992642210439589,-0.5361145007400734,1.1743586812351832,1.3717209714630973,2.950619293286411,0.845421530855326,2.3585324226026683,3.147981583514325,4.003218174501953,-0.14138992028424494,2.687469572982525,-0.7334767909679876,-0.4045396405881305,-1.1939888014997873,0.7138466707033833,1.0427838210832403,-0.2729647804361877,-1.128201371423816,-1.128201371423816,-1.0624139413478446,-0.5361145007400734,-0.4045396405881305,-0.8650516511199303,-0.00981506013230214,-0.5361145007400734,-0.9966265112718732,-0.6676893608920161,-1.0624139413478446,-0.7992642210439589,-0.07560249020827355,-0.8650516511199303,-0.9308390811959018,-0.9308390811959018,-1.128201371423816],\"yaxis\":\"y\",\"type\":\"scatter\"}],                        {\"template\":{\"data\":{\"histogram2dcontour\":[{\"type\":\"histogram2dcontour\",\"colorbar\":{\"outlinewidth\":0,\"ticks\":\"\"},\"colorscale\":[[0.0,\"#0d0887\"],[0.1111111111111111,\"#46039f\"],[0.2222222222222222,\"#7201a8\"],[0.3333333333333333,\"#9c179e\"],[0.4444444444444444,\"#bd3786\"],[0.5555555555555556,\"#d8576b\"],[0.6666666666666666,\"#ed7953\"],[0.7777777777777778,\"#fb9f3a\"],[0.8888888888888888,\"#fdca26\"],[1.0,\"#f0f921\"]]}],\"choropleth\":[{\"type\":\"choropleth\",\"colorbar\":{\"outlinewidth\":0,\"ticks\":\"\"}}],\"histogram2d\":[{\"type\":\"histogram2d\",\"colorbar\":{\"outlinewidth\":0,\"ticks\":\"\"},\"colorscale\":[[0.0,\"#0d0887\"],[0.1111111111111111,\"#46039f\"],[0.2222222222222222,\"#7201a8\"],[0.3333333333333333,\"#9c179e\"],[0.4444444444444444,\"#bd3786\"],[0.5555555555555556,\"#d8576b\"],[0.6666666666666666,\"#ed7953\"],[0.7777777777777778,\"#fb9f3a\"],[0.8888888888888888,\"#fdca26\"],[1.0,\"#f0f921\"]]}],\"heatmap\":[{\"type\":\"heatmap\",\"colorbar\":{\"outlinewidth\":0,\"ticks\":\"\"},\"colorscale\":[[0.0,\"#0d0887\"],[0.1111111111111111,\"#46039f\"],[0.2222222222222222,\"#7201a8\"],[0.3333333333333333,\"#9c179e\"],[0.4444444444444444,\"#bd3786\"],[0.5555555555555556,\"#d8576b\"],[0.6666666666666666,\"#ed7953\"],[0.7777777777777778,\"#fb9f3a\"],[0.8888888888888888,\"#fdca26\"],[1.0,\"#f0f921\"]]}],\"heatmapgl\":[{\"type\":\"heatmapgl\",\"colorbar\":{\"outlinewidth\":0,\"ticks\":\"\"},\"colorscale\":[[0.0,\"#0d0887\"],[0.1111111111111111,\"#46039f\"],[0.2222222222222222,\"#7201a8\"],[0.3333333333333333,\"#9c179e\"],[0.4444444444444444,\"#bd3786\"],[0.5555555555555556,\"#d8576b\"],[0.6666666666666666,\"#ed7953\"],[0.7777777777777778,\"#fb9f3a\"],[0.8888888888888888,\"#fdca26\"],[1.0,\"#f0f921\"]]}],\"contourcarpet\":[{\"type\":\"contourcarpet\",\"colorbar\":{\"outlinewidth\":0,\"ticks\":\"\"}}],\"contour\":[{\"type\":\"contour\",\"colorbar\":{\"outlinewidth\":0,\"ticks\":\"\"},\"colorscale\":[[0.0,\"#0d0887\"],[0.1111111111111111,\"#46039f\"],[0.2222222222222222,\"#7201a8\"],[0.3333333333333333,\"#9c179e\"],[0.4444444444444444,\"#bd3786\"],[0.5555555555555556,\"#d8576b\"],[0.6666666666666666,\"#ed7953\"],[0.7777777777777778,\"#fb9f3a\"],[0.8888888888888888,\"#fdca26\"],[1.0,\"#f0f921\"]]}],\"surface\":[{\"type\":\"surface\",\"colorbar\":{\"outlinewidth\":0,\"ticks\":\"\"},\"colorscale\":[[0.0,\"#0d0887\"],[0.1111111111111111,\"#46039f\"],[0.2222222222222222,\"#7201a8\"],[0.3333333333333333,\"#9c179e\"],[0.4444444444444444,\"#bd3786\"],[0.5555555555555556,\"#d8576b\"],[0.6666666666666666,\"#ed7953\"],[0.7777777777777778,\"#fb9f3a\"],[0.8888888888888888,\"#fdca26\"],[1.0,\"#f0f921\"]]}],\"mesh3d\":[{\"type\":\"mesh3d\",\"colorbar\":{\"outlinewidth\":0,\"ticks\":\"\"}}],\"scatter\":[{\"fillpattern\":{\"fillmode\":\"overlay\",\"size\":10,\"solidity\":0.2},\"type\":\"scatter\"}],\"parcoords\":[{\"type\":\"parcoords\",\"line\":{\"colorbar\":{\"outlinewidth\":0,\"ticks\":\"\"}}}],\"scatterpolargl\":[{\"type\":\"scatterpolargl\",\"marker\":{\"colorbar\":{\"outlinewidth\":0,\"ticks\":\"\"}}}],\"bar\":[{\"error_x\":{\"color\":\"#2a3f5f\"},\"error_y\":{\"color\":\"#2a3f5f\"},\"marker\":{\"line\":{\"color\":\"#E5ECF6\",\"width\":0.5},\"pattern\":{\"fillmode\":\"overlay\",\"size\":10,\"solidity\":0.2}},\"type\":\"bar\"}],\"scattergeo\":[{\"type\":\"scattergeo\",\"marker\":{\"colorbar\":{\"outlinewidth\":0,\"ticks\":\"\"}}}],\"scatterpolar\":[{\"type\":\"scatterpolar\",\"marker\":{\"colorbar\":{\"outlinewidth\":0,\"ticks\":\"\"}}}],\"histogram\":[{\"marker\":{\"pattern\":{\"fillmode\":\"overlay\",\"size\":10,\"solidity\":0.2}},\"type\":\"histogram\"}],\"scattergl\":[{\"type\":\"scattergl\",\"marker\":{\"colorbar\":{\"outlinewidth\":0,\"ticks\":\"\"}}}],\"scatter3d\":[{\"type\":\"scatter3d\",\"line\":{\"colorbar\":{\"outlinewidth\":0,\"ticks\":\"\"}},\"marker\":{\"colorbar\":{\"outlinewidth\":0,\"ticks\":\"\"}}}],\"scattermapbox\":[{\"type\":\"scattermapbox\",\"marker\":{\"colorbar\":{\"outlinewidth\":0,\"ticks\":\"\"}}}],\"scatterternary\":[{\"type\":\"scatterternary\",\"marker\":{\"colorbar\":{\"outlinewidth\":0,\"ticks\":\"\"}}}],\"scattercarpet\":[{\"type\":\"scattercarpet\",\"marker\":{\"colorbar\":{\"outlinewidth\":0,\"ticks\":\"\"}}}],\"carpet\":[{\"aaxis\":{\"endlinecolor\":\"#2a3f5f\",\"gridcolor\":\"white\",\"linecolor\":\"white\",\"minorgridcolor\":\"white\",\"startlinecolor\":\"#2a3f5f\"},\"baxis\":{\"endlinecolor\":\"#2a3f5f\",\"gridcolor\":\"white\",\"linecolor\":\"white\",\"minorgridcolor\":\"white\",\"startlinecolor\":\"#2a3f5f\"},\"type\":\"carpet\"}],\"table\":[{\"cells\":{\"fill\":{\"color\":\"#EBF0F8\"},\"line\":{\"color\":\"white\"}},\"header\":{\"fill\":{\"color\":\"#C8D4E3\"},\"line\":{\"color\":\"white\"}},\"type\":\"table\"}],\"barpolar\":[{\"marker\":{\"line\":{\"color\":\"#E5ECF6\",\"width\":0.5},\"pattern\":{\"fillmode\":\"overlay\",\"size\":10,\"solidity\":0.2}},\"type\":\"barpolar\"}],\"pie\":[{\"automargin\":true,\"type\":\"pie\"}]},\"layout\":{\"autotypenumbers\":\"strict\",\"colorway\":[\"#636efa\",\"#EF553B\",\"#00cc96\",\"#ab63fa\",\"#FFA15A\",\"#19d3f3\",\"#FF6692\",\"#B6E880\",\"#FF97FF\",\"#FECB52\"],\"font\":{\"color\":\"#2a3f5f\"},\"hovermode\":\"closest\",\"hoverlabel\":{\"align\":\"left\"},\"paper_bgcolor\":\"white\",\"plot_bgcolor\":\"#E5ECF6\",\"polar\":{\"bgcolor\":\"#E5ECF6\",\"angularaxis\":{\"gridcolor\":\"white\",\"linecolor\":\"white\",\"ticks\":\"\"},\"radialaxis\":{\"gridcolor\":\"white\",\"linecolor\":\"white\",\"ticks\":\"\"}},\"ternary\":{\"bgcolor\":\"#E5ECF6\",\"aaxis\":{\"gridcolor\":\"white\",\"linecolor\":\"white\",\"ticks\":\"\"},\"baxis\":{\"gridcolor\":\"white\",\"linecolor\":\"white\",\"ticks\":\"\"},\"caxis\":{\"gridcolor\":\"white\",\"linecolor\":\"white\",\"ticks\":\"\"}},\"coloraxis\":{\"colorbar\":{\"outlinewidth\":0,\"ticks\":\"\"}},\"colorscale\":{\"sequential\":[[0.0,\"#0d0887\"],[0.1111111111111111,\"#46039f\"],[0.2222222222222222,\"#7201a8\"],[0.3333333333333333,\"#9c179e\"],[0.4444444444444444,\"#bd3786\"],[0.5555555555555556,\"#d8576b\"],[0.6666666666666666,\"#ed7953\"],[0.7777777777777778,\"#fb9f3a\"],[0.8888888888888888,\"#fdca26\"],[1.0,\"#f0f921\"]],\"sequentialminus\":[[0.0,\"#0d0887\"],[0.1111111111111111,\"#46039f\"],[0.2222222222222222,\"#7201a8\"],[0.3333333333333333,\"#9c179e\"],[0.4444444444444444,\"#bd3786\"],[0.5555555555555556,\"#d8576b\"],[0.6666666666666666,\"#ed7953\"],[0.7777777777777778,\"#fb9f3a\"],[0.8888888888888888,\"#fdca26\"],[1.0,\"#f0f921\"]],\"diverging\":[[0,\"#8e0152\"],[0.1,\"#c51b7d\"],[0.2,\"#de77ae\"],[0.3,\"#f1b6da\"],[0.4,\"#fde0ef\"],[0.5,\"#f7f7f7\"],[0.6,\"#e6f5d0\"],[0.7,\"#b8e186\"],[0.8,\"#7fbc41\"],[0.9,\"#4d9221\"],[1,\"#276419\"]]},\"xaxis\":{\"gridcolor\":\"white\",\"linecolor\":\"white\",\"ticks\":\"\",\"title\":{\"standoff\":15},\"zerolinecolor\":\"white\",\"automargin\":true,\"zerolinewidth\":2},\"yaxis\":{\"gridcolor\":\"white\",\"linecolor\":\"white\",\"ticks\":\"\",\"title\":{\"standoff\":15},\"zerolinecolor\":\"white\",\"automargin\":true,\"zerolinewidth\":2},\"scene\":{\"xaxis\":{\"backgroundcolor\":\"#E5ECF6\",\"gridcolor\":\"white\",\"linecolor\":\"white\",\"showbackground\":true,\"ticks\":\"\",\"zerolinecolor\":\"white\",\"gridwidth\":2},\"yaxis\":{\"backgroundcolor\":\"#E5ECF6\",\"gridcolor\":\"white\",\"linecolor\":\"white\",\"showbackground\":true,\"ticks\":\"\",\"zerolinecolor\":\"white\",\"gridwidth\":2},\"zaxis\":{\"backgroundcolor\":\"#E5ECF6\",\"gridcolor\":\"white\",\"linecolor\":\"white\",\"showbackground\":true,\"ticks\":\"\",\"zerolinecolor\":\"white\",\"gridwidth\":2}},\"shapedefaults\":{\"line\":{\"color\":\"#2a3f5f\"}},\"annotationdefaults\":{\"arrowcolor\":\"#2a3f5f\",\"arrowhead\":0,\"arrowwidth\":1},\"geo\":{\"bgcolor\":\"white\",\"landcolor\":\"#E5ECF6\",\"subunitcolor\":\"white\",\"showland\":true,\"showlakes\":true,\"lakecolor\":\"white\"},\"title\":{\"x\":0.05},\"mapbox\":{\"style\":\"light\"}}},\"xaxis\":{\"anchor\":\"y\",\"domain\":[0.0,1.0],\"title\":{\"text\":\"jumlah_balita\"}},\"yaxis\":{\"anchor\":\"x\",\"domain\":[0.0,1.0],\"title\":{\"text\":\"stunting\"}},\"legend\":{\"tracegroupgap\":0},\"margin\":{\"t\":60}},                        {\"responsive\": true}                    ).then(function(){\n",
       "                            \n",
       "var gd = document.getElementById('248374dc-522f-4b67-a076-7e89af6476a3');\n",
       "var x = new MutationObserver(function (mutations, observer) {{\n",
       "        var display = window.getComputedStyle(gd).display;\n",
       "        if (!display || display === 'none') {{\n",
       "            console.log([gd, 'removed!']);\n",
       "            Plotly.purge(gd);\n",
       "            observer.disconnect();\n",
       "        }}\n",
       "}});\n",
       "\n",
       "// Listen for the removal of the full notebook cells\n",
       "var notebookContainer = gd.closest('#notebook-container');\n",
       "if (notebookContainer) {{\n",
       "    x.observe(notebookContainer, {childList: true});\n",
       "}}\n",
       "\n",
       "// Listen for the clearing of the current output cell\n",
       "var outputEl = gd.closest('.output');\n",
       "if (outputEl) {{\n",
       "    x.observe(outputEl, {childList: true});\n",
       "}}\n",
       "\n",
       "                        })                };                });            </script>        </div>"
      ]
     },
     "metadata": {},
     "output_type": "display_data"
    },
    {
     "data": {
      "text/plain": [
       "<Figure size 1200x800 with 0 Axes>"
      ]
     },
     "metadata": {},
     "output_type": "display_data"
    }
   ],
   "source": [
    "plt.figure(figsize=[12, 8])\n",
    "\n",
    "fig = px.scatter(X_stunting, x=\"jumlah_balita\", y=\"stunting\")\n",
    "\n",
    "fig.show()"
   ]
  },
  {
   "cell_type": "code",
   "execution_count": 62,
   "id": "2c4c9622",
   "metadata": {},
   "outputs": [
    {
     "name": "stdout",
     "output_type": "stream",
     "text": [
      "Requirement already satisfied: threadpoolctl in c:\\users\\pramu\\anaconda3\\lib\\site-packages (3.4.0)\n"
     ]
    }
   ],
   "source": [
    "!pip install threadpoolctl --upgrade"
   ]
  },
  {
   "cell_type": "code",
   "execution_count": 63,
   "id": "d46a90af",
   "metadata": {},
   "outputs": [
    {
     "name": "stdout",
     "output_type": "stream",
     "text": [
      "Sum of square distances for 1 clusters: 496.0\n",
      "Sum of square distances for 2 clusters: 266.6112001391165\n",
      "Sum of square distances for 3 clusters: 194.81115986946034\n",
      "Sum of square distances for 4 clusters: 133.3737128589772\n",
      "Sum of square distances for 5 clusters: 101.95238999575751\n",
      "Sum of square distances for 6 clusters: 85.6723923756127\n",
      "Sum of square distances for 7 clusters: 73.49705410641468\n",
      "Sum of square distances for 8 clusters: 64.62893452053733\n",
      "Sum of square distances for 9 clusters: 57.407869431139794\n",
      "Sum of square distances for 10 clusters: 50.652273456666386\n",
      "Sum of square distances for 11 clusters: 43.31882433714973\n",
      "Sum of square distances for 12 clusters: 39.216014771817306\n",
      "Sum of square distances for 13 clusters: 34.261271524947745\n",
      "Sum of square distances for 14 clusters: 31.772122393154007\n",
      "Sum of square distances for 15 clusters: 29.858123118117025\n",
      "Sum of square distances for 16 clusters: 27.04802753076646\n",
      "Sum of square distances for 17 clusters: 25.572506972283115\n",
      "Sum of square distances for 18 clusters: 23.994468917226456\n",
      "Sum of square distances for 19 clusters: 23.129583816221913\n",
      "Sum of square distances for 20 clusters: 21.628840116726348\n"
     ]
    }
   ],
   "source": [
    "sum_of_sq_dist = []\n",
    "\n",
    "for i in range(1, 21):\n",
    "    model = KMeans(n_clusters=i)\n",
    "    \n",
    "    model.fit(X_stunting)\n",
    "    \n",
    "    sum_of_sq_dist.append(model.inertia_)\n",
    "    print(\"Sum of square distances for {} clusters: {}\".format(i, sum_of_sq_dist[i-1]))"
   ]
  },
  {
   "cell_type": "code",
   "execution_count": 64,
   "id": "5caebf52",
   "metadata": {},
   "outputs": [
    {
     "data": {
      "application/vnd.plotly.v1+json": {
       "config": {
        "plotlyServerURL": "https://plot.ly"
       },
       "data": [
        {
         "hovertemplate": "x=%{x}<br>y=%{y}<extra></extra>",
         "legendgroup": "",
         "line": {
          "color": "#636efa",
          "dash": "solid"
         },
         "marker": {
          "symbol": "circle"
         },
         "mode": "lines",
         "name": "",
         "orientation": "v",
         "showlegend": false,
         "type": "scatter",
         "x": [
          1,
          2,
          3,
          4,
          5,
          6,
          7,
          8,
          9,
          10,
          11,
          12,
          13,
          14,
          15,
          16,
          17,
          18,
          19,
          20
         ],
         "xaxis": "x",
         "y": [
          496,
          266.6112001391165,
          194.81115986946034,
          133.3737128589772,
          101.95238999575751,
          85.6723923756127,
          73.49705410641468,
          64.62893452053733,
          57.407869431139794,
          50.652273456666386,
          43.31882433714973,
          39.216014771817306,
          34.261271524947745,
          31.772122393154007,
          29.858123118117025,
          27.04802753076646,
          25.572506972283115,
          23.994468917226456,
          23.129583816221913,
          21.628840116726348
         ],
         "yaxis": "y"
        }
       ],
       "layout": {
        "legend": {
         "tracegroupgap": 0
        },
        "margin": {
         "t": 60
        },
        "template": {
         "data": {
          "bar": [
           {
            "error_x": {
             "color": "#2a3f5f"
            },
            "error_y": {
             "color": "#2a3f5f"
            },
            "marker": {
             "line": {
              "color": "#E5ECF6",
              "width": 0.5
             },
             "pattern": {
              "fillmode": "overlay",
              "size": 10,
              "solidity": 0.2
             }
            },
            "type": "bar"
           }
          ],
          "barpolar": [
           {
            "marker": {
             "line": {
              "color": "#E5ECF6",
              "width": 0.5
             },
             "pattern": {
              "fillmode": "overlay",
              "size": 10,
              "solidity": 0.2
             }
            },
            "type": "barpolar"
           }
          ],
          "carpet": [
           {
            "aaxis": {
             "endlinecolor": "#2a3f5f",
             "gridcolor": "white",
             "linecolor": "white",
             "minorgridcolor": "white",
             "startlinecolor": "#2a3f5f"
            },
            "baxis": {
             "endlinecolor": "#2a3f5f",
             "gridcolor": "white",
             "linecolor": "white",
             "minorgridcolor": "white",
             "startlinecolor": "#2a3f5f"
            },
            "type": "carpet"
           }
          ],
          "choropleth": [
           {
            "colorbar": {
             "outlinewidth": 0,
             "ticks": ""
            },
            "type": "choropleth"
           }
          ],
          "contour": [
           {
            "colorbar": {
             "outlinewidth": 0,
             "ticks": ""
            },
            "colorscale": [
             [
              0,
              "#0d0887"
             ],
             [
              0.1111111111111111,
              "#46039f"
             ],
             [
              0.2222222222222222,
              "#7201a8"
             ],
             [
              0.3333333333333333,
              "#9c179e"
             ],
             [
              0.4444444444444444,
              "#bd3786"
             ],
             [
              0.5555555555555556,
              "#d8576b"
             ],
             [
              0.6666666666666666,
              "#ed7953"
             ],
             [
              0.7777777777777778,
              "#fb9f3a"
             ],
             [
              0.8888888888888888,
              "#fdca26"
             ],
             [
              1,
              "#f0f921"
             ]
            ],
            "type": "contour"
           }
          ],
          "contourcarpet": [
           {
            "colorbar": {
             "outlinewidth": 0,
             "ticks": ""
            },
            "type": "contourcarpet"
           }
          ],
          "heatmap": [
           {
            "colorbar": {
             "outlinewidth": 0,
             "ticks": ""
            },
            "colorscale": [
             [
              0,
              "#0d0887"
             ],
             [
              0.1111111111111111,
              "#46039f"
             ],
             [
              0.2222222222222222,
              "#7201a8"
             ],
             [
              0.3333333333333333,
              "#9c179e"
             ],
             [
              0.4444444444444444,
              "#bd3786"
             ],
             [
              0.5555555555555556,
              "#d8576b"
             ],
             [
              0.6666666666666666,
              "#ed7953"
             ],
             [
              0.7777777777777778,
              "#fb9f3a"
             ],
             [
              0.8888888888888888,
              "#fdca26"
             ],
             [
              1,
              "#f0f921"
             ]
            ],
            "type": "heatmap"
           }
          ],
          "heatmapgl": [
           {
            "colorbar": {
             "outlinewidth": 0,
             "ticks": ""
            },
            "colorscale": [
             [
              0,
              "#0d0887"
             ],
             [
              0.1111111111111111,
              "#46039f"
             ],
             [
              0.2222222222222222,
              "#7201a8"
             ],
             [
              0.3333333333333333,
              "#9c179e"
             ],
             [
              0.4444444444444444,
              "#bd3786"
             ],
             [
              0.5555555555555556,
              "#d8576b"
             ],
             [
              0.6666666666666666,
              "#ed7953"
             ],
             [
              0.7777777777777778,
              "#fb9f3a"
             ],
             [
              0.8888888888888888,
              "#fdca26"
             ],
             [
              1,
              "#f0f921"
             ]
            ],
            "type": "heatmapgl"
           }
          ],
          "histogram": [
           {
            "marker": {
             "pattern": {
              "fillmode": "overlay",
              "size": 10,
              "solidity": 0.2
             }
            },
            "type": "histogram"
           }
          ],
          "histogram2d": [
           {
            "colorbar": {
             "outlinewidth": 0,
             "ticks": ""
            },
            "colorscale": [
             [
              0,
              "#0d0887"
             ],
             [
              0.1111111111111111,
              "#46039f"
             ],
             [
              0.2222222222222222,
              "#7201a8"
             ],
             [
              0.3333333333333333,
              "#9c179e"
             ],
             [
              0.4444444444444444,
              "#bd3786"
             ],
             [
              0.5555555555555556,
              "#d8576b"
             ],
             [
              0.6666666666666666,
              "#ed7953"
             ],
             [
              0.7777777777777778,
              "#fb9f3a"
             ],
             [
              0.8888888888888888,
              "#fdca26"
             ],
             [
              1,
              "#f0f921"
             ]
            ],
            "type": "histogram2d"
           }
          ],
          "histogram2dcontour": [
           {
            "colorbar": {
             "outlinewidth": 0,
             "ticks": ""
            },
            "colorscale": [
             [
              0,
              "#0d0887"
             ],
             [
              0.1111111111111111,
              "#46039f"
             ],
             [
              0.2222222222222222,
              "#7201a8"
             ],
             [
              0.3333333333333333,
              "#9c179e"
             ],
             [
              0.4444444444444444,
              "#bd3786"
             ],
             [
              0.5555555555555556,
              "#d8576b"
             ],
             [
              0.6666666666666666,
              "#ed7953"
             ],
             [
              0.7777777777777778,
              "#fb9f3a"
             ],
             [
              0.8888888888888888,
              "#fdca26"
             ],
             [
              1,
              "#f0f921"
             ]
            ],
            "type": "histogram2dcontour"
           }
          ],
          "mesh3d": [
           {
            "colorbar": {
             "outlinewidth": 0,
             "ticks": ""
            },
            "type": "mesh3d"
           }
          ],
          "parcoords": [
           {
            "line": {
             "colorbar": {
              "outlinewidth": 0,
              "ticks": ""
             }
            },
            "type": "parcoords"
           }
          ],
          "pie": [
           {
            "automargin": true,
            "type": "pie"
           }
          ],
          "scatter": [
           {
            "fillpattern": {
             "fillmode": "overlay",
             "size": 10,
             "solidity": 0.2
            },
            "type": "scatter"
           }
          ],
          "scatter3d": [
           {
            "line": {
             "colorbar": {
              "outlinewidth": 0,
              "ticks": ""
             }
            },
            "marker": {
             "colorbar": {
              "outlinewidth": 0,
              "ticks": ""
             }
            },
            "type": "scatter3d"
           }
          ],
          "scattercarpet": [
           {
            "marker": {
             "colorbar": {
              "outlinewidth": 0,
              "ticks": ""
             }
            },
            "type": "scattercarpet"
           }
          ],
          "scattergeo": [
           {
            "marker": {
             "colorbar": {
              "outlinewidth": 0,
              "ticks": ""
             }
            },
            "type": "scattergeo"
           }
          ],
          "scattergl": [
           {
            "marker": {
             "colorbar": {
              "outlinewidth": 0,
              "ticks": ""
             }
            },
            "type": "scattergl"
           }
          ],
          "scattermapbox": [
           {
            "marker": {
             "colorbar": {
              "outlinewidth": 0,
              "ticks": ""
             }
            },
            "type": "scattermapbox"
           }
          ],
          "scatterpolar": [
           {
            "marker": {
             "colorbar": {
              "outlinewidth": 0,
              "ticks": ""
             }
            },
            "type": "scatterpolar"
           }
          ],
          "scatterpolargl": [
           {
            "marker": {
             "colorbar": {
              "outlinewidth": 0,
              "ticks": ""
             }
            },
            "type": "scatterpolargl"
           }
          ],
          "scatterternary": [
           {
            "marker": {
             "colorbar": {
              "outlinewidth": 0,
              "ticks": ""
             }
            },
            "type": "scatterternary"
           }
          ],
          "surface": [
           {
            "colorbar": {
             "outlinewidth": 0,
             "ticks": ""
            },
            "colorscale": [
             [
              0,
              "#0d0887"
             ],
             [
              0.1111111111111111,
              "#46039f"
             ],
             [
              0.2222222222222222,
              "#7201a8"
             ],
             [
              0.3333333333333333,
              "#9c179e"
             ],
             [
              0.4444444444444444,
              "#bd3786"
             ],
             [
              0.5555555555555556,
              "#d8576b"
             ],
             [
              0.6666666666666666,
              "#ed7953"
             ],
             [
              0.7777777777777778,
              "#fb9f3a"
             ],
             [
              0.8888888888888888,
              "#fdca26"
             ],
             [
              1,
              "#f0f921"
             ]
            ],
            "type": "surface"
           }
          ],
          "table": [
           {
            "cells": {
             "fill": {
              "color": "#EBF0F8"
             },
             "line": {
              "color": "white"
             }
            },
            "header": {
             "fill": {
              "color": "#C8D4E3"
             },
             "line": {
              "color": "white"
             }
            },
            "type": "table"
           }
          ]
         },
         "layout": {
          "annotationdefaults": {
           "arrowcolor": "#2a3f5f",
           "arrowhead": 0,
           "arrowwidth": 1
          },
          "autotypenumbers": "strict",
          "coloraxis": {
           "colorbar": {
            "outlinewidth": 0,
            "ticks": ""
           }
          },
          "colorscale": {
           "diverging": [
            [
             0,
             "#8e0152"
            ],
            [
             0.1,
             "#c51b7d"
            ],
            [
             0.2,
             "#de77ae"
            ],
            [
             0.3,
             "#f1b6da"
            ],
            [
             0.4,
             "#fde0ef"
            ],
            [
             0.5,
             "#f7f7f7"
            ],
            [
             0.6,
             "#e6f5d0"
            ],
            [
             0.7,
             "#b8e186"
            ],
            [
             0.8,
             "#7fbc41"
            ],
            [
             0.9,
             "#4d9221"
            ],
            [
             1,
             "#276419"
            ]
           ],
           "sequential": [
            [
             0,
             "#0d0887"
            ],
            [
             0.1111111111111111,
             "#46039f"
            ],
            [
             0.2222222222222222,
             "#7201a8"
            ],
            [
             0.3333333333333333,
             "#9c179e"
            ],
            [
             0.4444444444444444,
             "#bd3786"
            ],
            [
             0.5555555555555556,
             "#d8576b"
            ],
            [
             0.6666666666666666,
             "#ed7953"
            ],
            [
             0.7777777777777778,
             "#fb9f3a"
            ],
            [
             0.8888888888888888,
             "#fdca26"
            ],
            [
             1,
             "#f0f921"
            ]
           ],
           "sequentialminus": [
            [
             0,
             "#0d0887"
            ],
            [
             0.1111111111111111,
             "#46039f"
            ],
            [
             0.2222222222222222,
             "#7201a8"
            ],
            [
             0.3333333333333333,
             "#9c179e"
            ],
            [
             0.4444444444444444,
             "#bd3786"
            ],
            [
             0.5555555555555556,
             "#d8576b"
            ],
            [
             0.6666666666666666,
             "#ed7953"
            ],
            [
             0.7777777777777778,
             "#fb9f3a"
            ],
            [
             0.8888888888888888,
             "#fdca26"
            ],
            [
             1,
             "#f0f921"
            ]
           ]
          },
          "colorway": [
           "#636efa",
           "#EF553B",
           "#00cc96",
           "#ab63fa",
           "#FFA15A",
           "#19d3f3",
           "#FF6692",
           "#B6E880",
           "#FF97FF",
           "#FECB52"
          ],
          "font": {
           "color": "#2a3f5f"
          },
          "geo": {
           "bgcolor": "white",
           "lakecolor": "white",
           "landcolor": "#E5ECF6",
           "showlakes": true,
           "showland": true,
           "subunitcolor": "white"
          },
          "hoverlabel": {
           "align": "left"
          },
          "hovermode": "closest",
          "mapbox": {
           "style": "light"
          },
          "paper_bgcolor": "white",
          "plot_bgcolor": "#E5ECF6",
          "polar": {
           "angularaxis": {
            "gridcolor": "white",
            "linecolor": "white",
            "ticks": ""
           },
           "bgcolor": "#E5ECF6",
           "radialaxis": {
            "gridcolor": "white",
            "linecolor": "white",
            "ticks": ""
           }
          },
          "scene": {
           "xaxis": {
            "backgroundcolor": "#E5ECF6",
            "gridcolor": "white",
            "gridwidth": 2,
            "linecolor": "white",
            "showbackground": true,
            "ticks": "",
            "zerolinecolor": "white"
           },
           "yaxis": {
            "backgroundcolor": "#E5ECF6",
            "gridcolor": "white",
            "gridwidth": 2,
            "linecolor": "white",
            "showbackground": true,
            "ticks": "",
            "zerolinecolor": "white"
           },
           "zaxis": {
            "backgroundcolor": "#E5ECF6",
            "gridcolor": "white",
            "gridwidth": 2,
            "linecolor": "white",
            "showbackground": true,
            "ticks": "",
            "zerolinecolor": "white"
           }
          },
          "shapedefaults": {
           "line": {
            "color": "#2a3f5f"
           }
          },
          "ternary": {
           "aaxis": {
            "gridcolor": "white",
            "linecolor": "white",
            "ticks": ""
           },
           "baxis": {
            "gridcolor": "white",
            "linecolor": "white",
            "ticks": ""
           },
           "bgcolor": "#E5ECF6",
           "caxis": {
            "gridcolor": "white",
            "linecolor": "white",
            "ticks": ""
           }
          },
          "title": {
           "x": 0.05
          },
          "xaxis": {
           "automargin": true,
           "gridcolor": "white",
           "linecolor": "white",
           "ticks": "",
           "title": {
            "standoff": 15
           },
           "zerolinecolor": "white",
           "zerolinewidth": 2
          },
          "yaxis": {
           "automargin": true,
           "gridcolor": "white",
           "linecolor": "white",
           "ticks": "",
           "title": {
            "standoff": 15
           },
           "zerolinecolor": "white",
           "zerolinewidth": 2
          }
         }
        },
        "title": {
         "text": "Sum of Squares (Distance) vs. Number of Clusters"
        },
        "xaxis": {
         "anchor": "y",
         "domain": [
          0,
          1
         ],
         "tickvals": [
          1,
          2,
          3,
          4,
          5,
          6,
          7,
          8,
          9,
          10,
          11,
          12,
          13,
          14,
          15,
          16,
          17,
          18,
          19,
          20
         ],
         "title": {
          "text": "Number of Clusters"
         }
        },
        "yaxis": {
         "anchor": "x",
         "domain": [
          0,
          1
         ],
         "title": {
          "text": "Sum of Squares (Distance)"
         }
        }
       }
      },
      "text/html": [
       "<div>                            <div id=\"49efba32-b7c9-47b8-b349-c4780c788bf6\" class=\"plotly-graph-div\" style=\"height:525px; width:100%;\"></div>            <script type=\"text/javascript\">                require([\"plotly\"], function(Plotly) {                    window.PLOTLYENV=window.PLOTLYENV || {};                                    if (document.getElementById(\"49efba32-b7c9-47b8-b349-c4780c788bf6\")) {                    Plotly.newPlot(                        \"49efba32-b7c9-47b8-b349-c4780c788bf6\",                        [{\"hovertemplate\":\"x=%{x}<br>y=%{y}<extra></extra>\",\"legendgroup\":\"\",\"line\":{\"color\":\"#636efa\",\"dash\":\"solid\"},\"marker\":{\"symbol\":\"circle\"},\"mode\":\"lines\",\"name\":\"\",\"orientation\":\"v\",\"showlegend\":false,\"x\":[1,2,3,4,5,6,7,8,9,10,11,12,13,14,15,16,17,18,19,20],\"xaxis\":\"x\",\"y\":[496.0,266.6112001391165,194.81115986946034,133.3737128589772,101.95238999575751,85.6723923756127,73.49705410641468,64.62893452053733,57.407869431139794,50.652273456666386,43.31882433714973,39.216014771817306,34.261271524947745,31.772122393154007,29.858123118117025,27.04802753076646,25.572506972283115,23.994468917226456,23.129583816221913,21.628840116726348],\"yaxis\":\"y\",\"type\":\"scatter\"}],                        {\"template\":{\"data\":{\"histogram2dcontour\":[{\"type\":\"histogram2dcontour\",\"colorbar\":{\"outlinewidth\":0,\"ticks\":\"\"},\"colorscale\":[[0.0,\"#0d0887\"],[0.1111111111111111,\"#46039f\"],[0.2222222222222222,\"#7201a8\"],[0.3333333333333333,\"#9c179e\"],[0.4444444444444444,\"#bd3786\"],[0.5555555555555556,\"#d8576b\"],[0.6666666666666666,\"#ed7953\"],[0.7777777777777778,\"#fb9f3a\"],[0.8888888888888888,\"#fdca26\"],[1.0,\"#f0f921\"]]}],\"choropleth\":[{\"type\":\"choropleth\",\"colorbar\":{\"outlinewidth\":0,\"ticks\":\"\"}}],\"histogram2d\":[{\"type\":\"histogram2d\",\"colorbar\":{\"outlinewidth\":0,\"ticks\":\"\"},\"colorscale\":[[0.0,\"#0d0887\"],[0.1111111111111111,\"#46039f\"],[0.2222222222222222,\"#7201a8\"],[0.3333333333333333,\"#9c179e\"],[0.4444444444444444,\"#bd3786\"],[0.5555555555555556,\"#d8576b\"],[0.6666666666666666,\"#ed7953\"],[0.7777777777777778,\"#fb9f3a\"],[0.8888888888888888,\"#fdca26\"],[1.0,\"#f0f921\"]]}],\"heatmap\":[{\"type\":\"heatmap\",\"colorbar\":{\"outlinewidth\":0,\"ticks\":\"\"},\"colorscale\":[[0.0,\"#0d0887\"],[0.1111111111111111,\"#46039f\"],[0.2222222222222222,\"#7201a8\"],[0.3333333333333333,\"#9c179e\"],[0.4444444444444444,\"#bd3786\"],[0.5555555555555556,\"#d8576b\"],[0.6666666666666666,\"#ed7953\"],[0.7777777777777778,\"#fb9f3a\"],[0.8888888888888888,\"#fdca26\"],[1.0,\"#f0f921\"]]}],\"heatmapgl\":[{\"type\":\"heatmapgl\",\"colorbar\":{\"outlinewidth\":0,\"ticks\":\"\"},\"colorscale\":[[0.0,\"#0d0887\"],[0.1111111111111111,\"#46039f\"],[0.2222222222222222,\"#7201a8\"],[0.3333333333333333,\"#9c179e\"],[0.4444444444444444,\"#bd3786\"],[0.5555555555555556,\"#d8576b\"],[0.6666666666666666,\"#ed7953\"],[0.7777777777777778,\"#fb9f3a\"],[0.8888888888888888,\"#fdca26\"],[1.0,\"#f0f921\"]]}],\"contourcarpet\":[{\"type\":\"contourcarpet\",\"colorbar\":{\"outlinewidth\":0,\"ticks\":\"\"}}],\"contour\":[{\"type\":\"contour\",\"colorbar\":{\"outlinewidth\":0,\"ticks\":\"\"},\"colorscale\":[[0.0,\"#0d0887\"],[0.1111111111111111,\"#46039f\"],[0.2222222222222222,\"#7201a8\"],[0.3333333333333333,\"#9c179e\"],[0.4444444444444444,\"#bd3786\"],[0.5555555555555556,\"#d8576b\"],[0.6666666666666666,\"#ed7953\"],[0.7777777777777778,\"#fb9f3a\"],[0.8888888888888888,\"#fdca26\"],[1.0,\"#f0f921\"]]}],\"surface\":[{\"type\":\"surface\",\"colorbar\":{\"outlinewidth\":0,\"ticks\":\"\"},\"colorscale\":[[0.0,\"#0d0887\"],[0.1111111111111111,\"#46039f\"],[0.2222222222222222,\"#7201a8\"],[0.3333333333333333,\"#9c179e\"],[0.4444444444444444,\"#bd3786\"],[0.5555555555555556,\"#d8576b\"],[0.6666666666666666,\"#ed7953\"],[0.7777777777777778,\"#fb9f3a\"],[0.8888888888888888,\"#fdca26\"],[1.0,\"#f0f921\"]]}],\"mesh3d\":[{\"type\":\"mesh3d\",\"colorbar\":{\"outlinewidth\":0,\"ticks\":\"\"}}],\"scatter\":[{\"fillpattern\":{\"fillmode\":\"overlay\",\"size\":10,\"solidity\":0.2},\"type\":\"scatter\"}],\"parcoords\":[{\"type\":\"parcoords\",\"line\":{\"colorbar\":{\"outlinewidth\":0,\"ticks\":\"\"}}}],\"scatterpolargl\":[{\"type\":\"scatterpolargl\",\"marker\":{\"colorbar\":{\"outlinewidth\":0,\"ticks\":\"\"}}}],\"bar\":[{\"error_x\":{\"color\":\"#2a3f5f\"},\"error_y\":{\"color\":\"#2a3f5f\"},\"marker\":{\"line\":{\"color\":\"#E5ECF6\",\"width\":0.5},\"pattern\":{\"fillmode\":\"overlay\",\"size\":10,\"solidity\":0.2}},\"type\":\"bar\"}],\"scattergeo\":[{\"type\":\"scattergeo\",\"marker\":{\"colorbar\":{\"outlinewidth\":0,\"ticks\":\"\"}}}],\"scatterpolar\":[{\"type\":\"scatterpolar\",\"marker\":{\"colorbar\":{\"outlinewidth\":0,\"ticks\":\"\"}}}],\"histogram\":[{\"marker\":{\"pattern\":{\"fillmode\":\"overlay\",\"size\":10,\"solidity\":0.2}},\"type\":\"histogram\"}],\"scattergl\":[{\"type\":\"scattergl\",\"marker\":{\"colorbar\":{\"outlinewidth\":0,\"ticks\":\"\"}}}],\"scatter3d\":[{\"type\":\"scatter3d\",\"line\":{\"colorbar\":{\"outlinewidth\":0,\"ticks\":\"\"}},\"marker\":{\"colorbar\":{\"outlinewidth\":0,\"ticks\":\"\"}}}],\"scattermapbox\":[{\"type\":\"scattermapbox\",\"marker\":{\"colorbar\":{\"outlinewidth\":0,\"ticks\":\"\"}}}],\"scatterternary\":[{\"type\":\"scatterternary\",\"marker\":{\"colorbar\":{\"outlinewidth\":0,\"ticks\":\"\"}}}],\"scattercarpet\":[{\"type\":\"scattercarpet\",\"marker\":{\"colorbar\":{\"outlinewidth\":0,\"ticks\":\"\"}}}],\"carpet\":[{\"aaxis\":{\"endlinecolor\":\"#2a3f5f\",\"gridcolor\":\"white\",\"linecolor\":\"white\",\"minorgridcolor\":\"white\",\"startlinecolor\":\"#2a3f5f\"},\"baxis\":{\"endlinecolor\":\"#2a3f5f\",\"gridcolor\":\"white\",\"linecolor\":\"white\",\"minorgridcolor\":\"white\",\"startlinecolor\":\"#2a3f5f\"},\"type\":\"carpet\"}],\"table\":[{\"cells\":{\"fill\":{\"color\":\"#EBF0F8\"},\"line\":{\"color\":\"white\"}},\"header\":{\"fill\":{\"color\":\"#C8D4E3\"},\"line\":{\"color\":\"white\"}},\"type\":\"table\"}],\"barpolar\":[{\"marker\":{\"line\":{\"color\":\"#E5ECF6\",\"width\":0.5},\"pattern\":{\"fillmode\":\"overlay\",\"size\":10,\"solidity\":0.2}},\"type\":\"barpolar\"}],\"pie\":[{\"automargin\":true,\"type\":\"pie\"}]},\"layout\":{\"autotypenumbers\":\"strict\",\"colorway\":[\"#636efa\",\"#EF553B\",\"#00cc96\",\"#ab63fa\",\"#FFA15A\",\"#19d3f3\",\"#FF6692\",\"#B6E880\",\"#FF97FF\",\"#FECB52\"],\"font\":{\"color\":\"#2a3f5f\"},\"hovermode\":\"closest\",\"hoverlabel\":{\"align\":\"left\"},\"paper_bgcolor\":\"white\",\"plot_bgcolor\":\"#E5ECF6\",\"polar\":{\"bgcolor\":\"#E5ECF6\",\"angularaxis\":{\"gridcolor\":\"white\",\"linecolor\":\"white\",\"ticks\":\"\"},\"radialaxis\":{\"gridcolor\":\"white\",\"linecolor\":\"white\",\"ticks\":\"\"}},\"ternary\":{\"bgcolor\":\"#E5ECF6\",\"aaxis\":{\"gridcolor\":\"white\",\"linecolor\":\"white\",\"ticks\":\"\"},\"baxis\":{\"gridcolor\":\"white\",\"linecolor\":\"white\",\"ticks\":\"\"},\"caxis\":{\"gridcolor\":\"white\",\"linecolor\":\"white\",\"ticks\":\"\"}},\"coloraxis\":{\"colorbar\":{\"outlinewidth\":0,\"ticks\":\"\"}},\"colorscale\":{\"sequential\":[[0.0,\"#0d0887\"],[0.1111111111111111,\"#46039f\"],[0.2222222222222222,\"#7201a8\"],[0.3333333333333333,\"#9c179e\"],[0.4444444444444444,\"#bd3786\"],[0.5555555555555556,\"#d8576b\"],[0.6666666666666666,\"#ed7953\"],[0.7777777777777778,\"#fb9f3a\"],[0.8888888888888888,\"#fdca26\"],[1.0,\"#f0f921\"]],\"sequentialminus\":[[0.0,\"#0d0887\"],[0.1111111111111111,\"#46039f\"],[0.2222222222222222,\"#7201a8\"],[0.3333333333333333,\"#9c179e\"],[0.4444444444444444,\"#bd3786\"],[0.5555555555555556,\"#d8576b\"],[0.6666666666666666,\"#ed7953\"],[0.7777777777777778,\"#fb9f3a\"],[0.8888888888888888,\"#fdca26\"],[1.0,\"#f0f921\"]],\"diverging\":[[0,\"#8e0152\"],[0.1,\"#c51b7d\"],[0.2,\"#de77ae\"],[0.3,\"#f1b6da\"],[0.4,\"#fde0ef\"],[0.5,\"#f7f7f7\"],[0.6,\"#e6f5d0\"],[0.7,\"#b8e186\"],[0.8,\"#7fbc41\"],[0.9,\"#4d9221\"],[1,\"#276419\"]]},\"xaxis\":{\"gridcolor\":\"white\",\"linecolor\":\"white\",\"ticks\":\"\",\"title\":{\"standoff\":15},\"zerolinecolor\":\"white\",\"automargin\":true,\"zerolinewidth\":2},\"yaxis\":{\"gridcolor\":\"white\",\"linecolor\":\"white\",\"ticks\":\"\",\"title\":{\"standoff\":15},\"zerolinecolor\":\"white\",\"automargin\":true,\"zerolinewidth\":2},\"scene\":{\"xaxis\":{\"backgroundcolor\":\"#E5ECF6\",\"gridcolor\":\"white\",\"linecolor\":\"white\",\"showbackground\":true,\"ticks\":\"\",\"zerolinecolor\":\"white\",\"gridwidth\":2},\"yaxis\":{\"backgroundcolor\":\"#E5ECF6\",\"gridcolor\":\"white\",\"linecolor\":\"white\",\"showbackground\":true,\"ticks\":\"\",\"zerolinecolor\":\"white\",\"gridwidth\":2},\"zaxis\":{\"backgroundcolor\":\"#E5ECF6\",\"gridcolor\":\"white\",\"linecolor\":\"white\",\"showbackground\":true,\"ticks\":\"\",\"zerolinecolor\":\"white\",\"gridwidth\":2}},\"shapedefaults\":{\"line\":{\"color\":\"#2a3f5f\"}},\"annotationdefaults\":{\"arrowcolor\":\"#2a3f5f\",\"arrowhead\":0,\"arrowwidth\":1},\"geo\":{\"bgcolor\":\"white\",\"landcolor\":\"#E5ECF6\",\"subunitcolor\":\"white\",\"showland\":true,\"showlakes\":true,\"lakecolor\":\"white\"},\"title\":{\"x\":0.05},\"mapbox\":{\"style\":\"light\"}}},\"xaxis\":{\"anchor\":\"y\",\"domain\":[0.0,1.0],\"title\":{\"text\":\"Number of Clusters\"},\"tickvals\":[1,2,3,4,5,6,7,8,9,10,11,12,13,14,15,16,17,18,19,20]},\"yaxis\":{\"anchor\":\"x\",\"domain\":[0.0,1.0],\"title\":{\"text\":\"Sum of Squares (Distance)\"}},\"legend\":{\"tracegroupgap\":0},\"margin\":{\"t\":60},\"title\":{\"text\":\"Sum of Squares (Distance) vs. Number of Clusters\"}},                        {\"responsive\": true}                    ).then(function(){\n",
       "                            \n",
       "var gd = document.getElementById('49efba32-b7c9-47b8-b349-c4780c788bf6');\n",
       "var x = new MutationObserver(function (mutations, observer) {{\n",
       "        var display = window.getComputedStyle(gd).display;\n",
       "        if (!display || display === 'none') {{\n",
       "            console.log([gd, 'removed!']);\n",
       "            Plotly.purge(gd);\n",
       "            observer.disconnect();\n",
       "        }}\n",
       "}});\n",
       "\n",
       "// Listen for the removal of the full notebook cells\n",
       "var notebookContainer = gd.closest('#notebook-container');\n",
       "if (notebookContainer) {{\n",
       "    x.observe(notebookContainer, {childList: true});\n",
       "}}\n",
       "\n",
       "// Listen for the clearing of the current output cell\n",
       "var outputEl = gd.closest('.output');\n",
       "if (outputEl) {{\n",
       "    x.observe(outputEl, {childList: true});\n",
       "}}\n",
       "\n",
       "                        })                };                });            </script>        </div>"
      ]
     },
     "metadata": {},
     "output_type": "display_data"
    },
    {
     "data": {
      "text/plain": [
       "<Figure size 1200x800 with 0 Axes>"
      ]
     },
     "metadata": {},
     "output_type": "display_data"
    }
   ],
   "source": [
    "plt.figure(figsize=[12, 8])\n",
    "\n",
    "fig = px.line(x=range(1, 21), y=sum_of_sq_dist)\n",
    "\n",
    "fig.update_layout(\n",
    "    xaxis = dict(tickvals = list(range(1, 21))),\n",
    "    title=\"Sum of Squares (Distance) vs. Number of Clusters\",\n",
    "    xaxis_title=\"Number of Clusters\",\n",
    "    yaxis_title=\"Sum of Squares (Distance)\")\n",
    "\n",
    "fig.show()"
   ]
  },
  {
   "cell_type": "code",
   "execution_count": 65,
   "id": "f7e35500",
   "metadata": {},
   "outputs": [
    {
     "name": "stdout",
     "output_type": "stream",
     "text": [
      "Silhouette Score for 2 clusters: 0.5196135924140587\n",
      "Silhouette Score for 3 clusters: 0.487900852437009\n",
      "Silhouette Score for 4 clusters: 0.4594108587065218\n",
      "Silhouette Score for 5 clusters: 0.4069847416911584\n",
      "Silhouette Score for 6 clusters: 0.36752567759438765\n",
      "Silhouette Score for 7 clusters: 0.3719712911595111\n",
      "Silhouette Score for 8 clusters: 0.3903117910169822\n",
      "Silhouette Score for 9 clusters: 0.3538218667497919\n",
      "Silhouette Score for 10 clusters: 0.35556621536370747\n",
      "Silhouette Score for 11 clusters: 0.37243150561349\n",
      "Silhouette Score for 12 clusters: 0.3819939581951396\n",
      "Silhouette Score for 13 clusters: 0.38188669007493564\n",
      "Silhouette Score for 14 clusters: 0.3842636472489243\n",
      "Silhouette Score for 15 clusters: 0.38290579109456535\n",
      "Silhouette Score for 16 clusters: 0.38634414806292877\n",
      "Silhouette Score for 17 clusters: 0.3642628119069774\n",
      "Silhouette Score for 18 clusters: 0.361116884619734\n",
      "Silhouette Score for 19 clusters: 0.364019719344189\n",
      "Silhouette Score for 20 clusters: 0.3549712398042455\n"
     ]
    }
   ],
   "source": [
    "silhouette_scores = []\n",
    "\n",
    "for i in range(2, 21):\n",
    "    \n",
    "    model = KMeans(n_clusters = i)\n",
    "    \n",
    "    model.fit(X_stunting)\n",
    "    \n",
    "    silhouette_scores.append(silhouette_score(X_stunting, model.labels_))\n",
    "    print(\"Silhouette Score for {} clusters: {}\".format(i, silhouette_scores[i-2]))\n",
    "\n"
   ]
  },
  {
   "cell_type": "code",
   "execution_count": 66,
   "id": "dda3a345",
   "metadata": {},
   "outputs": [
    {
     "data": {
      "application/vnd.plotly.v1+json": {
       "config": {
        "plotlyServerURL": "https://plot.ly"
       },
       "data": [
        {
         "hovertemplate": "x=%{x}<br>y=%{y}<extra></extra>",
         "legendgroup": "",
         "line": {
          "color": "#636efa",
          "dash": "solid"
         },
         "marker": {
          "symbol": "circle"
         },
         "mode": "lines",
         "name": "",
         "orientation": "v",
         "showlegend": false,
         "type": "scatter",
         "x": [
          2,
          3,
          4,
          5,
          6,
          7,
          8,
          9,
          10,
          11,
          12,
          13,
          14,
          15,
          16,
          17,
          18,
          19,
          20
         ],
         "xaxis": "x",
         "y": [
          0.5196135924140587,
          0.487900852437009,
          0.4594108587065218,
          0.4069847416911584,
          0.36752567759438765,
          0.3719712911595111,
          0.3903117910169822,
          0.3538218667497919,
          0.35556621536370747,
          0.37243150561349,
          0.3819939581951396,
          0.38188669007493564,
          0.3842636472489243,
          0.38290579109456535,
          0.38634414806292877,
          0.3642628119069774,
          0.361116884619734,
          0.364019719344189,
          0.3549712398042455
         ],
         "yaxis": "y"
        }
       ],
       "layout": {
        "legend": {
         "tracegroupgap": 0
        },
        "margin": {
         "t": 60
        },
        "template": {
         "data": {
          "bar": [
           {
            "error_x": {
             "color": "#2a3f5f"
            },
            "error_y": {
             "color": "#2a3f5f"
            },
            "marker": {
             "line": {
              "color": "#E5ECF6",
              "width": 0.5
             },
             "pattern": {
              "fillmode": "overlay",
              "size": 10,
              "solidity": 0.2
             }
            },
            "type": "bar"
           }
          ],
          "barpolar": [
           {
            "marker": {
             "line": {
              "color": "#E5ECF6",
              "width": 0.5
             },
             "pattern": {
              "fillmode": "overlay",
              "size": 10,
              "solidity": 0.2
             }
            },
            "type": "barpolar"
           }
          ],
          "carpet": [
           {
            "aaxis": {
             "endlinecolor": "#2a3f5f",
             "gridcolor": "white",
             "linecolor": "white",
             "minorgridcolor": "white",
             "startlinecolor": "#2a3f5f"
            },
            "baxis": {
             "endlinecolor": "#2a3f5f",
             "gridcolor": "white",
             "linecolor": "white",
             "minorgridcolor": "white",
             "startlinecolor": "#2a3f5f"
            },
            "type": "carpet"
           }
          ],
          "choropleth": [
           {
            "colorbar": {
             "outlinewidth": 0,
             "ticks": ""
            },
            "type": "choropleth"
           }
          ],
          "contour": [
           {
            "colorbar": {
             "outlinewidth": 0,
             "ticks": ""
            },
            "colorscale": [
             [
              0,
              "#0d0887"
             ],
             [
              0.1111111111111111,
              "#46039f"
             ],
             [
              0.2222222222222222,
              "#7201a8"
             ],
             [
              0.3333333333333333,
              "#9c179e"
             ],
             [
              0.4444444444444444,
              "#bd3786"
             ],
             [
              0.5555555555555556,
              "#d8576b"
             ],
             [
              0.6666666666666666,
              "#ed7953"
             ],
             [
              0.7777777777777778,
              "#fb9f3a"
             ],
             [
              0.8888888888888888,
              "#fdca26"
             ],
             [
              1,
              "#f0f921"
             ]
            ],
            "type": "contour"
           }
          ],
          "contourcarpet": [
           {
            "colorbar": {
             "outlinewidth": 0,
             "ticks": ""
            },
            "type": "contourcarpet"
           }
          ],
          "heatmap": [
           {
            "colorbar": {
             "outlinewidth": 0,
             "ticks": ""
            },
            "colorscale": [
             [
              0,
              "#0d0887"
             ],
             [
              0.1111111111111111,
              "#46039f"
             ],
             [
              0.2222222222222222,
              "#7201a8"
             ],
             [
              0.3333333333333333,
              "#9c179e"
             ],
             [
              0.4444444444444444,
              "#bd3786"
             ],
             [
              0.5555555555555556,
              "#d8576b"
             ],
             [
              0.6666666666666666,
              "#ed7953"
             ],
             [
              0.7777777777777778,
              "#fb9f3a"
             ],
             [
              0.8888888888888888,
              "#fdca26"
             ],
             [
              1,
              "#f0f921"
             ]
            ],
            "type": "heatmap"
           }
          ],
          "heatmapgl": [
           {
            "colorbar": {
             "outlinewidth": 0,
             "ticks": ""
            },
            "colorscale": [
             [
              0,
              "#0d0887"
             ],
             [
              0.1111111111111111,
              "#46039f"
             ],
             [
              0.2222222222222222,
              "#7201a8"
             ],
             [
              0.3333333333333333,
              "#9c179e"
             ],
             [
              0.4444444444444444,
              "#bd3786"
             ],
             [
              0.5555555555555556,
              "#d8576b"
             ],
             [
              0.6666666666666666,
              "#ed7953"
             ],
             [
              0.7777777777777778,
              "#fb9f3a"
             ],
             [
              0.8888888888888888,
              "#fdca26"
             ],
             [
              1,
              "#f0f921"
             ]
            ],
            "type": "heatmapgl"
           }
          ],
          "histogram": [
           {
            "marker": {
             "pattern": {
              "fillmode": "overlay",
              "size": 10,
              "solidity": 0.2
             }
            },
            "type": "histogram"
           }
          ],
          "histogram2d": [
           {
            "colorbar": {
             "outlinewidth": 0,
             "ticks": ""
            },
            "colorscale": [
             [
              0,
              "#0d0887"
             ],
             [
              0.1111111111111111,
              "#46039f"
             ],
             [
              0.2222222222222222,
              "#7201a8"
             ],
             [
              0.3333333333333333,
              "#9c179e"
             ],
             [
              0.4444444444444444,
              "#bd3786"
             ],
             [
              0.5555555555555556,
              "#d8576b"
             ],
             [
              0.6666666666666666,
              "#ed7953"
             ],
             [
              0.7777777777777778,
              "#fb9f3a"
             ],
             [
              0.8888888888888888,
              "#fdca26"
             ],
             [
              1,
              "#f0f921"
             ]
            ],
            "type": "histogram2d"
           }
          ],
          "histogram2dcontour": [
           {
            "colorbar": {
             "outlinewidth": 0,
             "ticks": ""
            },
            "colorscale": [
             [
              0,
              "#0d0887"
             ],
             [
              0.1111111111111111,
              "#46039f"
             ],
             [
              0.2222222222222222,
              "#7201a8"
             ],
             [
              0.3333333333333333,
              "#9c179e"
             ],
             [
              0.4444444444444444,
              "#bd3786"
             ],
             [
              0.5555555555555556,
              "#d8576b"
             ],
             [
              0.6666666666666666,
              "#ed7953"
             ],
             [
              0.7777777777777778,
              "#fb9f3a"
             ],
             [
              0.8888888888888888,
              "#fdca26"
             ],
             [
              1,
              "#f0f921"
             ]
            ],
            "type": "histogram2dcontour"
           }
          ],
          "mesh3d": [
           {
            "colorbar": {
             "outlinewidth": 0,
             "ticks": ""
            },
            "type": "mesh3d"
           }
          ],
          "parcoords": [
           {
            "line": {
             "colorbar": {
              "outlinewidth": 0,
              "ticks": ""
             }
            },
            "type": "parcoords"
           }
          ],
          "pie": [
           {
            "automargin": true,
            "type": "pie"
           }
          ],
          "scatter": [
           {
            "fillpattern": {
             "fillmode": "overlay",
             "size": 10,
             "solidity": 0.2
            },
            "type": "scatter"
           }
          ],
          "scatter3d": [
           {
            "line": {
             "colorbar": {
              "outlinewidth": 0,
              "ticks": ""
             }
            },
            "marker": {
             "colorbar": {
              "outlinewidth": 0,
              "ticks": ""
             }
            },
            "type": "scatter3d"
           }
          ],
          "scattercarpet": [
           {
            "marker": {
             "colorbar": {
              "outlinewidth": 0,
              "ticks": ""
             }
            },
            "type": "scattercarpet"
           }
          ],
          "scattergeo": [
           {
            "marker": {
             "colorbar": {
              "outlinewidth": 0,
              "ticks": ""
             }
            },
            "type": "scattergeo"
           }
          ],
          "scattergl": [
           {
            "marker": {
             "colorbar": {
              "outlinewidth": 0,
              "ticks": ""
             }
            },
            "type": "scattergl"
           }
          ],
          "scattermapbox": [
           {
            "marker": {
             "colorbar": {
              "outlinewidth": 0,
              "ticks": ""
             }
            },
            "type": "scattermapbox"
           }
          ],
          "scatterpolar": [
           {
            "marker": {
             "colorbar": {
              "outlinewidth": 0,
              "ticks": ""
             }
            },
            "type": "scatterpolar"
           }
          ],
          "scatterpolargl": [
           {
            "marker": {
             "colorbar": {
              "outlinewidth": 0,
              "ticks": ""
             }
            },
            "type": "scatterpolargl"
           }
          ],
          "scatterternary": [
           {
            "marker": {
             "colorbar": {
              "outlinewidth": 0,
              "ticks": ""
             }
            },
            "type": "scatterternary"
           }
          ],
          "surface": [
           {
            "colorbar": {
             "outlinewidth": 0,
             "ticks": ""
            },
            "colorscale": [
             [
              0,
              "#0d0887"
             ],
             [
              0.1111111111111111,
              "#46039f"
             ],
             [
              0.2222222222222222,
              "#7201a8"
             ],
             [
              0.3333333333333333,
              "#9c179e"
             ],
             [
              0.4444444444444444,
              "#bd3786"
             ],
             [
              0.5555555555555556,
              "#d8576b"
             ],
             [
              0.6666666666666666,
              "#ed7953"
             ],
             [
              0.7777777777777778,
              "#fb9f3a"
             ],
             [
              0.8888888888888888,
              "#fdca26"
             ],
             [
              1,
              "#f0f921"
             ]
            ],
            "type": "surface"
           }
          ],
          "table": [
           {
            "cells": {
             "fill": {
              "color": "#EBF0F8"
             },
             "line": {
              "color": "white"
             }
            },
            "header": {
             "fill": {
              "color": "#C8D4E3"
             },
             "line": {
              "color": "white"
             }
            },
            "type": "table"
           }
          ]
         },
         "layout": {
          "annotationdefaults": {
           "arrowcolor": "#2a3f5f",
           "arrowhead": 0,
           "arrowwidth": 1
          },
          "autotypenumbers": "strict",
          "coloraxis": {
           "colorbar": {
            "outlinewidth": 0,
            "ticks": ""
           }
          },
          "colorscale": {
           "diverging": [
            [
             0,
             "#8e0152"
            ],
            [
             0.1,
             "#c51b7d"
            ],
            [
             0.2,
             "#de77ae"
            ],
            [
             0.3,
             "#f1b6da"
            ],
            [
             0.4,
             "#fde0ef"
            ],
            [
             0.5,
             "#f7f7f7"
            ],
            [
             0.6,
             "#e6f5d0"
            ],
            [
             0.7,
             "#b8e186"
            ],
            [
             0.8,
             "#7fbc41"
            ],
            [
             0.9,
             "#4d9221"
            ],
            [
             1,
             "#276419"
            ]
           ],
           "sequential": [
            [
             0,
             "#0d0887"
            ],
            [
             0.1111111111111111,
             "#46039f"
            ],
            [
             0.2222222222222222,
             "#7201a8"
            ],
            [
             0.3333333333333333,
             "#9c179e"
            ],
            [
             0.4444444444444444,
             "#bd3786"
            ],
            [
             0.5555555555555556,
             "#d8576b"
            ],
            [
             0.6666666666666666,
             "#ed7953"
            ],
            [
             0.7777777777777778,
             "#fb9f3a"
            ],
            [
             0.8888888888888888,
             "#fdca26"
            ],
            [
             1,
             "#f0f921"
            ]
           ],
           "sequentialminus": [
            [
             0,
             "#0d0887"
            ],
            [
             0.1111111111111111,
             "#46039f"
            ],
            [
             0.2222222222222222,
             "#7201a8"
            ],
            [
             0.3333333333333333,
             "#9c179e"
            ],
            [
             0.4444444444444444,
             "#bd3786"
            ],
            [
             0.5555555555555556,
             "#d8576b"
            ],
            [
             0.6666666666666666,
             "#ed7953"
            ],
            [
             0.7777777777777778,
             "#fb9f3a"
            ],
            [
             0.8888888888888888,
             "#fdca26"
            ],
            [
             1,
             "#f0f921"
            ]
           ]
          },
          "colorway": [
           "#636efa",
           "#EF553B",
           "#00cc96",
           "#ab63fa",
           "#FFA15A",
           "#19d3f3",
           "#FF6692",
           "#B6E880",
           "#FF97FF",
           "#FECB52"
          ],
          "font": {
           "color": "#2a3f5f"
          },
          "geo": {
           "bgcolor": "white",
           "lakecolor": "white",
           "landcolor": "#E5ECF6",
           "showlakes": true,
           "showland": true,
           "subunitcolor": "white"
          },
          "hoverlabel": {
           "align": "left"
          },
          "hovermode": "closest",
          "mapbox": {
           "style": "light"
          },
          "paper_bgcolor": "white",
          "plot_bgcolor": "#E5ECF6",
          "polar": {
           "angularaxis": {
            "gridcolor": "white",
            "linecolor": "white",
            "ticks": ""
           },
           "bgcolor": "#E5ECF6",
           "radialaxis": {
            "gridcolor": "white",
            "linecolor": "white",
            "ticks": ""
           }
          },
          "scene": {
           "xaxis": {
            "backgroundcolor": "#E5ECF6",
            "gridcolor": "white",
            "gridwidth": 2,
            "linecolor": "white",
            "showbackground": true,
            "ticks": "",
            "zerolinecolor": "white"
           },
           "yaxis": {
            "backgroundcolor": "#E5ECF6",
            "gridcolor": "white",
            "gridwidth": 2,
            "linecolor": "white",
            "showbackground": true,
            "ticks": "",
            "zerolinecolor": "white"
           },
           "zaxis": {
            "backgroundcolor": "#E5ECF6",
            "gridcolor": "white",
            "gridwidth": 2,
            "linecolor": "white",
            "showbackground": true,
            "ticks": "",
            "zerolinecolor": "white"
           }
          },
          "shapedefaults": {
           "line": {
            "color": "#2a3f5f"
           }
          },
          "ternary": {
           "aaxis": {
            "gridcolor": "white",
            "linecolor": "white",
            "ticks": ""
           },
           "baxis": {
            "gridcolor": "white",
            "linecolor": "white",
            "ticks": ""
           },
           "bgcolor": "#E5ECF6",
           "caxis": {
            "gridcolor": "white",
            "linecolor": "white",
            "ticks": ""
           }
          },
          "title": {
           "x": 0.05
          },
          "xaxis": {
           "automargin": true,
           "gridcolor": "white",
           "linecolor": "white",
           "ticks": "",
           "title": {
            "standoff": 15
           },
           "zerolinecolor": "white",
           "zerolinewidth": 2
          },
          "yaxis": {
           "automargin": true,
           "gridcolor": "white",
           "linecolor": "white",
           "ticks": "",
           "title": {
            "standoff": 15
           },
           "zerolinecolor": "white",
           "zerolinewidth": 2
          }
         }
        },
        "title": {
         "text": "Silhoette Score vs. Number of Clusters"
        },
        "xaxis": {
         "anchor": "y",
         "domain": [
          0,
          1
         ],
         "tickvals": [
          2,
          3,
          4,
          5,
          6,
          7,
          8,
          9,
          10,
          11,
          12,
          13,
          14,
          15,
          16,
          17,
          18,
          19,
          20
         ],
         "title": {
          "text": "Number of Clusters"
         }
        },
        "yaxis": {
         "anchor": "x",
         "domain": [
          0,
          1
         ],
         "title": {
          "text": "Silhouette Score"
         }
        }
       }
      },
      "text/html": [
       "<div>                            <div id=\"567f8ef3-b6f6-4679-ab48-da3f26e4f897\" class=\"plotly-graph-div\" style=\"height:525px; width:100%;\"></div>            <script type=\"text/javascript\">                require([\"plotly\"], function(Plotly) {                    window.PLOTLYENV=window.PLOTLYENV || {};                                    if (document.getElementById(\"567f8ef3-b6f6-4679-ab48-da3f26e4f897\")) {                    Plotly.newPlot(                        \"567f8ef3-b6f6-4679-ab48-da3f26e4f897\",                        [{\"hovertemplate\":\"x=%{x}<br>y=%{y}<extra></extra>\",\"legendgroup\":\"\",\"line\":{\"color\":\"#636efa\",\"dash\":\"solid\"},\"marker\":{\"symbol\":\"circle\"},\"mode\":\"lines\",\"name\":\"\",\"orientation\":\"v\",\"showlegend\":false,\"x\":[2,3,4,5,6,7,8,9,10,11,12,13,14,15,16,17,18,19,20],\"xaxis\":\"x\",\"y\":[0.5196135924140587,0.487900852437009,0.4594108587065218,0.4069847416911584,0.36752567759438765,0.3719712911595111,0.3903117910169822,0.3538218667497919,0.35556621536370747,0.37243150561349,0.3819939581951396,0.38188669007493564,0.3842636472489243,0.38290579109456535,0.38634414806292877,0.3642628119069774,0.361116884619734,0.364019719344189,0.3549712398042455],\"yaxis\":\"y\",\"type\":\"scatter\"}],                        {\"template\":{\"data\":{\"histogram2dcontour\":[{\"type\":\"histogram2dcontour\",\"colorbar\":{\"outlinewidth\":0,\"ticks\":\"\"},\"colorscale\":[[0.0,\"#0d0887\"],[0.1111111111111111,\"#46039f\"],[0.2222222222222222,\"#7201a8\"],[0.3333333333333333,\"#9c179e\"],[0.4444444444444444,\"#bd3786\"],[0.5555555555555556,\"#d8576b\"],[0.6666666666666666,\"#ed7953\"],[0.7777777777777778,\"#fb9f3a\"],[0.8888888888888888,\"#fdca26\"],[1.0,\"#f0f921\"]]}],\"choropleth\":[{\"type\":\"choropleth\",\"colorbar\":{\"outlinewidth\":0,\"ticks\":\"\"}}],\"histogram2d\":[{\"type\":\"histogram2d\",\"colorbar\":{\"outlinewidth\":0,\"ticks\":\"\"},\"colorscale\":[[0.0,\"#0d0887\"],[0.1111111111111111,\"#46039f\"],[0.2222222222222222,\"#7201a8\"],[0.3333333333333333,\"#9c179e\"],[0.4444444444444444,\"#bd3786\"],[0.5555555555555556,\"#d8576b\"],[0.6666666666666666,\"#ed7953\"],[0.7777777777777778,\"#fb9f3a\"],[0.8888888888888888,\"#fdca26\"],[1.0,\"#f0f921\"]]}],\"heatmap\":[{\"type\":\"heatmap\",\"colorbar\":{\"outlinewidth\":0,\"ticks\":\"\"},\"colorscale\":[[0.0,\"#0d0887\"],[0.1111111111111111,\"#46039f\"],[0.2222222222222222,\"#7201a8\"],[0.3333333333333333,\"#9c179e\"],[0.4444444444444444,\"#bd3786\"],[0.5555555555555556,\"#d8576b\"],[0.6666666666666666,\"#ed7953\"],[0.7777777777777778,\"#fb9f3a\"],[0.8888888888888888,\"#fdca26\"],[1.0,\"#f0f921\"]]}],\"heatmapgl\":[{\"type\":\"heatmapgl\",\"colorbar\":{\"outlinewidth\":0,\"ticks\":\"\"},\"colorscale\":[[0.0,\"#0d0887\"],[0.1111111111111111,\"#46039f\"],[0.2222222222222222,\"#7201a8\"],[0.3333333333333333,\"#9c179e\"],[0.4444444444444444,\"#bd3786\"],[0.5555555555555556,\"#d8576b\"],[0.6666666666666666,\"#ed7953\"],[0.7777777777777778,\"#fb9f3a\"],[0.8888888888888888,\"#fdca26\"],[1.0,\"#f0f921\"]]}],\"contourcarpet\":[{\"type\":\"contourcarpet\",\"colorbar\":{\"outlinewidth\":0,\"ticks\":\"\"}}],\"contour\":[{\"type\":\"contour\",\"colorbar\":{\"outlinewidth\":0,\"ticks\":\"\"},\"colorscale\":[[0.0,\"#0d0887\"],[0.1111111111111111,\"#46039f\"],[0.2222222222222222,\"#7201a8\"],[0.3333333333333333,\"#9c179e\"],[0.4444444444444444,\"#bd3786\"],[0.5555555555555556,\"#d8576b\"],[0.6666666666666666,\"#ed7953\"],[0.7777777777777778,\"#fb9f3a\"],[0.8888888888888888,\"#fdca26\"],[1.0,\"#f0f921\"]]}],\"surface\":[{\"type\":\"surface\",\"colorbar\":{\"outlinewidth\":0,\"ticks\":\"\"},\"colorscale\":[[0.0,\"#0d0887\"],[0.1111111111111111,\"#46039f\"],[0.2222222222222222,\"#7201a8\"],[0.3333333333333333,\"#9c179e\"],[0.4444444444444444,\"#bd3786\"],[0.5555555555555556,\"#d8576b\"],[0.6666666666666666,\"#ed7953\"],[0.7777777777777778,\"#fb9f3a\"],[0.8888888888888888,\"#fdca26\"],[1.0,\"#f0f921\"]]}],\"mesh3d\":[{\"type\":\"mesh3d\",\"colorbar\":{\"outlinewidth\":0,\"ticks\":\"\"}}],\"scatter\":[{\"fillpattern\":{\"fillmode\":\"overlay\",\"size\":10,\"solidity\":0.2},\"type\":\"scatter\"}],\"parcoords\":[{\"type\":\"parcoords\",\"line\":{\"colorbar\":{\"outlinewidth\":0,\"ticks\":\"\"}}}],\"scatterpolargl\":[{\"type\":\"scatterpolargl\",\"marker\":{\"colorbar\":{\"outlinewidth\":0,\"ticks\":\"\"}}}],\"bar\":[{\"error_x\":{\"color\":\"#2a3f5f\"},\"error_y\":{\"color\":\"#2a3f5f\"},\"marker\":{\"line\":{\"color\":\"#E5ECF6\",\"width\":0.5},\"pattern\":{\"fillmode\":\"overlay\",\"size\":10,\"solidity\":0.2}},\"type\":\"bar\"}],\"scattergeo\":[{\"type\":\"scattergeo\",\"marker\":{\"colorbar\":{\"outlinewidth\":0,\"ticks\":\"\"}}}],\"scatterpolar\":[{\"type\":\"scatterpolar\",\"marker\":{\"colorbar\":{\"outlinewidth\":0,\"ticks\":\"\"}}}],\"histogram\":[{\"marker\":{\"pattern\":{\"fillmode\":\"overlay\",\"size\":10,\"solidity\":0.2}},\"type\":\"histogram\"}],\"scattergl\":[{\"type\":\"scattergl\",\"marker\":{\"colorbar\":{\"outlinewidth\":0,\"ticks\":\"\"}}}],\"scatter3d\":[{\"type\":\"scatter3d\",\"line\":{\"colorbar\":{\"outlinewidth\":0,\"ticks\":\"\"}},\"marker\":{\"colorbar\":{\"outlinewidth\":0,\"ticks\":\"\"}}}],\"scattermapbox\":[{\"type\":\"scattermapbox\",\"marker\":{\"colorbar\":{\"outlinewidth\":0,\"ticks\":\"\"}}}],\"scatterternary\":[{\"type\":\"scatterternary\",\"marker\":{\"colorbar\":{\"outlinewidth\":0,\"ticks\":\"\"}}}],\"scattercarpet\":[{\"type\":\"scattercarpet\",\"marker\":{\"colorbar\":{\"outlinewidth\":0,\"ticks\":\"\"}}}],\"carpet\":[{\"aaxis\":{\"endlinecolor\":\"#2a3f5f\",\"gridcolor\":\"white\",\"linecolor\":\"white\",\"minorgridcolor\":\"white\",\"startlinecolor\":\"#2a3f5f\"},\"baxis\":{\"endlinecolor\":\"#2a3f5f\",\"gridcolor\":\"white\",\"linecolor\":\"white\",\"minorgridcolor\":\"white\",\"startlinecolor\":\"#2a3f5f\"},\"type\":\"carpet\"}],\"table\":[{\"cells\":{\"fill\":{\"color\":\"#EBF0F8\"},\"line\":{\"color\":\"white\"}},\"header\":{\"fill\":{\"color\":\"#C8D4E3\"},\"line\":{\"color\":\"white\"}},\"type\":\"table\"}],\"barpolar\":[{\"marker\":{\"line\":{\"color\":\"#E5ECF6\",\"width\":0.5},\"pattern\":{\"fillmode\":\"overlay\",\"size\":10,\"solidity\":0.2}},\"type\":\"barpolar\"}],\"pie\":[{\"automargin\":true,\"type\":\"pie\"}]},\"layout\":{\"autotypenumbers\":\"strict\",\"colorway\":[\"#636efa\",\"#EF553B\",\"#00cc96\",\"#ab63fa\",\"#FFA15A\",\"#19d3f3\",\"#FF6692\",\"#B6E880\",\"#FF97FF\",\"#FECB52\"],\"font\":{\"color\":\"#2a3f5f\"},\"hovermode\":\"closest\",\"hoverlabel\":{\"align\":\"left\"},\"paper_bgcolor\":\"white\",\"plot_bgcolor\":\"#E5ECF6\",\"polar\":{\"bgcolor\":\"#E5ECF6\",\"angularaxis\":{\"gridcolor\":\"white\",\"linecolor\":\"white\",\"ticks\":\"\"},\"radialaxis\":{\"gridcolor\":\"white\",\"linecolor\":\"white\",\"ticks\":\"\"}},\"ternary\":{\"bgcolor\":\"#E5ECF6\",\"aaxis\":{\"gridcolor\":\"white\",\"linecolor\":\"white\",\"ticks\":\"\"},\"baxis\":{\"gridcolor\":\"white\",\"linecolor\":\"white\",\"ticks\":\"\"},\"caxis\":{\"gridcolor\":\"white\",\"linecolor\":\"white\",\"ticks\":\"\"}},\"coloraxis\":{\"colorbar\":{\"outlinewidth\":0,\"ticks\":\"\"}},\"colorscale\":{\"sequential\":[[0.0,\"#0d0887\"],[0.1111111111111111,\"#46039f\"],[0.2222222222222222,\"#7201a8\"],[0.3333333333333333,\"#9c179e\"],[0.4444444444444444,\"#bd3786\"],[0.5555555555555556,\"#d8576b\"],[0.6666666666666666,\"#ed7953\"],[0.7777777777777778,\"#fb9f3a\"],[0.8888888888888888,\"#fdca26\"],[1.0,\"#f0f921\"]],\"sequentialminus\":[[0.0,\"#0d0887\"],[0.1111111111111111,\"#46039f\"],[0.2222222222222222,\"#7201a8\"],[0.3333333333333333,\"#9c179e\"],[0.4444444444444444,\"#bd3786\"],[0.5555555555555556,\"#d8576b\"],[0.6666666666666666,\"#ed7953\"],[0.7777777777777778,\"#fb9f3a\"],[0.8888888888888888,\"#fdca26\"],[1.0,\"#f0f921\"]],\"diverging\":[[0,\"#8e0152\"],[0.1,\"#c51b7d\"],[0.2,\"#de77ae\"],[0.3,\"#f1b6da\"],[0.4,\"#fde0ef\"],[0.5,\"#f7f7f7\"],[0.6,\"#e6f5d0\"],[0.7,\"#b8e186\"],[0.8,\"#7fbc41\"],[0.9,\"#4d9221\"],[1,\"#276419\"]]},\"xaxis\":{\"gridcolor\":\"white\",\"linecolor\":\"white\",\"ticks\":\"\",\"title\":{\"standoff\":15},\"zerolinecolor\":\"white\",\"automargin\":true,\"zerolinewidth\":2},\"yaxis\":{\"gridcolor\":\"white\",\"linecolor\":\"white\",\"ticks\":\"\",\"title\":{\"standoff\":15},\"zerolinecolor\":\"white\",\"automargin\":true,\"zerolinewidth\":2},\"scene\":{\"xaxis\":{\"backgroundcolor\":\"#E5ECF6\",\"gridcolor\":\"white\",\"linecolor\":\"white\",\"showbackground\":true,\"ticks\":\"\",\"zerolinecolor\":\"white\",\"gridwidth\":2},\"yaxis\":{\"backgroundcolor\":\"#E5ECF6\",\"gridcolor\":\"white\",\"linecolor\":\"white\",\"showbackground\":true,\"ticks\":\"\",\"zerolinecolor\":\"white\",\"gridwidth\":2},\"zaxis\":{\"backgroundcolor\":\"#E5ECF6\",\"gridcolor\":\"white\",\"linecolor\":\"white\",\"showbackground\":true,\"ticks\":\"\",\"zerolinecolor\":\"white\",\"gridwidth\":2}},\"shapedefaults\":{\"line\":{\"color\":\"#2a3f5f\"}},\"annotationdefaults\":{\"arrowcolor\":\"#2a3f5f\",\"arrowhead\":0,\"arrowwidth\":1},\"geo\":{\"bgcolor\":\"white\",\"landcolor\":\"#E5ECF6\",\"subunitcolor\":\"white\",\"showland\":true,\"showlakes\":true,\"lakecolor\":\"white\"},\"title\":{\"x\":0.05},\"mapbox\":{\"style\":\"light\"}}},\"xaxis\":{\"anchor\":\"y\",\"domain\":[0.0,1.0],\"title\":{\"text\":\"Number of Clusters\"},\"tickvals\":[2,3,4,5,6,7,8,9,10,11,12,13,14,15,16,17,18,19,20]},\"yaxis\":{\"anchor\":\"x\",\"domain\":[0.0,1.0],\"title\":{\"text\":\"Silhouette Score\"}},\"legend\":{\"tracegroupgap\":0},\"margin\":{\"t\":60},\"title\":{\"text\":\"Silhoette Score vs. Number of Clusters\"}},                        {\"responsive\": true}                    ).then(function(){\n",
       "                            \n",
       "var gd = document.getElementById('567f8ef3-b6f6-4679-ab48-da3f26e4f897');\n",
       "var x = new MutationObserver(function (mutations, observer) {{\n",
       "        var display = window.getComputedStyle(gd).display;\n",
       "        if (!display || display === 'none') {{\n",
       "            console.log([gd, 'removed!']);\n",
       "            Plotly.purge(gd);\n",
       "            observer.disconnect();\n",
       "        }}\n",
       "}});\n",
       "\n",
       "// Listen for the removal of the full notebook cells\n",
       "var notebookContainer = gd.closest('#notebook-container');\n",
       "if (notebookContainer) {{\n",
       "    x.observe(notebookContainer, {childList: true});\n",
       "}}\n",
       "\n",
       "// Listen for the clearing of the current output cell\n",
       "var outputEl = gd.closest('.output');\n",
       "if (outputEl) {{\n",
       "    x.observe(outputEl, {childList: true});\n",
       "}}\n",
       "\n",
       "                        })                };                });            </script>        </div>"
      ]
     },
     "metadata": {},
     "output_type": "display_data"
    },
    {
     "data": {
      "text/plain": [
       "<Figure size 1200x800 with 0 Axes>"
      ]
     },
     "metadata": {},
     "output_type": "display_data"
    }
   ],
   "source": [
    "plt.figure(figsize=[12, 8])\n",
    "\n",
    "fig = px.line(x=range(2, 21), y=silhouette_scores)\n",
    "\n",
    "fig.update_layout(\n",
    "    xaxis = dict(tickvals = list(range(2, 21))),\n",
    "    title=\"Silhoette Score vs. Number of Clusters\",\n",
    "    xaxis_title=\"Number of Clusters\",\n",
    "    yaxis_title=\"Silhouette Score\")\n",
    "\n",
    "fig.show()"
   ]
  },
  {
   "cell_type": "code",
   "execution_count": 67,
   "id": "d3882713",
   "metadata": {},
   "outputs": [
    {
     "data": {
      "image/png": "[encoded data removed]",
      "text/plain": [
       "<Figure size 1050x600 with 1 Axes>"
      ]
     },
     "metadata": {},
     "output_type": "display_data"
    }
   ],
   "source": [
    "model = KMeans(n_clusters=2)\n",
    "visualizer = SilhouetteVisualizer(model, size=(1050, 600))\n",
    "\n",
    "visualizer.fit(X_stunting)\n",
    "visualizer.show()\n",
    "\n",
    "plt.show()"
   ]
  },
  {
   "cell_type": "code",
   "execution_count": 68,
   "id": "d1070953-3830-4397-a261-e14e494a90a9",
   "metadata": {
    "tags": []
   },
   "outputs": [
    {
     "data": {
      "image/png": "[encoded data removed]",
      "text/plain": [
       "<Figure size 1050x600 with 1 Axes>"
      ]
     },
     "metadata": {},
     "output_type": "display_data"
    }
   ],
   "source": [
    "model = KMeans(n_clusters=4)\n",
    "visualizer = SilhouetteVisualizer(model, size=(1050, 600))\n",
    "\n",
    "visualizer.fit(X_stunting)\n",
    "visualizer.show()\n",
    "\n",
    "plt.show()"
   ]
  },
  {
   "cell_type": "code",
   "execution_count": 69,
   "id": "23e62782-98ac-4c3a-9611-62c926174450",
   "metadata": {
    "tags": []
   },
   "outputs": [
    {
     "data": {
      "image/png": "[encoded data removed]",
      "text/plain": [
       "<Figure size 1050x600 with 1 Axes>"
      ]
     },
     "metadata": {},
     "output_type": "display_data"
    }
   ],
   "source": [
    "model = KMeans(n_clusters=5)\n",
    "visualizer = SilhouetteVisualizer(model, size=(1050, 600))\n",
    "\n",
    "visualizer.fit(X_stunting)\n",
    "visualizer.show()\n",
    "\n",
    "plt.show()"
   ]
  },
  {
   "cell_type": "code",
   "execution_count": 70,
   "id": "6c04a63b",
   "metadata": {},
   "outputs": [
    {
     "data": {
      "text/html": [
       "<style>#sk-container-id-1 {color: black;background-color: white;}#sk-container-id-1 pre{padding: 0;}#sk-container-id-1 div.sk-toggleable {background-color: white;}#sk-container-id-1 label.sk-toggleable__label {cursor: pointer;display: block;width: 100%;margin-bottom: 0;padding: 0.3em;box-sizing: border-box;text-align: center;}#sk-container-id-1 label.sk-toggleable__label-arrow:before {content: \"▸\";float: left;margin-right: 0.25em;color: #696969;}#sk-container-id-1 label.sk-toggleable__label-arrow:hover:before {color: black;}#sk-container-id-1 div.sk-estimator:hover label.sk-toggleable__label-arrow:before {color: black;}#sk-container-id-1 div.sk-toggleable__content {max-height: 0;max-width: 0;overflow: hidden;text-align: left;background-color: #f0f8ff;}#sk-container-id-1 div.sk-toggleable__content pre {margin: 0.2em;color: black;border-radius: 0.25em;background-color: #f0f8ff;}#sk-container-id-1 input.sk-toggleable__control:checked~div.sk-toggleable__content {max-height: 200px;max-width: 100%;overflow: auto;}#sk-container-id-1 input.sk-toggleable__control:checked~label.sk-toggleable__label-arrow:before {content: \"▾\";}#sk-container-id-1 div.sk-estimator input.sk-toggleable__control:checked~label.sk-toggleable__label {background-color: #d4ebff;}#sk-container-id-1 div.sk-label input.sk-toggleable__control:checked~label.sk-toggleable__label {background-color: #d4ebff;}#sk-container-id-1 input.sk-hidden--visually {border: 0;clip: rect(1px 1px 1px 1px);clip: rect(1px, 1px, 1px, 1px);height: 1px;margin: -1px;overflow: hidden;padding: 0;position: absolute;width: 1px;}#sk-container-id-1 div.sk-estimator {font-family: monospace;background-color: #f0f8ff;border: 1px dotted black;border-radius: 0.25em;box-sizing: border-box;margin-bottom: 0.5em;}#sk-container-id-1 div.sk-estimator:hover {background-color: #d4ebff;}#sk-container-id-1 div.sk-parallel-item::after {content: \"\";width: 100%;border-bottom: 1px solid gray;flex-grow: 1;}#sk-container-id-1 div.sk-label:hover label.sk-toggleable__label {background-color: #d4ebff;}#sk-container-id-1 div.sk-serial::before {content: \"\";position: absolute;border-left: 1px solid gray;box-sizing: border-box;top: 0;bottom: 0;left: 50%;z-index: 0;}#sk-container-id-1 div.sk-serial {display: flex;flex-direction: column;align-items: center;background-color: white;padding-right: 0.2em;padding-left: 0.2em;position: relative;}#sk-container-id-1 div.sk-item {position: relative;z-index: 1;}#sk-container-id-1 div.sk-parallel {display: flex;align-items: stretch;justify-content: center;background-color: white;position: relative;}#sk-container-id-1 div.sk-item::before, #sk-container-id-1 div.sk-parallel-item::before {content: \"\";position: absolute;border-left: 1px solid gray;box-sizing: border-box;top: 0;bottom: 0;left: 50%;z-index: -1;}#sk-container-id-1 div.sk-parallel-item {display: flex;flex-direction: column;z-index: 1;position: relative;background-color: white;}#sk-container-id-1 div.sk-parallel-item:first-child::after {align-self: flex-end;width: 50%;}#sk-container-id-1 div.sk-parallel-item:last-child::after {align-self: flex-start;width: 50%;}#sk-container-id-1 div.sk-parallel-item:only-child::after {width: 0;}#sk-container-id-1 div.sk-dashed-wrapped {border: 1px dashed gray;margin: 0 0.4em 0.5em 0.4em;box-sizing: border-box;padding-bottom: 0.4em;background-color: white;}#sk-container-id-1 div.sk-label label {font-family: monospace;font-weight: bold;display: inline-block;line-height: 1.2em;}#sk-container-id-1 div.sk-label-container {text-align: center;}#sk-container-id-1 div.sk-container {/* jupyter's `normalize.less` sets `[hidden] { display: none; }` but bootstrap.min.css set `[hidden] { display: none !important; }` so we also need the `!important` here to be able to override the default hidden behavior on the sphinx rendered scikit-learn.org. See: https://github.com/scikit-learn/scikit-learn/issues/21755 */display: inline-block !important;position: relative;}#sk-container-id-1 div.sk-text-repr-fallback {display: none;}</style><div id=\"sk-container-id-1\" class=\"sk-top-container\"><div class=\"sk-text-repr-fallback\"><pre>KMeans(n_clusters=5, random_state=111)</pre><b>In a Jupyter environment, please rerun this cell to show the HTML representation or trust the notebook. <br />On GitHub, the HTML representation is unable to render, please try loading this page with nbviewer.org.</b></div><div class=\"sk-container\" hidden><div class=\"sk-item\"><div class=\"sk-estimator sk-toggleable\"><input class=\"sk-toggleable__control sk-hidden--visually\" id=\"sk-estimator-id-1\" type=\"checkbox\" checked><label for=\"sk-estimator-id-1\" class=\"sk-toggleable__label sk-toggleable__label-arrow\">KMeans</label><div class=\"sk-toggleable__content\"><pre>KMeans(n_clusters=5, random_state=111)</pre></div></div></div></div></div>"
      ],
      "text/plain": [
       "KMeans(n_clusters=5, random_state=111)"
      ]
     },
     "execution_count": 70,
     "metadata": {},
     "output_type": "execute_result"
    }
   ],
   "source": [
    "model = KMeans(n_clusters=5, random_state=111)\n",
    "\n",
    "model.fit(X_stunting)"
   ]
  },
  {
   "cell_type": "code",
   "execution_count": 71,
   "id": "e5bb8715",
   "metadata": {},
   "outputs": [
    {
     "data": {
      "text/html": [
       "<div>\n",
       "<style scoped>\n",
       "    .dataframe tbody tr th:only-of-type {\n",
       "        vertical-align: middle;\n",
       "    }\n",
       "\n",
       "    .dataframe tbody tr th {\n",
       "        vertical-align: top;\n",
       "    }\n",
       "\n",
       "    .dataframe thead th {\n",
       "        text-align: right;\n",
       "    }\n",
       "</style>\n",
       "<table border=\"1\" class=\"dataframe\">\n",
       "  <thead>\n",
       "    <tr style=\"text-align: right;\">\n",
       "      <th></th>\n",
       "      <th>puskesmas</th>\n",
       "      <th>jumlah_balita</th>\n",
       "      <th>stunting</th>\n",
       "      <th>Clusters</th>\n",
       "    </tr>\n",
       "  </thead>\n",
       "  <tbody>\n",
       "    <tr>\n",
       "      <th>0</th>\n",
       "      <td>WONOTUNGGAL</td>\n",
       "      <td>113</td>\n",
       "      <td>11</td>\n",
       "      <td>2</td>\n",
       "    </tr>\n",
       "    <tr>\n",
       "      <th>1</th>\n",
       "      <td>WONOTUNGGAL</td>\n",
       "      <td>100</td>\n",
       "      <td>7</td>\n",
       "      <td>2</td>\n",
       "    </tr>\n",
       "    <tr>\n",
       "      <th>2</th>\n",
       "      <td>WONOTUNGGAL</td>\n",
       "      <td>122</td>\n",
       "      <td>22</td>\n",
       "      <td>1</td>\n",
       "    </tr>\n",
       "    <tr>\n",
       "      <th>3</th>\n",
       "      <td>WONOTUNGGAL</td>\n",
       "      <td>152</td>\n",
       "      <td>9</td>\n",
       "      <td>2</td>\n",
       "    </tr>\n",
       "    <tr>\n",
       "      <th>4</th>\n",
       "      <td>WONOTUNGGAL</td>\n",
       "      <td>156</td>\n",
       "      <td>11</td>\n",
       "      <td>2</td>\n",
       "    </tr>\n",
       "  </tbody>\n",
       "</table>\n",
       "</div>"
      ],
      "text/plain": [
       "     puskesmas  jumlah_balita  stunting  Clusters\n",
       "0  WONOTUNGGAL            113        11         2\n",
       "1  WONOTUNGGAL            100         7         2\n",
       "2  WONOTUNGGAL            122        22         1\n",
       "3  WONOTUNGGAL            152         9         2\n",
       "4  WONOTUNGGAL            156        11         2"
      ]
     },
     "execution_count": 71,
     "metadata": {},
     "output_type": "execute_result"
    }
   ],
   "source": [
    "stunting_data_fix[\"Clusters\"] = model.labels_\n",
    "\n",
    "stunting_data_fix.head()"
   ]
  },
  {
   "cell_type": "code",
   "execution_count": 72,
   "id": "7c18a41e",
   "metadata": {},
   "outputs": [
    {
     "data": {
      "text/plain": [
       "2    120\n",
       "1     56\n",
       "4     39\n",
       "0     28\n",
       "3      5\n",
       "Name: Clusters, dtype: int64"
      ]
     },
     "execution_count": 72,
     "metadata": {},
     "output_type": "execute_result"
    }
   ],
   "source": [
    "stunting_data_fix[\"Clusters\"].value_counts()"
   ]
  },
  {
   "cell_type": "code",
   "execution_count": 73,
   "id": "e294dddd",
   "metadata": {},
   "outputs": [
    {
     "data": {
      "text/plain": [
       "array([[ 0.5012533 ,  1.99200246],\n",
       "       [-0.21751186,  0.37786087],\n",
       "       [-0.55055367, -0.68084685],\n",
       "       [ 4.47990781,  2.31905996],\n",
       "       [ 1.07211469, -0.17512706]])"
      ]
     },
     "execution_count": 73,
     "metadata": {},
     "output_type": "execute_result"
    }
   ],
   "source": [
    "centers = model.cluster_centers_\n",
    "\n",
    "centers"
   ]
  },
  {
   "cell_type": "code",
   "execution_count": 74,
   "id": "94d86933",
   "metadata": {},
   "outputs": [
    {
     "data": {
      "application/vnd.plotly.v1+json": {
       "config": {
        "plotlyServerURL": "https://plot.ly"
       },
       "data": [
        {
         "hovertemplate": "jumlah_balita=%{x}<br>stunting=%{y}<br>Clusters=%{marker.color}<extra></extra>",
         "legendgroup": "",
         "marker": {
          "color": [
           2,
           2,
           1,
           2,
           2,
           4,
           4,
           4,
           2,
           2,
           2,
           2,
           4,
           2,
           2,
           2,
           0,
           0,
           4,
           1,
           1,
           1,
           4,
           2,
           4,
           3,
           4,
           4,
           4,
           4,
           2,
           2,
           2,
           2,
           2,
           2,
           1,
           1,
           2,
           4,
           2,
           2,
           1,
           2,
           1,
           2,
           2,
           2,
           1,
           1,
           1,
           0,
           2,
           1,
           0,
           1,
           2,
           0,
           0,
           1,
           1,
           1,
           1,
           1,
           2,
           2,
           2,
           1,
           1,
           0,
           0,
           1,
           0,
           2,
           0,
           4,
           0,
           1,
           0,
           1,
           1,
           1,
           0,
           2,
           0,
           0,
           1,
           1,
           0,
           2,
           2,
           2,
           2,
           2,
           2,
           2,
           2,
           2,
           2,
           2,
           2,
           4,
           4,
           2,
           2,
           2,
           2,
           2,
           2,
           4,
           4,
           2,
           4,
           0,
           4,
           2,
           2,
           2,
           4,
           2,
           2,
           2,
           2,
           2,
           4,
           2,
           1,
           1,
           2,
           2,
           1,
           2,
           2,
           1,
           2,
           1,
           2,
           2,
           2,
           1,
           1,
           2,
           2,
           4,
           4,
           2,
           2,
           2,
           2,
           2,
           2,
           4,
           2,
           1,
           2,
           2,
           1,
           2,
           1,
           4,
           2,
           1,
           2,
           4,
           4,
           4,
           2,
           1,
           1,
           0,
           2,
           0,
           0,
           0,
           2,
           4,
           2,
           1,
           2,
           4,
           1,
           2,
           2,
           2,
           2,
           2,
           2,
           1,
           1,
           2,
           2,
           2,
           2,
           1,
           2,
           2,
           2,
           1,
           1,
           2,
           1,
           1,
           1,
           1,
           1,
           0,
           2,
           0,
           0,
           2,
           4,
           4,
           4,
           4,
           4,
           4,
           3,
           3,
           0,
           1,
           0,
           0,
           3,
           1,
           3,
           2,
           2,
           2,
           4,
           0,
           4,
           2,
           2,
           2,
           2,
           2,
           2,
           1,
           2,
           2,
           2,
           4,
           2,
           1,
           2,
           2,
           2,
           2
          ],
          "coloraxis": "coloraxis",
          "symbol": "circle"
         },
         "mode": "markers",
         "name": "",
         "orientation": "v",
         "showlegend": false,
         "type": "scatter",
         "x": [
          113,
          100,
          122,
          152,
          156,
          347,
          225,
          226,
          89,
          89,
          112,
          72,
          270,
          126,
          83,
          116,
          240,
          316,
          381,
          172,
          132,
          167,
          237,
          119,
          302,
          454,
          347,
          262,
          206,
          262,
          151,
          175,
          72,
          56,
          115,
          71,
          201,
          217,
          119,
          232,
          139,
          100,
          187,
          120,
          196,
          21,
          57,
          93,
          222,
          194,
          101,
          158,
          61,
          102,
          149,
          169,
          100,
          196,
          158,
          101,
          121,
          112,
          94,
          151,
          94,
          83,
          64,
          145,
          97,
          97,
          230,
          85,
          126,
          64,
          160,
          251,
          230,
          117,
          202,
          97,
          78,
          230,
          240,
          118,
          114,
          156,
          75,
          70,
          169,
          65,
          118,
          101,
          100,
          168,
          129,
          76,
          113,
          117,
          163,
          146,
          124,
          225,
          233,
          140,
          135,
          168,
          94,
          64,
          71,
          347,
          281,
          132,
          206,
          261,
          223,
          172,
          163,
          174,
          213,
          151,
          148,
          175,
          120,
          123,
          235,
          94,
          123,
          165,
          86,
          118,
          118,
          151,
          138,
          197,
          60,
          147,
          141,
          136,
          111,
          148,
          96,
          135,
          142,
          361,
          260,
          188,
          102,
          146,
          100,
          152,
          211,
          287,
          104,
          151,
          128,
          170,
          120,
          84,
          177,
          236,
          53,
          182,
          136,
          402,
          268,
          231,
          103,
          128,
          210,
          297,
          97,
          265,
          203,
          249,
          69,
          250,
          92,
          101,
          128,
          263,
          191,
          101,
          98,
          151,
          83,
          113,
          84,
          180,
          167,
          133,
          41,
          60,
          62,
          174,
          22,
          136,
          105,
          117,
          167,
          72,
          119,
          221,
          143,
          140,
          98,
          211,
          90,
          269,
          264,
          112,
          380,
          328,
          307,
          307,
          306,
          364,
          827,
          600,
          310,
          241,
          340,
          295,
          533,
          138,
          731,
          73,
          111,
          64,
          332,
          293,
          242,
          88,
          94,
          91,
          187,
          163,
          168,
          174,
          168,
          136,
          120,
          279,
          126,
          184,
          159,
          119,
          154,
          122
         ],
         "xaxis": "x",
         "y": [
          11,
          7,
          22,
          9,
          11,
          22,
          6,
          14,
          9,
          15,
          9,
          8,
          7,
          11,
          11,
          14,
          44,
          42,
          17,
          16,
          16,
          16,
          22,
          15,
          20,
          54,
          18,
          13,
          9,
          15,
          10,
          1,
          7,
          12,
          11,
          8,
          28,
          32,
          10,
          18,
          4,
          10,
          20,
          10,
          30,
          5,
          0,
          16,
          31,
          19,
          24,
          61,
          18,
          31,
          39,
          27,
          16,
          45,
          46,
          28,
          23,
          17,
          27,
          36,
          17,
          17,
          11,
          24,
          18,
          43,
          64,
          27,
          43,
          15,
          53,
          27,
          69,
          25,
          40,
          30,
          21,
          29,
          65,
          9,
          42,
          42,
          23,
          24,
          44,
          3,
          7,
          5,
          3,
          6,
          3,
          4,
          7,
          7,
          0,
          6,
          5,
          13,
          7,
          3,
          6,
          10,
          0,
          1,
          7,
          9,
          21,
          2,
          13,
          35,
          13,
          13,
          11,
          13,
          9,
          5,
          7,
          13,
          7,
          14,
          13,
          5,
          32,
          18,
          12,
          13,
          25,
          6,
          11,
          25,
          2,
          35,
          8,
          7,
          13,
          26,
          22,
          1,
          5,
          1,
          11,
          2,
          0,
          3,
          1,
          4,
          3,
          27,
          13,
          17,
          12,
          13,
          21,
          7,
          15,
          15,
          4,
          24,
          14,
          14,
          19,
          19,
          11,
          18,
          31,
          44,
          8,
          55,
          48,
          44,
          6,
          13,
          6,
          19,
          10,
          25,
          19,
          16,
          4,
          14,
          1,
          8,
          1,
          23,
          19,
          13,
          8,
          7,
          7,
          29,
          4,
          13,
          13,
          22,
          28,
          14,
          18,
          27,
          32,
          25,
          22,
          38,
          12,
          34,
          59,
          5,
          15,
          29,
          28,
          21,
          6,
          10,
          36,
          39,
          63,
          31,
          54,
          66,
          79,
          16,
          59,
          7,
          12,
          0,
          29,
          34,
          14,
          1,
          1,
          2,
          10,
          12,
          5,
          18,
          10,
          3,
          8,
          2,
          6,
          17,
          5,
          4,
          4,
          1
         ],
         "yaxis": "y"
        }
       ],
       "layout": {
        "coloraxis": {
         "colorbar": {
          "title": {
           "text": "Clusters"
          }
         },
         "colorscale": [
          [
           0,
           "#0d0887"
          ],
          [
           0.1111111111111111,
           "#46039f"
          ],
          [
           0.2222222222222222,
           "#7201a8"
          ],
          [
           0.3333333333333333,
           "#9c179e"
          ],
          [
           0.4444444444444444,
           "#bd3786"
          ],
          [
           0.5555555555555556,
           "#d8576b"
          ],
          [
           0.6666666666666666,
           "#ed7953"
          ],
          [
           0.7777777777777778,
           "#fb9f3a"
          ],
          [
           0.8888888888888888,
           "#fdca26"
          ],
          [
           1,
           "#f0f921"
          ]
         ]
        },
        "legend": {
         "tracegroupgap": 0
        },
        "margin": {
         "t": 60
        },
        "template": {
         "data": {
          "bar": [
           {
            "error_x": {
             "color": "#2a3f5f"
            },
            "error_y": {
             "color": "#2a3f5f"
            },
            "marker": {
             "line": {
              "color": "#E5ECF6",
              "width": 0.5
             },
             "pattern": {
              "fillmode": "overlay",
              "size": 10,
              "solidity": 0.2
             }
            },
            "type": "bar"
           }
          ],
          "barpolar": [
           {
            "marker": {
             "line": {
              "color": "#E5ECF6",
              "width": 0.5
             },
             "pattern": {
              "fillmode": "overlay",
              "size": 10,
              "solidity": 0.2
             }
            },
            "type": "barpolar"
           }
          ],
          "carpet": [
           {
            "aaxis": {
             "endlinecolor": "#2a3f5f",
             "gridcolor": "white",
             "linecolor": "white",
             "minorgridcolor": "white",
             "startlinecolor": "#2a3f5f"
            },
            "baxis": {
             "endlinecolor": "#2a3f5f",
             "gridcolor": "white",
             "linecolor": "white",
             "minorgridcolor": "white",
             "startlinecolor": "#2a3f5f"
            },
            "type": "carpet"
           }
          ],
          "choropleth": [
           {
            "colorbar": {
             "outlinewidth": 0,
             "ticks": ""
            },
            "type": "choropleth"
           }
          ],
          "contour": [
           {
            "colorbar": {
             "outlinewidth": 0,
             "ticks": ""
            },
            "colorscale": [
             [
              0,
              "#0d0887"
             ],
             [
              0.1111111111111111,
              "#46039f"
             ],
             [
              0.2222222222222222,
              "#7201a8"
             ],
             [
              0.3333333333333333,
              "#9c179e"
             ],
             [
              0.4444444444444444,
              "#bd3786"
             ],
             [
              0.5555555555555556,
              "#d8576b"
             ],
             [
              0.6666666666666666,
              "#ed7953"
             ],
             [
              0.7777777777777778,
              "#fb9f3a"
             ],
             [
              0.8888888888888888,
              "#fdca26"
             ],
             [
              1,
              "#f0f921"
             ]
            ],
            "type": "contour"
           }
          ],
          "contourcarpet": [
           {
            "colorbar": {
             "outlinewidth": 0,
             "ticks": ""
            },
            "type": "contourcarpet"
           }
          ],
          "heatmap": [
           {
            "colorbar": {
             "outlinewidth": 0,
             "ticks": ""
            },
            "colorscale": [
             [
              0,
              "#0d0887"
             ],
             [
              0.1111111111111111,
              "#46039f"
             ],
             [
              0.2222222222222222,
              "#7201a8"
             ],
             [
              0.3333333333333333,
              "#9c179e"
             ],
             [
              0.4444444444444444,
              "#bd3786"
             ],
             [
              0.5555555555555556,
              "#d8576b"
             ],
             [
              0.6666666666666666,
              "#ed7953"
             ],
             [
              0.7777777777777778,
              "#fb9f3a"
             ],
             [
              0.8888888888888888,
              "#fdca26"
             ],
             [
              1,
              "#f0f921"
             ]
            ],
            "type": "heatmap"
           }
          ],
          "heatmapgl": [
           {
            "colorbar": {
             "outlinewidth": 0,
             "ticks": ""
            },
            "colorscale": [
             [
              0,
              "#0d0887"
             ],
             [
              0.1111111111111111,
              "#46039f"
             ],
             [
              0.2222222222222222,
              "#7201a8"
             ],
             [
              0.3333333333333333,
              "#9c179e"
             ],
             [
              0.4444444444444444,
              "#bd3786"
             ],
             [
              0.5555555555555556,
              "#d8576b"
             ],
             [
              0.6666666666666666,
              "#ed7953"
             ],
             [
              0.7777777777777778,
              "#fb9f3a"
             ],
             [
              0.8888888888888888,
              "#fdca26"
             ],
             [
              1,
              "#f0f921"
             ]
            ],
            "type": "heatmapgl"
           }
          ],
          "histogram": [
           {
            "marker": {
             "pattern": {
              "fillmode": "overlay",
              "size": 10,
              "solidity": 0.2
             }
            },
            "type": "histogram"
           }
          ],
          "histogram2d": [
           {
            "colorbar": {
             "outlinewidth": 0,
             "ticks": ""
            },
            "colorscale": [
             [
              0,
              "#0d0887"
             ],
             [
              0.1111111111111111,
              "#46039f"
             ],
             [
              0.2222222222222222,
              "#7201a8"
             ],
             [
              0.3333333333333333,
              "#9c179e"
             ],
             [
              0.4444444444444444,
              "#bd3786"
             ],
             [
              0.5555555555555556,
              "#d8576b"
             ],
             [
              0.6666666666666666,
              "#ed7953"
             ],
             [
              0.7777777777777778,
              "#fb9f3a"
             ],
             [
              0.8888888888888888,
              "#fdca26"
             ],
             [
              1,
              "#f0f921"
             ]
            ],
            "type": "histogram2d"
           }
          ],
          "histogram2dcontour": [
           {
            "colorbar": {
             "outlinewidth": 0,
             "ticks": ""
            },
            "colorscale": [
             [
              0,
              "#0d0887"
             ],
             [
              0.1111111111111111,
              "#46039f"
             ],
             [
              0.2222222222222222,
              "#7201a8"
             ],
             [
              0.3333333333333333,
              "#9c179e"
             ],
             [
              0.4444444444444444,
              "#bd3786"
             ],
             [
              0.5555555555555556,
              "#d8576b"
             ],
             [
              0.6666666666666666,
              "#ed7953"
             ],
             [
              0.7777777777777778,
              "#fb9f3a"
             ],
             [
              0.8888888888888888,
              "#fdca26"
             ],
             [
              1,
              "#f0f921"
             ]
            ],
            "type": "histogram2dcontour"
           }
          ],
          "mesh3d": [
           {
            "colorbar": {
             "outlinewidth": 0,
             "ticks": ""
            },
            "type": "mesh3d"
           }
          ],
          "parcoords": [
           {
            "line": {
             "colorbar": {
              "outlinewidth": 0,
              "ticks": ""
             }
            },
            "type": "parcoords"
           }
          ],
          "pie": [
           {
            "automargin": true,
            "type": "pie"
           }
          ],
          "scatter": [
           {
            "fillpattern": {
             "fillmode": "overlay",
             "size": 10,
             "solidity": 0.2
            },
            "type": "scatter"
           }
          ],
          "scatter3d": [
           {
            "line": {
             "colorbar": {
              "outlinewidth": 0,
              "ticks": ""
             }
            },
            "marker": {
             "colorbar": {
              "outlinewidth": 0,
              "ticks": ""
             }
            },
            "type": "scatter3d"
           }
          ],
          "scattercarpet": [
           {
            "marker": {
             "colorbar": {
              "outlinewidth": 0,
              "ticks": ""
             }
            },
            "type": "scattercarpet"
           }
          ],
          "scattergeo": [
           {
            "marker": {
             "colorbar": {
              "outlinewidth": 0,
              "ticks": ""
             }
            },
            "type": "scattergeo"
           }
          ],
          "scattergl": [
           {
            "marker": {
             "colorbar": {
              "outlinewidth": 0,
              "ticks": ""
             }
            },
            "type": "scattergl"
           }
          ],
          "scattermapbox": [
           {
            "marker": {
             "colorbar": {
              "outlinewidth": 0,
              "ticks": ""
             }
            },
            "type": "scattermapbox"
           }
          ],
          "scatterpolar": [
           {
            "marker": {
             "colorbar": {
              "outlinewidth": 0,
              "ticks": ""
             }
            },
            "type": "scatterpolar"
           }
          ],
          "scatterpolargl": [
           {
            "marker": {
             "colorbar": {
              "outlinewidth": 0,
              "ticks": ""
             }
            },
            "type": "scatterpolargl"
           }
          ],
          "scatterternary": [
           {
            "marker": {
             "colorbar": {
              "outlinewidth": 0,
              "ticks": ""
             }
            },
            "type": "scatterternary"
           }
          ],
          "surface": [
           {
            "colorbar": {
             "outlinewidth": 0,
             "ticks": ""
            },
            "colorscale": [
             [
              0,
              "#0d0887"
             ],
             [
              0.1111111111111111,
              "#46039f"
             ],
             [
              0.2222222222222222,
              "#7201a8"
             ],
             [
              0.3333333333333333,
              "#9c179e"
             ],
             [
              0.4444444444444444,
              "#bd3786"
             ],
             [
              0.5555555555555556,
              "#d8576b"
             ],
             [
              0.6666666666666666,
              "#ed7953"
             ],
             [
              0.7777777777777778,
              "#fb9f3a"
             ],
             [
              0.8888888888888888,
              "#fdca26"
             ],
             [
              1,
              "#f0f921"
             ]
            ],
            "type": "surface"
           }
          ],
          "table": [
           {
            "cells": {
             "fill": {
              "color": "#EBF0F8"
             },
             "line": {
              "color": "white"
             }
            },
            "header": {
             "fill": {
              "color": "#C8D4E3"
             },
             "line": {
              "color": "white"
             }
            },
            "type": "table"
           }
          ]
         },
         "layout": {
          "annotationdefaults": {
           "arrowcolor": "#2a3f5f",
           "arrowhead": 0,
           "arrowwidth": 1
          },
          "autotypenumbers": "strict",
          "coloraxis": {
           "colorbar": {
            "outlinewidth": 0,
            "ticks": ""
           }
          },
          "colorscale": {
           "diverging": [
            [
             0,
             "#8e0152"
            ],
            [
             0.1,
             "#c51b7d"
            ],
            [
             0.2,
             "#de77ae"
            ],
            [
             0.3,
             "#f1b6da"
            ],
            [
             0.4,
             "#fde0ef"
            ],
            [
             0.5,
             "#f7f7f7"
            ],
            [
             0.6,
             "#e6f5d0"
            ],
            [
             0.7,
             "#b8e186"
            ],
            [
             0.8,
             "#7fbc41"
            ],
            [
             0.9,
             "#4d9221"
            ],
            [
             1,
             "#276419"
            ]
           ],
           "sequential": [
            [
             0,
             "#0d0887"
            ],
            [
             0.1111111111111111,
             "#46039f"
            ],
            [
             0.2222222222222222,
             "#7201a8"
            ],
            [
             0.3333333333333333,
             "#9c179e"
            ],
            [
             0.4444444444444444,
             "#bd3786"
            ],
            [
             0.5555555555555556,
             "#d8576b"
            ],
            [
             0.6666666666666666,
             "#ed7953"
            ],
            [
             0.7777777777777778,
             "#fb9f3a"
            ],
            [
             0.8888888888888888,
             "#fdca26"
            ],
            [
             1,
             "#f0f921"
            ]
           ],
           "sequentialminus": [
            [
             0,
             "#0d0887"
            ],
            [
             0.1111111111111111,
             "#46039f"
            ],
            [
             0.2222222222222222,
             "#7201a8"
            ],
            [
             0.3333333333333333,
             "#9c179e"
            ],
            [
             0.4444444444444444,
             "#bd3786"
            ],
            [
             0.5555555555555556,
             "#d8576b"
            ],
            [
             0.6666666666666666,
             "#ed7953"
            ],
            [
             0.7777777777777778,
             "#fb9f3a"
            ],
            [
             0.8888888888888888,
             "#fdca26"
            ],
            [
             1,
             "#f0f921"
            ]
           ]
          },
          "colorway": [
           "#636efa",
           "#EF553B",
           "#00cc96",
           "#ab63fa",
           "#FFA15A",
           "#19d3f3",
           "#FF6692",
           "#B6E880",
           "#FF97FF",
           "#FECB52"
          ],
          "font": {
           "color": "#2a3f5f"
          },
          "geo": {
           "bgcolor": "white",
           "lakecolor": "white",
           "landcolor": "#E5ECF6",
           "showlakes": true,
           "showland": true,
           "subunitcolor": "white"
          },
          "hoverlabel": {
           "align": "left"
          },
          "hovermode": "closest",
          "mapbox": {
           "style": "light"
          },
          "paper_bgcolor": "white",
          "plot_bgcolor": "#E5ECF6",
          "polar": {
           "angularaxis": {
            "gridcolor": "white",
            "linecolor": "white",
            "ticks": ""
           },
           "bgcolor": "#E5ECF6",
           "radialaxis": {
            "gridcolor": "white",
            "linecolor": "white",
            "ticks": ""
           }
          },
          "scene": {
           "xaxis": {
            "backgroundcolor": "#E5ECF6",
            "gridcolor": "white",
            "gridwidth": 2,
            "linecolor": "white",
            "showbackground": true,
            "ticks": "",
            "zerolinecolor": "white"
           },
           "yaxis": {
            "backgroundcolor": "#E5ECF6",
            "gridcolor": "white",
            "gridwidth": 2,
            "linecolor": "white",
            "showbackground": true,
            "ticks": "",
            "zerolinecolor": "white"
           },
           "zaxis": {
            "backgroundcolor": "#E5ECF6",
            "gridcolor": "white",
            "gridwidth": 2,
            "linecolor": "white",
            "showbackground": true,
            "ticks": "",
            "zerolinecolor": "white"
           }
          },
          "shapedefaults": {
           "line": {
            "color": "#2a3f5f"
           }
          },
          "ternary": {
           "aaxis": {
            "gridcolor": "white",
            "linecolor": "white",
            "ticks": ""
           },
           "baxis": {
            "gridcolor": "white",
            "linecolor": "white",
            "ticks": ""
           },
           "bgcolor": "#E5ECF6",
           "caxis": {
            "gridcolor": "white",
            "linecolor": "white",
            "ticks": ""
           }
          },
          "title": {
           "x": 0.05
          },
          "xaxis": {
           "automargin": true,
           "gridcolor": "white",
           "linecolor": "white",
           "ticks": "",
           "title": {
            "standoff": 15
           },
           "zerolinecolor": "white",
           "zerolinewidth": 2
          },
          "yaxis": {
           "automargin": true,
           "gridcolor": "white",
           "linecolor": "white",
           "ticks": "",
           "title": {
            "standoff": 15
           },
           "zerolinecolor": "white",
           "zerolinewidth": 2
          }
         }
        },
        "xaxis": {
         "anchor": "y",
         "domain": [
          0,
          1
         ],
         "title": {
          "text": "jumlah_balita"
         }
        },
        "yaxis": {
         "anchor": "x",
         "domain": [
          0,
          1
         ],
         "title": {
          "text": "stunting"
         }
        }
       }
      },
      "text/html": [
       "<div>                            <div id=\"64e8098f-d251-4163-b55c-c6d31f77822d\" class=\"plotly-graph-div\" style=\"height:525px; width:100%;\"></div>            <script type=\"text/javascript\">                require([\"plotly\"], function(Plotly) {                    window.PLOTLYENV=window.PLOTLYENV || {};                                    if (document.getElementById(\"64e8098f-d251-4163-b55c-c6d31f77822d\")) {                    Plotly.newPlot(                        \"64e8098f-d251-4163-b55c-c6d31f77822d\",                        [{\"hovertemplate\":\"jumlah_balita=%{x}<br>stunting=%{y}<br>Clusters=%{marker.color}<extra></extra>\",\"legendgroup\":\"\",\"marker\":{\"color\":[2,2,1,2,2,4,4,4,2,2,2,2,4,2,2,2,0,0,4,1,1,1,4,2,4,3,4,4,4,4,2,2,2,2,2,2,1,1,2,4,2,2,1,2,1,2,2,2,1,1,1,0,2,1,0,1,2,0,0,1,1,1,1,1,2,2,2,1,1,0,0,1,0,2,0,4,0,1,0,1,1,1,0,2,0,0,1,1,0,2,2,2,2,2,2,2,2,2,2,2,2,4,4,2,2,2,2,2,2,4,4,2,4,0,4,2,2,2,4,2,2,2,2,2,4,2,1,1,2,2,1,2,2,1,2,1,2,2,2,1,1,2,2,4,4,2,2,2,2,2,2,4,2,1,2,2,1,2,1,4,2,1,2,4,4,4,2,1,1,0,2,0,0,0,2,4,2,1,2,4,1,2,2,2,2,2,2,1,1,2,2,2,2,1,2,2,2,1,1,2,1,1,1,1,1,0,2,0,0,2,4,4,4,4,4,4,3,3,0,1,0,0,3,1,3,2,2,2,4,0,4,2,2,2,2,2,2,1,2,2,2,4,2,1,2,2,2,2],\"coloraxis\":\"coloraxis\",\"symbol\":\"circle\"},\"mode\":\"markers\",\"name\":\"\",\"orientation\":\"v\",\"showlegend\":false,\"x\":[113,100,122,152,156,347,225,226,89,89,112,72,270,126,83,116,240,316,381,172,132,167,237,119,302,454,347,262,206,262,151,175,72,56,115,71,201,217,119,232,139,100,187,120,196,21,57,93,222,194,101,158,61,102,149,169,100,196,158,101,121,112,94,151,94,83,64,145,97,97,230,85,126,64,160,251,230,117,202,97,78,230,240,118,114,156,75,70,169,65,118,101,100,168,129,76,113,117,163,146,124,225,233,140,135,168,94,64,71,347,281,132,206,261,223,172,163,174,213,151,148,175,120,123,235,94,123,165,86,118,118,151,138,197,60,147,141,136,111,148,96,135,142,361,260,188,102,146,100,152,211,287,104,151,128,170,120,84,177,236,53,182,136,402,268,231,103,128,210,297,97,265,203,249,69,250,92,101,128,263,191,101,98,151,83,113,84,180,167,133,41,60,62,174,22,136,105,117,167,72,119,221,143,140,98,211,90,269,264,112,380,328,307,307,306,364,827,600,310,241,340,295,533,138,731,73,111,64,332,293,242,88,94,91,187,163,168,174,168,136,120,279,126,184,159,119,154,122],\"xaxis\":\"x\",\"y\":[11,7,22,9,11,22,6,14,9,15,9,8,7,11,11,14,44,42,17,16,16,16,22,15,20,54,18,13,9,15,10,1,7,12,11,8,28,32,10,18,4,10,20,10,30,5,0,16,31,19,24,61,18,31,39,27,16,45,46,28,23,17,27,36,17,17,11,24,18,43,64,27,43,15,53,27,69,25,40,30,21,29,65,9,42,42,23,24,44,3,7,5,3,6,3,4,7,7,0,6,5,13,7,3,6,10,0,1,7,9,21,2,13,35,13,13,11,13,9,5,7,13,7,14,13,5,32,18,12,13,25,6,11,25,2,35,8,7,13,26,22,1,5,1,11,2,0,3,1,4,3,27,13,17,12,13,21,7,15,15,4,24,14,14,19,19,11,18,31,44,8,55,48,44,6,13,6,19,10,25,19,16,4,14,1,8,1,23,19,13,8,7,7,29,4,13,13,22,28,14,18,27,32,25,22,38,12,34,59,5,15,29,28,21,6,10,36,39,63,31,54,66,79,16,59,7,12,0,29,34,14,1,1,2,10,12,5,18,10,3,8,2,6,17,5,4,4,1],\"yaxis\":\"y\",\"type\":\"scatter\"}],                        {\"template\":{\"data\":{\"histogram2dcontour\":[{\"type\":\"histogram2dcontour\",\"colorbar\":{\"outlinewidth\":0,\"ticks\":\"\"},\"colorscale\":[[0.0,\"#0d0887\"],[0.1111111111111111,\"#46039f\"],[0.2222222222222222,\"#7201a8\"],[0.3333333333333333,\"#9c179e\"],[0.4444444444444444,\"#bd3786\"],[0.5555555555555556,\"#d8576b\"],[0.6666666666666666,\"#ed7953\"],[0.7777777777777778,\"#fb9f3a\"],[0.8888888888888888,\"#fdca26\"],[1.0,\"#f0f921\"]]}],\"choropleth\":[{\"type\":\"choropleth\",\"colorbar\":{\"outlinewidth\":0,\"ticks\":\"\"}}],\"histogram2d\":[{\"type\":\"histogram2d\",\"colorbar\":{\"outlinewidth\":0,\"ticks\":\"\"},\"colorscale\":[[0.0,\"#0d0887\"],[0.1111111111111111,\"#46039f\"],[0.2222222222222222,\"#7201a8\"],[0.3333333333333333,\"#9c179e\"],[0.4444444444444444,\"#bd3786\"],[0.5555555555555556,\"#d8576b\"],[0.6666666666666666,\"#ed7953\"],[0.7777777777777778,\"#fb9f3a\"],[0.8888888888888888,\"#fdca26\"],[1.0,\"#f0f921\"]]}],\"heatmap\":[{\"type\":\"heatmap\",\"colorbar\":{\"outlinewidth\":0,\"ticks\":\"\"},\"colorscale\":[[0.0,\"#0d0887\"],[0.1111111111111111,\"#46039f\"],[0.2222222222222222,\"#7201a8\"],[0.3333333333333333,\"#9c179e\"],[0.4444444444444444,\"#bd3786\"],[0.5555555555555556,\"#d8576b\"],[0.6666666666666666,\"#ed7953\"],[0.7777777777777778,\"#fb9f3a\"],[0.8888888888888888,\"#fdca26\"],[1.0,\"#f0f921\"]]}],\"heatmapgl\":[{\"type\":\"heatmapgl\",\"colorbar\":{\"outlinewidth\":0,\"ticks\":\"\"},\"colorscale\":[[0.0,\"#0d0887\"],[0.1111111111111111,\"#46039f\"],[0.2222222222222222,\"#7201a8\"],[0.3333333333333333,\"#9c179e\"],[0.4444444444444444,\"#bd3786\"],[0.5555555555555556,\"#d8576b\"],[0.6666666666666666,\"#ed7953\"],[0.7777777777777778,\"#fb9f3a\"],[0.8888888888888888,\"#fdca26\"],[1.0,\"#f0f921\"]]}],\"contourcarpet\":[{\"type\":\"contourcarpet\",\"colorbar\":{\"outlinewidth\":0,\"ticks\":\"\"}}],\"contour\":[{\"type\":\"contour\",\"colorbar\":{\"outlinewidth\":0,\"ticks\":\"\"},\"colorscale\":[[0.0,\"#0d0887\"],[0.1111111111111111,\"#46039f\"],[0.2222222222222222,\"#7201a8\"],[0.3333333333333333,\"#9c179e\"],[0.4444444444444444,\"#bd3786\"],[0.5555555555555556,\"#d8576b\"],[0.6666666666666666,\"#ed7953\"],[0.7777777777777778,\"#fb9f3a\"],[0.8888888888888888,\"#fdca26\"],[1.0,\"#f0f921\"]]}],\"surface\":[{\"type\":\"surface\",\"colorbar\":{\"outlinewidth\":0,\"ticks\":\"\"},\"colorscale\":[[0.0,\"#0d0887\"],[0.1111111111111111,\"#46039f\"],[0.2222222222222222,\"#7201a8\"],[0.3333333333333333,\"#9c179e\"],[0.4444444444444444,\"#bd3786\"],[0.5555555555555556,\"#d8576b\"],[0.6666666666666666,\"#ed7953\"],[0.7777777777777778,\"#fb9f3a\"],[0.8888888888888888,\"#fdca26\"],[1.0,\"#f0f921\"]]}],\"mesh3d\":[{\"type\":\"mesh3d\",\"colorbar\":{\"outlinewidth\":0,\"ticks\":\"\"}}],\"scatter\":[{\"fillpattern\":{\"fillmode\":\"overlay\",\"size\":10,\"solidity\":0.2},\"type\":\"scatter\"}],\"parcoords\":[{\"type\":\"parcoords\",\"line\":{\"colorbar\":{\"outlinewidth\":0,\"ticks\":\"\"}}}],\"scatterpolargl\":[{\"type\":\"scatterpolargl\",\"marker\":{\"colorbar\":{\"outlinewidth\":0,\"ticks\":\"\"}}}],\"bar\":[{\"error_x\":{\"color\":\"#2a3f5f\"},\"error_y\":{\"color\":\"#2a3f5f\"},\"marker\":{\"line\":{\"color\":\"#E5ECF6\",\"width\":0.5},\"pattern\":{\"fillmode\":\"overlay\",\"size\":10,\"solidity\":0.2}},\"type\":\"bar\"}],\"scattergeo\":[{\"type\":\"scattergeo\",\"marker\":{\"colorbar\":{\"outlinewidth\":0,\"ticks\":\"\"}}}],\"scatterpolar\":[{\"type\":\"scatterpolar\",\"marker\":{\"colorbar\":{\"outlinewidth\":0,\"ticks\":\"\"}}}],\"histogram\":[{\"marker\":{\"pattern\":{\"fillmode\":\"overlay\",\"size\":10,\"solidity\":0.2}},\"type\":\"histogram\"}],\"scattergl\":[{\"type\":\"scattergl\",\"marker\":{\"colorbar\":{\"outlinewidth\":0,\"ticks\":\"\"}}}],\"scatter3d\":[{\"type\":\"scatter3d\",\"line\":{\"colorbar\":{\"outlinewidth\":0,\"ticks\":\"\"}},\"marker\":{\"colorbar\":{\"outlinewidth\":0,\"ticks\":\"\"}}}],\"scattermapbox\":[{\"type\":\"scattermapbox\",\"marker\":{\"colorbar\":{\"outlinewidth\":0,\"ticks\":\"\"}}}],\"scatterternary\":[{\"type\":\"scatterternary\",\"marker\":{\"colorbar\":{\"outlinewidth\":0,\"ticks\":\"\"}}}],\"scattercarpet\":[{\"type\":\"scattercarpet\",\"marker\":{\"colorbar\":{\"outlinewidth\":0,\"ticks\":\"\"}}}],\"carpet\":[{\"aaxis\":{\"endlinecolor\":\"#2a3f5f\",\"gridcolor\":\"white\",\"linecolor\":\"white\",\"minorgridcolor\":\"white\",\"startlinecolor\":\"#2a3f5f\"},\"baxis\":{\"endlinecolor\":\"#2a3f5f\",\"gridcolor\":\"white\",\"linecolor\":\"white\",\"minorgridcolor\":\"white\",\"startlinecolor\":\"#2a3f5f\"},\"type\":\"carpet\"}],\"table\":[{\"cells\":{\"fill\":{\"color\":\"#EBF0F8\"},\"line\":{\"color\":\"white\"}},\"header\":{\"fill\":{\"color\":\"#C8D4E3\"},\"line\":{\"color\":\"white\"}},\"type\":\"table\"}],\"barpolar\":[{\"marker\":{\"line\":{\"color\":\"#E5ECF6\",\"width\":0.5},\"pattern\":{\"fillmode\":\"overlay\",\"size\":10,\"solidity\":0.2}},\"type\":\"barpolar\"}],\"pie\":[{\"automargin\":true,\"type\":\"pie\"}]},\"layout\":{\"autotypenumbers\":\"strict\",\"colorway\":[\"#636efa\",\"#EF553B\",\"#00cc96\",\"#ab63fa\",\"#FFA15A\",\"#19d3f3\",\"#FF6692\",\"#B6E880\",\"#FF97FF\",\"#FECB52\"],\"font\":{\"color\":\"#2a3f5f\"},\"hovermode\":\"closest\",\"hoverlabel\":{\"align\":\"left\"},\"paper_bgcolor\":\"white\",\"plot_bgcolor\":\"#E5ECF6\",\"polar\":{\"bgcolor\":\"#E5ECF6\",\"angularaxis\":{\"gridcolor\":\"white\",\"linecolor\":\"white\",\"ticks\":\"\"},\"radialaxis\":{\"gridcolor\":\"white\",\"linecolor\":\"white\",\"ticks\":\"\"}},\"ternary\":{\"bgcolor\":\"#E5ECF6\",\"aaxis\":{\"gridcolor\":\"white\",\"linecolor\":\"white\",\"ticks\":\"\"},\"baxis\":{\"gridcolor\":\"white\",\"linecolor\":\"white\",\"ticks\":\"\"},\"caxis\":{\"gridcolor\":\"white\",\"linecolor\":\"white\",\"ticks\":\"\"}},\"coloraxis\":{\"colorbar\":{\"outlinewidth\":0,\"ticks\":\"\"}},\"colorscale\":{\"sequential\":[[0.0,\"#0d0887\"],[0.1111111111111111,\"#46039f\"],[0.2222222222222222,\"#7201a8\"],[0.3333333333333333,\"#9c179e\"],[0.4444444444444444,\"#bd3786\"],[0.5555555555555556,\"#d8576b\"],[0.6666666666666666,\"#ed7953\"],[0.7777777777777778,\"#fb9f3a\"],[0.8888888888888888,\"#fdca26\"],[1.0,\"#f0f921\"]],\"sequentialminus\":[[0.0,\"#0d0887\"],[0.1111111111111111,\"#46039f\"],[0.2222222222222222,\"#7201a8\"],[0.3333333333333333,\"#9c179e\"],[0.4444444444444444,\"#bd3786\"],[0.5555555555555556,\"#d8576b\"],[0.6666666666666666,\"#ed7953\"],[0.7777777777777778,\"#fb9f3a\"],[0.8888888888888888,\"#fdca26\"],[1.0,\"#f0f921\"]],\"diverging\":[[0,\"#8e0152\"],[0.1,\"#c51b7d\"],[0.2,\"#de77ae\"],[0.3,\"#f1b6da\"],[0.4,\"#fde0ef\"],[0.5,\"#f7f7f7\"],[0.6,\"#e6f5d0\"],[0.7,\"#b8e186\"],[0.8,\"#7fbc41\"],[0.9,\"#4d9221\"],[1,\"#276419\"]]},\"xaxis\":{\"gridcolor\":\"white\",\"linecolor\":\"white\",\"ticks\":\"\",\"title\":{\"standoff\":15},\"zerolinecolor\":\"white\",\"automargin\":true,\"zerolinewidth\":2},\"yaxis\":{\"gridcolor\":\"white\",\"linecolor\":\"white\",\"ticks\":\"\",\"title\":{\"standoff\":15},\"zerolinecolor\":\"white\",\"automargin\":true,\"zerolinewidth\":2},\"scene\":{\"xaxis\":{\"backgroundcolor\":\"#E5ECF6\",\"gridcolor\":\"white\",\"linecolor\":\"white\",\"showbackground\":true,\"ticks\":\"\",\"zerolinecolor\":\"white\",\"gridwidth\":2},\"yaxis\":{\"backgroundcolor\":\"#E5ECF6\",\"gridcolor\":\"white\",\"linecolor\":\"white\",\"showbackground\":true,\"ticks\":\"\",\"zerolinecolor\":\"white\",\"gridwidth\":2},\"zaxis\":{\"backgroundcolor\":\"#E5ECF6\",\"gridcolor\":\"white\",\"linecolor\":\"white\",\"showbackground\":true,\"ticks\":\"\",\"zerolinecolor\":\"white\",\"gridwidth\":2}},\"shapedefaults\":{\"line\":{\"color\":\"#2a3f5f\"}},\"annotationdefaults\":{\"arrowcolor\":\"#2a3f5f\",\"arrowhead\":0,\"arrowwidth\":1},\"geo\":{\"bgcolor\":\"white\",\"landcolor\":\"#E5ECF6\",\"subunitcolor\":\"white\",\"showland\":true,\"showlakes\":true,\"lakecolor\":\"white\"},\"title\":{\"x\":0.05},\"mapbox\":{\"style\":\"light\"}}},\"xaxis\":{\"anchor\":\"y\",\"domain\":[0.0,1.0],\"title\":{\"text\":\"jumlah_balita\"}},\"yaxis\":{\"anchor\":\"x\",\"domain\":[0.0,1.0],\"title\":{\"text\":\"stunting\"}},\"coloraxis\":{\"colorbar\":{\"title\":{\"text\":\"Clusters\"}},\"colorscale\":[[0.0,\"#0d0887\"],[0.1111111111111111,\"#46039f\"],[0.2222222222222222,\"#7201a8\"],[0.3333333333333333,\"#9c179e\"],[0.4444444444444444,\"#bd3786\"],[0.5555555555555556,\"#d8576b\"],[0.6666666666666666,\"#ed7953\"],[0.7777777777777778,\"#fb9f3a\"],[0.8888888888888888,\"#fdca26\"],[1.0,\"#f0f921\"]]},\"legend\":{\"tracegroupgap\":0},\"margin\":{\"t\":60}},                        {\"responsive\": true}                    ).then(function(){\n",
       "                            \n",
       "var gd = document.getElementById('64e8098f-d251-4163-b55c-c6d31f77822d');\n",
       "var x = new MutationObserver(function (mutations, observer) {{\n",
       "        var display = window.getComputedStyle(gd).display;\n",
       "        if (!display || display === 'none') {{\n",
       "            console.log([gd, 'removed!']);\n",
       "            Plotly.purge(gd);\n",
       "            observer.disconnect();\n",
       "        }}\n",
       "}});\n",
       "\n",
       "// Listen for the removal of the full notebook cells\n",
       "var notebookContainer = gd.closest('#notebook-container');\n",
       "if (notebookContainer) {{\n",
       "    x.observe(notebookContainer, {childList: true});\n",
       "}}\n",
       "\n",
       "// Listen for the clearing of the current output cell\n",
       "var outputEl = gd.closest('.output');\n",
       "if (outputEl) {{\n",
       "    x.observe(outputEl, {childList: true});\n",
       "}}\n",
       "\n",
       "                        })                };                });            </script>        </div>"
      ]
     },
     "metadata": {},
     "output_type": "display_data"
    },
    {
     "data": {
      "text/plain": [
       "<Figure size 1200x800 with 0 Axes>"
      ]
     },
     "metadata": {},
     "output_type": "display_data"
    }
   ],
   "source": [
    "plt.figure(figsize=[12, 8])\n",
    "\n",
    "fig = px.scatter(stunting_data_fix, x=\"jumlah_balita\", y=\"stunting\", color=\"Clusters\")\n",
    "\n",
    "fig.show()"
   ]
  },
  {
   "cell_type": "code",
   "execution_count": 75,
   "id": "6f5ef346",
   "metadata": {
    "tags": []
   },
   "outputs": [
    {
     "data": {
      "text/html": [
       "<div>\n",
       "<style scoped>\n",
       "    .dataframe tbody tr th:only-of-type {\n",
       "        vertical-align: middle;\n",
       "    }\n",
       "\n",
       "    .dataframe tbody tr th {\n",
       "        vertical-align: top;\n",
       "    }\n",
       "\n",
       "    .dataframe thead th {\n",
       "        text-align: right;\n",
       "    }\n",
       "</style>\n",
       "<table border=\"1\" class=\"dataframe\">\n",
       "  <thead>\n",
       "    <tr style=\"text-align: right;\">\n",
       "      <th></th>\n",
       "      <th>Clusters</th>\n",
       "      <th>puskesmas</th>\n",
       "    </tr>\n",
       "  </thead>\n",
       "  <tbody>\n",
       "    <tr>\n",
       "      <th>0</th>\n",
       "      <td>2</td>\n",
       "      <td>WONOTUNGGAL</td>\n",
       "    </tr>\n",
       "    <tr>\n",
       "      <th>1</th>\n",
       "      <td>2</td>\n",
       "      <td>WONOTUNGGAL</td>\n",
       "    </tr>\n",
       "    <tr>\n",
       "      <th>2</th>\n",
       "      <td>1</td>\n",
       "      <td>WONOTUNGGAL</td>\n",
       "    </tr>\n",
       "    <tr>\n",
       "      <th>3</th>\n",
       "      <td>2</td>\n",
       "      <td>WONOTUNGGAL</td>\n",
       "    </tr>\n",
       "    <tr>\n",
       "      <th>4</th>\n",
       "      <td>2</td>\n",
       "      <td>WONOTUNGGAL</td>\n",
       "    </tr>\n",
       "    <tr>\n",
       "      <th>...</th>\n",
       "      <td>...</td>\n",
       "      <td>...</td>\n",
       "    </tr>\n",
       "    <tr>\n",
       "      <th>243</th>\n",
       "      <td>1</td>\n",
       "      <td>WARUNGASEM</td>\n",
       "    </tr>\n",
       "    <tr>\n",
       "      <th>244</th>\n",
       "      <td>2</td>\n",
       "      <td>WARUNGASEM</td>\n",
       "    </tr>\n",
       "    <tr>\n",
       "      <th>245</th>\n",
       "      <td>2</td>\n",
       "      <td>WARUNGASEM</td>\n",
       "    </tr>\n",
       "    <tr>\n",
       "      <th>246</th>\n",
       "      <td>2</td>\n",
       "      <td>WARUNGASEM</td>\n",
       "    </tr>\n",
       "    <tr>\n",
       "      <th>247</th>\n",
       "      <td>2</td>\n",
       "      <td>WARUNGASEM</td>\n",
       "    </tr>\n",
       "  </tbody>\n",
       "</table>\n",
       "<p>248 rows × 2 columns</p>\n",
       "</div>"
      ],
      "text/plain": [
       "     Clusters    puskesmas\n",
       "0           2  WONOTUNGGAL\n",
       "1           2  WONOTUNGGAL\n",
       "2           1  WONOTUNGGAL\n",
       "3           2  WONOTUNGGAL\n",
       "4           2  WONOTUNGGAL\n",
       "..        ...          ...\n",
       "243         1   WARUNGASEM\n",
       "244         2   WARUNGASEM\n",
       "245         2   WARUNGASEM\n",
       "246         2   WARUNGASEM\n",
       "247         2   WARUNGASEM\n",
       "\n",
       "[248 rows x 2 columns]"
      ]
     },
     "execution_count": 75,
     "metadata": {},
     "output_type": "execute_result"
    }
   ],
   "source": [
    "crop_label = stunting_data_fix['puskesmas']\n",
    "cluster_pred = stunting_data_fix[\"Clusters\"]\n",
    "\n",
    "prediction_label_df = pd.concat([cluster_pred , crop_label], axis = 1)\n",
    "\n",
    "prediction_label_df"
   ]
  },
  {
   "cell_type": "code",
   "execution_count": 76,
   "id": "712a58b2",
   "metadata": {
    "scrolled": true
   },
   "outputs": [
    {
     "name": "stdout",
     "output_type": "stream",
     "text": [
      "Stunting Cluster 1: ['BANDAR I' 'REBAN' 'BAWANG' 'GRINGSING I' 'PECALUNGAN' 'KANDEMAN'\n",
      " 'BATANG III' 'BATANG IV']\n",
      "-------------------------------------\n",
      "Stunting Cluster 2: ['WONOTUNGGAL' 'BANDAR I' 'BLADO I' 'BLADO II' 'REBAN' 'BAWANG' 'LIMPUNG'\n",
      " 'SUBAH' 'PECALUNGAN' 'TULIS' 'KANDEMAN' 'BATANG III' 'WARUNGASEM']\n",
      "-------------------------------------\n",
      "Stunting Cluster 3: ['WONOTUNGGAL' 'BANDAR I' 'BANDAR II' 'BLADO I' 'BLADO II' 'REBAN'\n",
      " 'BAWANG' 'TERSONO' 'GRINGSING I' 'GRINGSING II' 'LIMPUNG' 'BANYUPUTIH'\n",
      " 'SUBAH' 'PECALUNGAN' 'TULIS' 'KANDEMAN' 'BATANG I' 'BATANG IV'\n",
      " 'WARUNGASEM']\n",
      "-------------------------------------\n",
      "Stunting Cluster 4: ['BANDAR I' 'BATANG II' 'BATANG III' 'BATANG IV']\n",
      "-------------------------------------\n",
      "Stunting Cluster 5: ['WONOTUNGGAL' 'BANDAR I' 'BANDAR II' 'BLADO I' 'BAWANG' 'TERSONO'\n",
      " 'GRINGSING I' 'LIMPUNG' 'BANYUPUTIH' 'SUBAH' 'PECALUNGAN' 'TULIS'\n",
      " 'BATANG I' 'BATANG II' 'BATANG IV' 'WARUNGASEM']\n"
     ]
    }
   ],
   "source": [
    "print(\"Stunting Cluster 1:\", prediction_label_df[prediction_label_df[\"Clusters\"] == 0]['puskesmas'].unique())\n",
    "print(\"-------------------------------------\")\n",
    "print(\"Stunting Cluster 2:\", prediction_label_df[prediction_label_df[\"Clusters\"] == 1]['puskesmas'].unique())\n",
    "print(\"-------------------------------------\")\n",
    "print(\"Stunting Cluster 3:\", prediction_label_df[prediction_label_df[\"Clusters\"] == 2]['puskesmas'].unique())\n",
    "print(\"-------------------------------------\")\n",
    "print(\"Stunting Cluster 4:\", prediction_label_df[prediction_label_df[\"Clusters\"] == 3]['puskesmas'].unique())\n",
    "print(\"-------------------------------------\")\n",
    "print(\"Stunting Cluster 5:\", prediction_label_df[prediction_label_df[\"Clusters\"] == 4]['puskesmas'].unique())"
   ]
  },
  {
   "cell_type": "code",
   "execution_count": 77,
   "id": "0d5ea339",
   "metadata": {},
   "outputs": [
    {
     "data": {
      "text/plain": [
       "Index(['jumlah_balita', 'stunting'], dtype='object')"
      ]
     },
     "execution_count": 77,
     "metadata": {},
     "output_type": "execute_result"
    }
   ],
   "source": [
    "stunting_data_fix.columns[1:3]"
   ]
  },
  {
   "cell_type": "code",
   "execution_count": 78,
   "id": "6e51b0f2",
   "metadata": {},
   "outputs": [
    {
     "data": {
      "image/png": "[encoded data removed]",
      "text/plain": [
       "<Figure size 1900x700 with 1 Axes>"
      ]
     },
     "metadata": {},
     "output_type": "display_data"
    },
    {
     "data": {
      "image/png": "[encoded data removed]",
      "text/plain": [
       "<Figure size 1900x700 with 1 Axes>"
      ]
     },
     "metadata": {},
     "output_type": "display_data"
    }
   ],
   "source": [
    "for column in stunting_data_fix.columns[1:3]:\n",
    "    \n",
    "    plt.figure(figsize=[19, 7])\n",
    "    sns.barplot(x=\"Clusters\", y=column, data = stunting_data_fix)\n",
    "    plt.xticks(rotation=90)\n",
    "    plt.title(f\"{column} vs Crop Type\")\n",
    "    plt.show()"
   ]
  },
  {
   "cell_type": "code",
   "execution_count": 79,
   "id": "14283b86",
   "metadata": {},
   "outputs": [
    {
     "data": {
      "text/plain": [
       "'puskesmas'"
      ]
     },
     "execution_count": 79,
     "metadata": {},
     "output_type": "execute_result"
    }
   ],
   "source": [
    "prediction_label_df.columns[1]"
   ]
  },
  {
   "cell_type": "code",
   "execution_count": 80,
   "id": "7bbee1d8",
   "metadata": {},
   "outputs": [
    {
     "name": "stdout",
     "output_type": "stream",
     "text": [
      "       puskesmas  jumlah_balita  stunting  Clusters\n",
      "16      BANDAR I            240        44         0\n",
      "17      BANDAR I            316        42         0\n",
      "51         REBAN            158        61         0\n",
      "54         REBAN            149        39         0\n",
      "57         REBAN            196        45         0\n",
      "58         REBAN            158        46         0\n",
      "69        BAWANG             97        43         0\n",
      "70        BAWANG            230        64         0\n",
      "72        BAWANG            126        43         0\n",
      "74        BAWANG            160        53         0\n",
      "76        BAWANG            230        69         0\n",
      "78        BAWANG            202        40         0\n",
      "82        BAWANG            240        65         0\n",
      "84        BAWANG            114        42         0\n",
      "85        BAWANG            156        42         0\n",
      "88        BAWANG            169        44         0\n",
      "113  GRINGSING I            261        35         0\n",
      "169   PECALUNGAN            297        44         0\n",
      "171   PECALUNGAN            265        55         0\n",
      "172   PECALUNGAN            203        48         0\n",
      "173   PECALUNGAN            249        44         0\n",
      "205     KANDEMAN            211        38         0\n",
      "207     KANDEMAN            269        34         0\n",
      "208     KANDEMAN            264        59         0\n",
      "218   BATANG III            310        63         0\n",
      "220   BATANG III            340        54         0\n",
      "221   BATANG III            295        66         0\n",
      "229    BATANG IV            293        34         0\n",
      "=====\n",
      "       puskesmas  jumlah_balita  stunting  Clusters\n",
      "2    WONOTUNGGAL            122        22         1\n",
      "19      BANDAR I            172        16         1\n",
      "20      BANDAR I            132        16         1\n",
      "21      BANDAR I            167        16         1\n",
      "36       BLADO I            201        28         1\n",
      "37       BLADO I            217        32         1\n",
      "42       BLADO I            187        20         1\n",
      "44      BLADO II            196        30         1\n",
      "48      BLADO II            222        31         1\n",
      "49      BLADO II            194        19         1\n",
      "50         REBAN            101        24         1\n",
      "53         REBAN            102        31         1\n",
      "55         REBAN            169        27         1\n",
      "59         REBAN            101        28         1\n",
      "60         REBAN            121        23         1\n",
      "61         REBAN            112        17         1\n",
      "62         REBAN             94        27         1\n",
      "63         REBAN            151        36         1\n",
      "67         REBAN            145        24         1\n",
      "68         REBAN             97        18         1\n",
      "71        BAWANG             85        27         1\n",
      "77        BAWANG            117        25         1\n",
      "79        BAWANG             97        30         1\n",
      "80        BAWANG             78        21         1\n",
      "81        BAWANG            230        29         1\n",
      "86        BAWANG             75        23         1\n",
      "87        BAWANG             70        24         1\n",
      "126      LIMPUNG            123        32         1\n",
      "127      LIMPUNG            165        18         1\n",
      "130      LIMPUNG            118        25         1\n",
      "133      LIMPUNG            197        25         1\n",
      "135      LIMPUNG            147        35         1\n",
      "139      LIMPUNG            148        26         1\n",
      "140      LIMPUNG             96        22         1\n",
      "153        SUBAH            151        17         1\n",
      "156        SUBAH            120        21         1\n",
      "158        SUBAH            177        15         1\n",
      "161        SUBAH            182        24         1\n",
      "167        SUBAH            128        18         1\n",
      "168        SUBAH            210        31         1\n",
      "177   PECALUNGAN            101        19         1\n",
      "180        TULIS            191        19         1\n",
      "187        TULIS            180        23         1\n",
      "188        TULIS            167        19         1\n",
      "193        TULIS            174        29         1\n",
      "197     KANDEMAN            117        22         1\n",
      "198     KANDEMAN            167        28         1\n",
      "200     KANDEMAN            119        18         1\n",
      "201     KANDEMAN            221        27         1\n",
      "202     KANDEMAN            143        32         1\n",
      "203     KANDEMAN            140        25         1\n",
      "204     KANDEMAN             98        22         1\n",
      "219   BATANG III            241        31         1\n",
      "223   BATANG III            138        16         1\n",
      "237   WARUNGASEM            174        18         1\n",
      "243   WARUNGASEM            184        17         1\n",
      "=====\n",
      "       puskesmas  jumlah_balita  stunting  Clusters\n",
      "0    WONOTUNGGAL            113        11         2\n",
      "1    WONOTUNGGAL            100         7         2\n",
      "3    WONOTUNGGAL            152         9         2\n",
      "4    WONOTUNGGAL            156        11         2\n",
      "8    WONOTUNGGAL             89         9         2\n",
      "..           ...            ...       ...       ...\n",
      "242   WARUNGASEM            126         6         2\n",
      "244   WARUNGASEM            159         5         2\n",
      "245   WARUNGASEM            119         4         2\n",
      "246   WARUNGASEM            154         4         2\n",
      "247   WARUNGASEM            122         1         2\n",
      "\n",
      "[120 rows x 4 columns]\n",
      "=====\n",
      "      puskesmas  jumlah_balita  stunting  Clusters\n",
      "25     BANDAR I            454        54         3\n",
      "216   BATANG II            827        36         3\n",
      "217   BATANG II            600        39         3\n",
      "222  BATANG III            533        79         3\n",
      "224   BATANG IV            731        59         3\n",
      "=====\n",
      "       puskesmas  jumlah_balita  stunting  Clusters\n",
      "5    WONOTUNGGAL            347        22         4\n",
      "6    WONOTUNGGAL            225         6         4\n",
      "7    WONOTUNGGAL            226        14         4\n",
      "12   WONOTUNGGAL            270         7         4\n",
      "18      BANDAR I            381        17         4\n",
      "22      BANDAR I            237        22         4\n",
      "24      BANDAR I            302        20         4\n",
      "26     BANDAR II            347        18         4\n",
      "27     BANDAR II            262        13         4\n",
      "28     BANDAR II            206         9         4\n",
      "29     BANDAR II            262        15         4\n",
      "39       BLADO I            232        18         4\n",
      "75        BAWANG            251        27         4\n",
      "101      TERSONO            225        13         4\n",
      "102      TERSONO            233         7         4\n",
      "109  GRINGSING I            347         9         4\n",
      "110  GRINGSING I            281        21         4\n",
      "112  GRINGSING I            206        13         4\n",
      "114  GRINGSING I            223        13         4\n",
      "118  GRINGSING I            213         9         4\n",
      "124      LIMPUNG            235        13         4\n",
      "143   BANYUPUTIH            361         1         4\n",
      "144   BANYUPUTIH            260        11         4\n",
      "151   BANYUPUTIH            287        27         4\n",
      "159        SUBAH            236        15         4\n",
      "163        SUBAH            402        14         4\n",
      "164        SUBAH            268        19         4\n",
      "165        SUBAH            231        19         4\n",
      "175   PECALUNGAN            250        13         4\n",
      "179        TULIS            263        25         4\n",
      "210     BATANG I            380        15         4\n",
      "211     BATANG I            328        29         4\n",
      "212     BATANG I            307        28         4\n",
      "213     BATANG I            307        21         4\n",
      "214    BATANG II            306         6         4\n",
      "215    BATANG II            364        10         4\n",
      "228    BATANG IV            332        29         4\n",
      "230   WARUNGASEM            242        14         4\n",
      "241   WARUNGASEM            279         2         4\n",
      "=====\n",
      "Empty DataFrame\n",
      "Columns: [puskesmas, jumlah_balita, stunting, Clusters]\n",
      "Index: []\n",
      "=====\n"
     ]
    }
   ],
   "source": [
    "print(stunting_data_fix[prediction_label_df.Clusters == 0 ])\n",
    "print(\"=====\")\n",
    "print(stunting_data_fix[prediction_label_df.Clusters == 1 ])\n",
    "print(\"=====\")\n",
    "print(stunting_data_fix[prediction_label_df.Clusters == 2 ])\n",
    "print(\"=====\")\n",
    "print(stunting_data_fix[prediction_label_df.Clusters == 3 ])\n",
    "print(\"=====\")\n",
    "print(stunting_data_fix[prediction_label_df.Clusters == 4 ])\n",
    "print(\"=====\")\n",
    "print(stunting_data_fix[prediction_label_df.Clusters == 5 ])\n",
    "print(\"=====\")"
   ]
  },
  {
   "cell_type": "code",
   "execution_count": null,
   "id": "df643094",
   "metadata": {},
   "outputs": [],
   "source": []
  }
 ],
 "metadata": {
  "kernelspec": {
   "display_name": "Python 3 (ipykernel)",
   "language": "python",
   "name": "python3"
  },
  "language_info": {
   "codemirror_mode": {
    "name": "ipython",
    "version": 3
   },
   "file_extension": ".py",
   "mimetype": "text/x-python",
   "name": "python",
   "nbconvert_exporter": "python",
   "pygments_lexer": "ipython3",
   "version": "3.11.5"
  }
 },
 "nbformat": 4,
 "nbformat_minor": 5
}
